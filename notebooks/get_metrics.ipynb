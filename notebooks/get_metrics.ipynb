{
 "cells": [
  {
   "cell_type": "markdown",
   "metadata": {},
   "source": [
    "## Notebook to compute the precision and recall metrics for the training and test sets of the models"
   ]
  },
  {
   "cell_type": "code",
   "execution_count": 1,
   "metadata": {},
   "outputs": [],
   "source": [
    "import pandas as pd\n",
    "import numpy as np\n",
    "\n",
    "from sklearn.preprocessing import MinMaxScaler, StandardScaler\n",
    "from sklearn.model_selection import train_test_split, StratifiedKFold\n",
    "from sklearn.linear_model import LogisticRegression\n",
    "from sklearn.feature_selection import VarianceThreshold, SelectKBest, chi2, mutual_info_classif\n",
    "from sklearn.model_selection import cross_val_score\n",
    "from sklearn.metrics import confusion_matrix, classification_report\n",
    "\n",
    "import seaborn as sn\n",
    "import matplotlib.pyplot as plt"
   ]
  },
  {
   "cell_type": "markdown",
   "metadata": {},
   "source": [
    "### Training set"
   ]
  },
  {
   "cell_type": "code",
   "execution_count": null,
   "metadata": {},
   "outputs": [],
   "source": [
    "import ast\n",
    "res_train = pd.read_csv(\"../results/miRNA/VAE/300_hidden_100_emb/tcga_classifier_dropout_0.4_in_0.8_hidden_rec_loss_binary_crossentropy_classifier_cv_final_other_metrics.csv\")"
   ]
  },
  {
   "cell_type": "code",
   "execution_count": null,
   "metadata": {},
   "outputs": [],
   "source": [
    "from statistics import stdev\n",
    "subtypes = [\"Basal\", \"Her2\", \"LumA\", \"LumB\", \"Normal\"]\n",
    "weights_train=[135,65,415,176,25]\n",
    "mean_precisions = []\n",
    "mean_recalls = []\n",
    "\n",
    "for i in range(0,5):\n",
    "    dict_aux = ast.literal_eval(res_train[\"other_metrics\"].values[i])\n",
    "    arr_pre = []\n",
    "    arr_rec = []\n",
    "    for sub in subtypes:\n",
    "        arr_pre.append(dict_aux[sub]['precision'])\n",
    "        arr_rec.append(dict_aux[sub]['recall'])\n",
    "    mean_precisions.append(np.average(arr_pre, weights=weights_train))\n",
    "    mean_recalls.append(np.average(arr_rec, weights=weights_train))\n",
    "    \n",
    "print(mean_precisions)\n",
    "print('{}+-{}'.format(np.mean(mean_precisions), stdev(mean_precisions)))\n",
    "print(\"----------------\")\n",
    "print(mean_recalls)\n",
    "print('{}+-{}'.format(np.mean(mean_recalls), stdev(mean_recalls)))"
   ]
  },
  {
   "cell_type": "code",
   "execution_count": null,
   "metadata": {},
   "outputs": [],
   "source": [
    "print(\"Average accuracy: {}+-{}\".format(np.mean(res_train[\"accuracy\"].values, stdev(res_train[\"accuracy\"].values))))"
   ]
  },
  {
   "cell_type": "markdown",
   "metadata": {},
   "source": [
    "### Test set"
   ]
  },
  {
   "cell_type": "code",
   "execution_count": null,
   "metadata": {},
   "outputs": [],
   "source": [
    "res_test = pd.read_csv(\"../results/miRNA/VAE/300_hidden_100_emb/tcga_classifier_dropout_0.4_in_0.8_hidden_rec_loss_binary_crossentropy_classifier_final_test_other_metrics.csv\")"
   ]
  },
  {
   "cell_type": "code",
   "execution_count": null,
   "metadata": {},
   "outputs": [],
   "source": [
    "subtypes = [\"Basal\", \"Her2\", \"LumA\", \"LumB\", \"Normal\"]\n",
    "weights_test=[36,15,128,26,14]\n",
    "mean_precisions = []\n",
    "mean_recalls = []\n",
    "\n",
    "dict_aux = ast.literal_eval(bacd_test['other_metrics'][1])\n",
    "arr_pre = []\n",
    "arr_rec = []\n",
    "for sub in subtypes:\n",
    "    arr_pre.append(dict_aux[sub]['precision'])\n",
    "    arr_rec.append(dict_aux[sub]['recall'])\n",
    "mean_precisions.append(np.average(arr_pre, weights=weights_test))\n",
    "mean_recalls.append(np.average(arr_rec, weights=weights_test))\n",
    "    \n",
    "print(mean_precisions)\n",
    "print(mean_recalls)"
   ]
  },
  {
   "cell_type": "code",
   "execution_count": null,
   "metadata": {},
   "outputs": [],
   "source": [
    "print(\"Average accuracy: {}\".format(np.mean(res_test[\"accuracy\"].values)))"
   ]
  }
 ],
 "metadata": {
  "kernelspec": {
   "display_name": "thesis",
   "language": "python",
   "name": "thesis"
  },
  "language_info": {
   "codemirror_mode": {
    "name": "ipython",
    "version": 3
   },
   "file_extension": ".py",
   "mimetype": "text/x-python",
   "name": "python",
   "nbconvert_exporter": "python",
   "pygments_lexer": "ipython3",
   "version": "3.7.4"
  }
 },
 "nbformat": 4,
 "nbformat_minor": 2
}
