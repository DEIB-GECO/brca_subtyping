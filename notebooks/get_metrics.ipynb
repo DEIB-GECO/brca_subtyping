{
 "cells": [
  {
   "cell_type": "markdown",
   "metadata": {},
   "source": [
    "## Notebook to compute the precision and recall metrics for the training and test sets of the models"
   ]
  },
  {
   "cell_type": "code",
   "execution_count": 1,
   "metadata": {},
   "outputs": [],
   "source": [
    "import pandas as pd\n",
    "import numpy as np\n",
    "\n",
    "from sklearn.preprocessing import MinMaxScaler, StandardScaler\n",
    "from sklearn.model_selection import train_test_split, StratifiedKFold\n",
    "from sklearn.linear_model import LogisticRegression\n",
    "from sklearn.feature_selection import VarianceThreshold, SelectKBest, chi2, mutual_info_classif\n",
    "from sklearn.model_selection import cross_val_score\n",
    "from sklearn.metrics import confusion_matrix, classification_report\n",
    "\n",
    "import seaborn as sn\n",
    "import matplotlib.pyplot as plt"
   ]
  },
  {
   "cell_type": "markdown",
   "metadata": {},
   "source": [
    "### Training set"
   ]
  },
  {
   "cell_type": "code",
   "execution_count": 42,
   "metadata": {},
   "outputs": [],
   "source": [
    "import ast\n",
    "res_train = pd.read_csv(\"../results/run2_for_conf_matrix/VAE/100_hidden_20_emb/tcga_classifier_dropout_0.6_in_0.8_hidden_rec_loss_binary_crossentropy_classifier_cv_final_other_metrics.csv\")"
   ]
  },
  {
   "cell_type": "code",
   "execution_count": 43,
   "metadata": {},
   "outputs": [
    {
     "data": {
      "text/html": [
       "<div>\n",
       "<style scoped>\n",
       "    .dataframe tbody tr th:only-of-type {\n",
       "        vertical-align: middle;\n",
       "    }\n",
       "\n",
       "    .dataframe tbody tr th {\n",
       "        vertical-align: top;\n",
       "    }\n",
       "\n",
       "    .dataframe thead th {\n",
       "        text-align: right;\n",
       "    }\n",
       "</style>\n",
       "<table border=\"1\" class=\"dataframe\">\n",
       "  <thead>\n",
       "    <tr style=\"text-align: right;\">\n",
       "      <th></th>\n",
       "      <th>Unnamed: 0</th>\n",
       "      <th>Fold</th>\n",
       "      <th>accuracy</th>\n",
       "      <th>other_metrics</th>\n",
       "      <th>mean_accuracy</th>\n",
       "      <th>intermediate_dim</th>\n",
       "      <th>latent_dim</th>\n",
       "      <th>batch_size</th>\n",
       "      <th>epochs_vae</th>\n",
       "      <th>learning_rate</th>\n",
       "      <th>dropout_input</th>\n",
       "      <th>dropout_hidden</th>\n",
       "      <th>dropout_decoder</th>\n",
       "      <th>freeze_weights</th>\n",
       "      <th>classifier_use_z</th>\n",
       "      <th>classifier_loss</th>\n",
       "      <th>reconstruction_loss</th>\n",
       "    </tr>\n",
       "  </thead>\n",
       "  <tbody>\n",
       "    <tr>\n",
       "      <th>0</th>\n",
       "      <td>0</td>\n",
       "      <td>1</td>\n",
       "      <td>0.824242</td>\n",
       "      <td>{'Basal': {'precision': 0.9333333333333333, 'r...</td>\n",
       "      <td>0.8581</td>\n",
       "      <td>100</td>\n",
       "      <td>20</td>\n",
       "      <td>200</td>\n",
       "      <td>100</td>\n",
       "      <td>0.01</td>\n",
       "      <td>0.6</td>\n",
       "      <td>0.8</td>\n",
       "      <td>True</td>\n",
       "      <td>False</td>\n",
       "      <td>False</td>\n",
       "      <td>categorical_crossentropy</td>\n",
       "      <td>binary_crossentropy</td>\n",
       "    </tr>\n",
       "    <tr>\n",
       "      <th>1</th>\n",
       "      <td>1</td>\n",
       "      <td>2</td>\n",
       "      <td>0.858896</td>\n",
       "      <td>{'Basal': {'precision': 1.0, 'recall': 0.96296...</td>\n",
       "      <td>0.8581</td>\n",
       "      <td>100</td>\n",
       "      <td>20</td>\n",
       "      <td>200</td>\n",
       "      <td>100</td>\n",
       "      <td>0.01</td>\n",
       "      <td>0.6</td>\n",
       "      <td>0.8</td>\n",
       "      <td>True</td>\n",
       "      <td>False</td>\n",
       "      <td>False</td>\n",
       "      <td>categorical_crossentropy</td>\n",
       "      <td>binary_crossentropy</td>\n",
       "    </tr>\n",
       "    <tr>\n",
       "      <th>2</th>\n",
       "      <td>2</td>\n",
       "      <td>3</td>\n",
       "      <td>0.920245</td>\n",
       "      <td>{'Basal': {'precision': 0.9642857142857143, 'r...</td>\n",
       "      <td>0.8581</td>\n",
       "      <td>100</td>\n",
       "      <td>20</td>\n",
       "      <td>200</td>\n",
       "      <td>100</td>\n",
       "      <td>0.01</td>\n",
       "      <td>0.6</td>\n",
       "      <td>0.8</td>\n",
       "      <td>True</td>\n",
       "      <td>False</td>\n",
       "      <td>False</td>\n",
       "      <td>categorical_crossentropy</td>\n",
       "      <td>binary_crossentropy</td>\n",
       "    </tr>\n",
       "    <tr>\n",
       "      <th>3</th>\n",
       "      <td>3</td>\n",
       "      <td>4</td>\n",
       "      <td>0.834356</td>\n",
       "      <td>{'Basal': {'precision': 0.9, 'recall': 1.0, 'f...</td>\n",
       "      <td>0.8581</td>\n",
       "      <td>100</td>\n",
       "      <td>20</td>\n",
       "      <td>200</td>\n",
       "      <td>100</td>\n",
       "      <td>0.01</td>\n",
       "      <td>0.6</td>\n",
       "      <td>0.8</td>\n",
       "      <td>True</td>\n",
       "      <td>False</td>\n",
       "      <td>False</td>\n",
       "      <td>categorical_crossentropy</td>\n",
       "      <td>binary_crossentropy</td>\n",
       "    </tr>\n",
       "    <tr>\n",
       "      <th>4</th>\n",
       "      <td>4</td>\n",
       "      <td>5</td>\n",
       "      <td>0.852761</td>\n",
       "      <td>{'Basal': {'precision': 0.896551724137931, 're...</td>\n",
       "      <td>0.8581</td>\n",
       "      <td>100</td>\n",
       "      <td>20</td>\n",
       "      <td>200</td>\n",
       "      <td>100</td>\n",
       "      <td>0.01</td>\n",
       "      <td>0.6</td>\n",
       "      <td>0.8</td>\n",
       "      <td>True</td>\n",
       "      <td>False</td>\n",
       "      <td>False</td>\n",
       "      <td>categorical_crossentropy</td>\n",
       "      <td>binary_crossentropy</td>\n",
       "    </tr>\n",
       "  </tbody>\n",
       "</table>\n",
       "</div>"
      ],
      "text/plain": [
       "   Unnamed: 0  Fold  accuracy  \\\n",
       "0           0     1  0.824242   \n",
       "1           1     2  0.858896   \n",
       "2           2     3  0.920245   \n",
       "3           3     4  0.834356   \n",
       "4           4     5  0.852761   \n",
       "\n",
       "                                       other_metrics  mean_accuracy  \\\n",
       "0  {'Basal': {'precision': 0.9333333333333333, 'r...         0.8581   \n",
       "1  {'Basal': {'precision': 1.0, 'recall': 0.96296...         0.8581   \n",
       "2  {'Basal': {'precision': 0.9642857142857143, 'r...         0.8581   \n",
       "3  {'Basal': {'precision': 0.9, 'recall': 1.0, 'f...         0.8581   \n",
       "4  {'Basal': {'precision': 0.896551724137931, 're...         0.8581   \n",
       "\n",
       "   intermediate_dim  latent_dim  batch_size  epochs_vae  learning_rate  \\\n",
       "0               100          20         200         100           0.01   \n",
       "1               100          20         200         100           0.01   \n",
       "2               100          20         200         100           0.01   \n",
       "3               100          20         200         100           0.01   \n",
       "4               100          20         200         100           0.01   \n",
       "\n",
       "   dropout_input  dropout_hidden  dropout_decoder  freeze_weights  \\\n",
       "0            0.6             0.8             True           False   \n",
       "1            0.6             0.8             True           False   \n",
       "2            0.6             0.8             True           False   \n",
       "3            0.6             0.8             True           False   \n",
       "4            0.6             0.8             True           False   \n",
       "\n",
       "   classifier_use_z           classifier_loss  reconstruction_loss  \n",
       "0             False  categorical_crossentropy  binary_crossentropy  \n",
       "1             False  categorical_crossentropy  binary_crossentropy  \n",
       "2             False  categorical_crossentropy  binary_crossentropy  \n",
       "3             False  categorical_crossentropy  binary_crossentropy  \n",
       "4             False  categorical_crossentropy  binary_crossentropy  "
      ]
     },
     "execution_count": 43,
     "metadata": {},
     "output_type": "execute_result"
    }
   ],
   "source": [
    "res_train"
   ]
  },
  {
   "cell_type": "code",
   "execution_count": 44,
   "metadata": {},
   "outputs": [
    {
     "data": {
      "text/plain": [
       "0    0.824242\n",
       "1    0.858896\n",
       "2    0.920245\n",
       "3    0.834356\n",
       "4    0.852761\n",
       "Name: accuracy, dtype: float64"
      ]
     },
     "execution_count": 44,
     "metadata": {},
     "output_type": "execute_result"
    }
   ],
   "source": [
    "res_train[\"accuracy\"]"
   ]
  },
  {
   "cell_type": "code",
   "execution_count": 45,
   "metadata": {},
   "outputs": [
    {
     "data": {
      "text/plain": [
       "0    0.8581\n",
       "1    0.8581\n",
       "2    0.8581\n",
       "3    0.8581\n",
       "4    0.8581\n",
       "Name: mean_accuracy, dtype: float64"
      ]
     },
     "execution_count": 45,
     "metadata": {},
     "output_type": "execute_result"
    }
   ],
   "source": [
    "res_train[\"mean_accuracy\"]"
   ]
  },
  {
   "cell_type": "code",
   "execution_count": 46,
   "metadata": {},
   "outputs": [
    {
     "data": {
      "text/plain": [
       "0    {'Basal': {'precision': 0.9333333333333333, 'r...\n",
       "1    {'Basal': {'precision': 1.0, 'recall': 0.96296...\n",
       "2    {'Basal': {'precision': 0.9642857142857143, 'r...\n",
       "3    {'Basal': {'precision': 0.9, 'recall': 1.0, 'f...\n",
       "4    {'Basal': {'precision': 0.896551724137931, 're...\n",
       "Name: other_metrics, dtype: object"
      ]
     },
     "execution_count": 46,
     "metadata": {},
     "output_type": "execute_result"
    }
   ],
   "source": [
    "res_train[\"other_metrics\"]"
   ]
  },
  {
   "cell_type": "code",
   "execution_count": 47,
   "metadata": {},
   "outputs": [
    {
     "name": "stdout",
     "output_type": "stream",
     "text": [
      "[0.8362909950569526, 0.8619205505093344, 0.921243548544162, 0.816650399702547, 0.8679067565253308]\n",
      "0.8608024500676654+-0.039544477117777754\n",
      "----------------\n",
      "[0.8242424242424242, 0.8588957055214724, 0.9202453987730062, 0.8343558282208589, 0.852760736196319]\n",
      "0.8581000185908161+-0.03742095871150875\n"
     ]
    }
   ],
   "source": [
    "from statistics import stdev\n",
    "subtypes = [\"Basal\", \"Her2\", \"LumA\", \"LumB\", \"Normal\"]\n",
    "mean_precisions = []\n",
    "mean_recalls = []\n",
    "\n",
    "for i in range(0,5):\n",
    "    dict_aux = ast.literal_eval(res_train[\"other_metrics\"].values[i])\n",
    "    mean_precisions.append(dict_aux['weighted avg']['precision'])\n",
    "    mean_recalls.append(dict_aux['weighted avg']['recall'])\n",
    "    \n",
    "print(mean_precisions)\n",
    "print('{}+-{}'.format(np.mean(mean_precisions), stdev(mean_precisions)))\n",
    "print(\"----------------\")\n",
    "print(mean_recalls)\n",
    "print('{}+-{}'.format(np.mean(mean_recalls), stdev(mean_recalls)))"
   ]
  },
  {
   "cell_type": "code",
   "execution_count": 48,
   "metadata": {},
   "outputs": [
    {
     "name": "stdout",
     "output_type": "stream",
     "text": [
      "Average accuracy: 0.8581000208854676+-0.03742096524681958\n"
     ]
    }
   ],
   "source": [
    "print(\"Average accuracy: {}+-{}\".format(np.mean(res_train[\"accuracy\"].values), stdev(res_train[\"accuracy\"].values)))"
   ]
  },
  {
   "cell_type": "markdown",
   "metadata": {},
   "source": [
    "### Test set"
   ]
  },
  {
   "cell_type": "code",
   "execution_count": null,
   "metadata": {},
   "outputs": [],
   "source": [
    "res_test = pd.read_csv(\"../results/miRNA/VAE/300_hidden_100_emb/tcga_classifier_dropout_0.4_in_0.8_hidden_rec_loss_binary_crossentropy_classifier_final_test_other_metrics.csv\")"
   ]
  },
  {
   "cell_type": "code",
   "execution_count": null,
   "metadata": {},
   "outputs": [],
   "source": [
    "subtypes = [\"Basal\", \"Her2\", \"LumA\", \"LumB\", \"Normal\"]\n",
    "weights_test=[36,15,128,26,14]\n",
    "mean_precisions = []\n",
    "mean_recalls = []\n",
    "\n",
    "dict_aux = ast.literal_eval(bacd_test['other_metrics'][1])\n",
    "arr_pre = []\n",
    "arr_rec = []\n",
    "for sub in subtypes:\n",
    "    arr_pre.append(dict_aux[sub]['precision'])\n",
    "    arr_rec.append(dict_aux[sub]['recall'])\n",
    "mean_precisions.append(np.average(arr_pre, weights=weights_test))\n",
    "mean_recalls.append(np.average(arr_rec, weights=weights_test))\n",
    "    \n",
    "print(mean_precisions)\n",
    "print(mean_recalls)"
   ]
  },
  {
   "cell_type": "code",
   "execution_count": null,
   "metadata": {},
   "outputs": [],
   "source": [
    "print(\"Average accuracy: {}\".format(np.mean(res_test[\"accuracy\"].values)))"
   ]
  }
 ],
 "metadata": {
  "kernelspec": {
   "display_name": "thesis",
   "language": "python",
   "name": "thesis"
  },
  "language_info": {
   "codemirror_mode": {
    "name": "ipython",
    "version": 3
   },
   "file_extension": ".py",
   "mimetype": "text/x-python",
   "name": "python",
   "nbconvert_exporter": "python",
   "pygments_lexer": "ipython3",
   "version": "3.7.4"
  }
 },
 "nbformat": 4,
 "nbformat_minor": 2
}
