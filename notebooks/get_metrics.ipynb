{
 "cells": [
  {
   "cell_type": "markdown",
   "metadata": {},
   "source": [
    "## Notebook to compute the precision and recall metrics for the training and test sets of the models"
   ]
  },
  {
   "cell_type": "code",
   "execution_count": 1,
   "metadata": {},
   "outputs": [],
   "source": [
    "import pandas as pd\n",
    "import numpy as np\n",
    "\n",
    "from sklearn.preprocessing import MinMaxScaler, StandardScaler\n",
    "from sklearn.model_selection import train_test_split, StratifiedKFold\n",
    "from sklearn.linear_model import LogisticRegression\n",
    "from sklearn.feature_selection import VarianceThreshold, SelectKBest, chi2, mutual_info_classif\n",
    "from sklearn.model_selection import cross_val_score\n",
    "from sklearn.metrics import confusion_matrix, classification_report\n",
    "\n",
    "import seaborn as sn\n",
    "import matplotlib.pyplot as plt"
   ]
  },
  {
   "cell_type": "markdown",
   "metadata": {},
   "source": [
    "### Training set"
   ]
  },
  {
   "cell_type": "code",
   "execution_count": 26,
   "metadata": {},
   "outputs": [],
   "source": [
    "aux_thesis = pd.read_pickle(\"../data/cna_brca_train_0.8_threshold_0.6_chrX.pkl\")"
   ]
  },
  {
   "cell_type": "code",
   "execution_count": 27,
   "metadata": {},
   "outputs": [
    {
     "data": {
      "text/plain": [
       "tcga_id             object\n",
       "Ciriello_subtype    object\n",
       "dtype: object"
      ]
     },
     "execution_count": 27,
     "metadata": {},
     "output_type": "execute_result"
    }
   ],
   "source": [
    "aux_thesis.dtypes[aux_thesis.dtypes !='float64']"
   ]
  },
  {
   "cell_type": "code",
   "execution_count": 28,
   "metadata": {},
   "outputs": [
    {
     "data": {
      "text/plain": [
       "(817, 386)"
      ]
     },
     "execution_count": 28,
     "metadata": {},
     "output_type": "execute_result"
    }
   ],
   "source": [
    "aux_thesis.shape"
   ]
  },
  {
   "cell_type": "code",
   "execution_count": 39,
   "metadata": {},
   "outputs": [],
   "source": [
    "import ast\n",
    "res_train = pd.read_csv(\"../results/fully_con_ieee/rna+miRNA+cna/50_hidden_emb_tcga_classifier_dropout_0.5_cv.csv\")"
   ]
  },
  {
   "cell_type": "code",
   "execution_count": 40,
   "metadata": {},
   "outputs": [
    {
     "data": {
      "text/html": [
       "<div>\n",
       "<style scoped>\n",
       "    .dataframe tbody tr th:only-of-type {\n",
       "        vertical-align: middle;\n",
       "    }\n",
       "\n",
       "    .dataframe tbody tr th {\n",
       "        vertical-align: top;\n",
       "    }\n",
       "\n",
       "    .dataframe thead th {\n",
       "        text-align: right;\n",
       "    }\n",
       "</style>\n",
       "<table border=\"1\" class=\"dataframe\">\n",
       "  <thead>\n",
       "    <tr style=\"text-align: right;\">\n",
       "      <th></th>\n",
       "      <th>Unnamed: 0</th>\n",
       "      <th>Fold</th>\n",
       "      <th>accuracy</th>\n",
       "      <th>other_metrics</th>\n",
       "      <th>mean_accuracy</th>\n",
       "      <th>hidden_1</th>\n",
       "      <th>batch_size</th>\n",
       "      <th>epochs_vae</th>\n",
       "      <th>learning_rate</th>\n",
       "      <th>dropout_input</th>\n",
       "    </tr>\n",
       "  </thead>\n",
       "  <tbody>\n",
       "    <tr>\n",
       "      <th>0</th>\n",
       "      <td>0</td>\n",
       "      <td>1</td>\n",
       "      <td>0.878049</td>\n",
       "      <td>{'Basal': {'precision': 0.9642857142857143, 'r...</td>\n",
       "      <td>0.86518</td>\n",
       "      <td>50</td>\n",
       "      <td>50</td>\n",
       "      <td>100</td>\n",
       "      <td>0.001</td>\n",
       "      <td>0.5</td>\n",
       "    </tr>\n",
       "    <tr>\n",
       "      <th>1</th>\n",
       "      <td>1</td>\n",
       "      <td>2</td>\n",
       "      <td>0.871166</td>\n",
       "      <td>{'Basal': {'precision': 1.0, 'recall': 1.0, 'f...</td>\n",
       "      <td>0.86518</td>\n",
       "      <td>50</td>\n",
       "      <td>50</td>\n",
       "      <td>100</td>\n",
       "      <td>0.001</td>\n",
       "      <td>0.5</td>\n",
       "    </tr>\n",
       "    <tr>\n",
       "      <th>2</th>\n",
       "      <td>2</td>\n",
       "      <td>3</td>\n",
       "      <td>0.901841</td>\n",
       "      <td>{'Basal': {'precision': 1.0, 'recall': 1.0, 'f...</td>\n",
       "      <td>0.86518</td>\n",
       "      <td>50</td>\n",
       "      <td>50</td>\n",
       "      <td>100</td>\n",
       "      <td>0.001</td>\n",
       "      <td>0.5</td>\n",
       "    </tr>\n",
       "    <tr>\n",
       "      <th>3</th>\n",
       "      <td>3</td>\n",
       "      <td>4</td>\n",
       "      <td>0.822086</td>\n",
       "      <td>{'Basal': {'precision': 0.92, 'recall': 0.8518...</td>\n",
       "      <td>0.86518</td>\n",
       "      <td>50</td>\n",
       "      <td>50</td>\n",
       "      <td>100</td>\n",
       "      <td>0.001</td>\n",
       "      <td>0.5</td>\n",
       "    </tr>\n",
       "    <tr>\n",
       "      <th>4</th>\n",
       "      <td>4</td>\n",
       "      <td>5</td>\n",
       "      <td>0.852761</td>\n",
       "      <td>{'Basal': {'precision': 0.896551724137931, 're...</td>\n",
       "      <td>0.86518</td>\n",
       "      <td>50</td>\n",
       "      <td>50</td>\n",
       "      <td>100</td>\n",
       "      <td>0.001</td>\n",
       "      <td>0.5</td>\n",
       "    </tr>\n",
       "  </tbody>\n",
       "</table>\n",
       "</div>"
      ],
      "text/plain": [
       "   Unnamed: 0  Fold  accuracy  \\\n",
       "0           0     1  0.878049   \n",
       "1           1     2  0.871166   \n",
       "2           2     3  0.901841   \n",
       "3           3     4  0.822086   \n",
       "4           4     5  0.852761   \n",
       "\n",
       "                                       other_metrics  mean_accuracy  hidden_1  \\\n",
       "0  {'Basal': {'precision': 0.9642857142857143, 'r...        0.86518        50   \n",
       "1  {'Basal': {'precision': 1.0, 'recall': 1.0, 'f...        0.86518        50   \n",
       "2  {'Basal': {'precision': 1.0, 'recall': 1.0, 'f...        0.86518        50   \n",
       "3  {'Basal': {'precision': 0.92, 'recall': 0.8518...        0.86518        50   \n",
       "4  {'Basal': {'precision': 0.896551724137931, 're...        0.86518        50   \n",
       "\n",
       "   batch_size  epochs_vae  learning_rate  dropout_input  \n",
       "0          50         100          0.001            0.5  \n",
       "1          50         100          0.001            0.5  \n",
       "2          50         100          0.001            0.5  \n",
       "3          50         100          0.001            0.5  \n",
       "4          50         100          0.001            0.5  "
      ]
     },
     "execution_count": 40,
     "metadata": {},
     "output_type": "execute_result"
    }
   ],
   "source": [
    "res_train"
   ]
  },
  {
   "cell_type": "code",
   "execution_count": 41,
   "metadata": {},
   "outputs": [
    {
     "data": {
      "text/plain": [
       "0    0.878049\n",
       "1    0.871166\n",
       "2    0.901841\n",
       "3    0.822086\n",
       "4    0.852761\n",
       "Name: accuracy, dtype: float64"
      ]
     },
     "execution_count": 41,
     "metadata": {},
     "output_type": "execute_result"
    }
   ],
   "source": [
    "res_train[\"accuracy\"]"
   ]
  },
  {
   "cell_type": "code",
   "execution_count": 42,
   "metadata": {},
   "outputs": [
    {
     "data": {
      "text/plain": [
       "0    0.86518\n",
       "1    0.86518\n",
       "2    0.86518\n",
       "3    0.86518\n",
       "4    0.86518\n",
       "Name: mean_accuracy, dtype: float64"
      ]
     },
     "execution_count": 42,
     "metadata": {},
     "output_type": "execute_result"
    }
   ],
   "source": [
    "res_train[\"mean_accuracy\"]"
   ]
  },
  {
   "cell_type": "code",
   "execution_count": 43,
   "metadata": {},
   "outputs": [
    {
     "data": {
      "text/plain": [
       "0    {'Basal': {'precision': 0.9642857142857143, 'r...\n",
       "1    {'Basal': {'precision': 1.0, 'recall': 1.0, 'f...\n",
       "2    {'Basal': {'precision': 1.0, 'recall': 1.0, 'f...\n",
       "3    {'Basal': {'precision': 0.92, 'recall': 0.8518...\n",
       "4    {'Basal': {'precision': 0.896551724137931, 're...\n",
       "Name: other_metrics, dtype: object"
      ]
     },
     "execution_count": 43,
     "metadata": {},
     "output_type": "execute_result"
    }
   ],
   "source": [
    "res_train[\"other_metrics\"]"
   ]
  },
  {
   "cell_type": "code",
   "execution_count": 44,
   "metadata": {},
   "outputs": [
    {
     "name": "stdout",
     "output_type": "stream",
     "text": [
      "[0.8525380269000511, 0.8691169282962452, 0.9015605173693408, 0.8311528097518809, 0.8447293978443304]\n",
      "0.8598195360323697+-0.027070578435362133\n",
      "----------------\n",
      "[0.8782679738562092, 0.8710434173669468, 0.9016806722689076, 0.8219887955182072, 0.852626050420168]\n",
      "0.8651213818860878+-0.029837218424254266\n"
     ]
    }
   ],
   "source": [
    "from statistics import stdev\n",
    "subtypes = [\"Basal\", \"Her2\", \"LumA\", \"LumB\", \"Normal\"]\n",
    "weights_train=[135,65,415,176,25] # Ones for all things miRNA\n",
    "#weights_train=[136,65,415,176,25] # Ones for rna and cna\n",
    "mean_precisions = []\n",
    "mean_recalls = []\n",
    "\n",
    "for i in range(0,5):\n",
    "    dict_aux = ast.literal_eval(res_train[\"other_metrics\"].values[i])\n",
    "    arr_pre = []\n",
    "    arr_rec = []\n",
    "    for sub in subtypes:\n",
    "        arr_pre.append(dict_aux[sub]['precision'])\n",
    "        arr_rec.append(dict_aux[sub]['recall'])\n",
    "    mean_precisions.append(np.average(arr_pre, weights=weights_train))\n",
    "    mean_recalls.append(np.average(arr_rec, weights=weights_train))\n",
    "    \n",
    "print(mean_precisions)\n",
    "print('{}+-{}'.format(np.mean(mean_precisions), stdev(mean_precisions)))\n",
    "print(\"----------------\")\n",
    "print(mean_recalls)\n",
    "print('{}+-{}'.format(np.mean(mean_recalls), stdev(mean_recalls)))"
   ]
  },
  {
   "cell_type": "code",
   "execution_count": 45,
   "metadata": {},
   "outputs": [
    {
     "name": "stdout",
     "output_type": "stream",
     "text": [
      "Average accuracy: 0.8651803135871887+-0.029819307041289378\n"
     ]
    }
   ],
   "source": [
    "print(\"Average accuracy: {}+-{}\".format(np.mean(res_train[\"accuracy\"].values), stdev(res_train[\"accuracy\"].values)))"
   ]
  },
  {
   "cell_type": "code",
   "execution_count": 1,
   "metadata": {},
   "outputs": [
    {
     "data": {
      "text/plain": [
       "0.9609067796610168"
      ]
     },
     "execution_count": 1,
     "metadata": {},
     "output_type": "execute_result"
    }
   ],
   "source": [
    "# no miRNA\n",
    "(43*1+16*0.982+131*0.942+32*0.966+14*0.982)/(43+16+131+32+14)"
   ]
  },
  {
   "cell_type": "code",
   "execution_count": 23,
   "metadata": {},
   "outputs": [
    {
     "data": {
      "text/plain": [
       "0.9474840182648402"
      ]
     },
     "execution_count": 23,
     "metadata": {},
     "output_type": "execute_result"
    }
   ],
   "source": [
    "# miRNA\n",
    "(36*0.9945+15*0.985+128*0.923+26*0.953+14*1)/(36+15+128+26+14)"
   ]
  },
  {
   "cell_type": "markdown",
   "metadata": {},
   "source": [
    "### Test set"
   ]
  },
  {
   "cell_type": "code",
   "execution_count": 125,
   "metadata": {},
   "outputs": [],
   "source": [
    "res_test = pd.read_csv(\"../results/miRNA/CVAE/100_hidden_20_emb/tcga_classifier_dropout_0.8_in_0.2_hidden_rec_loss_binary_crossentropy_classifier_frozen_False_cv_other_metrics.csv\")"
   ]
  },
  {
   "cell_type": "code",
   "execution_count": 126,
   "metadata": {},
   "outputs": [
    {
     "data": {
      "text/plain": [
       "0    {'Basal': {'precision': 0.896551724137931, 're...\n",
       "1    {'Basal': {'precision': 0.9629629629629629, 'r...\n",
       "2    {'Basal': {'precision': 0.8620689655172413, 'r...\n",
       "3    {'Basal': {'precision': 0.96, 'recall': 0.8888...\n",
       "4    {'Basal': {'precision': 0.7878787878787878, 'r...\n",
       "Name: other_metrics, dtype: object"
      ]
     },
     "execution_count": 126,
     "metadata": {},
     "output_type": "execute_result"
    }
   ],
   "source": [
    "res_test['other_metrics']"
   ]
  },
  {
   "cell_type": "code",
   "execution_count": 127,
   "metadata": {},
   "outputs": [
    {
     "data": {
      "text/html": [
       "<div>\n",
       "<style scoped>\n",
       "    .dataframe tbody tr th:only-of-type {\n",
       "        vertical-align: middle;\n",
       "    }\n",
       "\n",
       "    .dataframe tbody tr th {\n",
       "        vertical-align: top;\n",
       "    }\n",
       "\n",
       "    .dataframe thead th {\n",
       "        text-align: right;\n",
       "    }\n",
       "</style>\n",
       "<table border=\"1\" class=\"dataframe\">\n",
       "  <thead>\n",
       "    <tr style=\"text-align: right;\">\n",
       "      <th></th>\n",
       "      <th>Unnamed: 0</th>\n",
       "      <th>Fold</th>\n",
       "      <th>accuracy</th>\n",
       "      <th>other_metrics</th>\n",
       "      <th>mean_accuracy</th>\n",
       "      <th>intermediate_dim</th>\n",
       "      <th>latent_dim</th>\n",
       "      <th>batch_size</th>\n",
       "      <th>epochs_cvae</th>\n",
       "      <th>learning_rate</th>\n",
       "      <th>dropout_input</th>\n",
       "      <th>dropout_hidden</th>\n",
       "      <th>dropout_decoder</th>\n",
       "      <th>freeze_weights</th>\n",
       "      <th>classifier_use_z</th>\n",
       "      <th>classifier_loss</th>\n",
       "      <th>reconstruction_loss</th>\n",
       "    </tr>\n",
       "  </thead>\n",
       "  <tbody>\n",
       "    <tr>\n",
       "      <th>0</th>\n",
       "      <td>0</td>\n",
       "      <td>1</td>\n",
       "      <td>0.810976</td>\n",
       "      <td>{'Basal': {'precision': 0.896551724137931, 're...</td>\n",
       "      <td>0.769557</td>\n",
       "      <td>100</td>\n",
       "      <td>20</td>\n",
       "      <td>200</td>\n",
       "      <td>100</td>\n",
       "      <td>0.01</td>\n",
       "      <td>0.8</td>\n",
       "      <td>0.2</td>\n",
       "      <td>True</td>\n",
       "      <td>False</td>\n",
       "      <td>False</td>\n",
       "      <td>categorical_crossentropy</td>\n",
       "      <td>binary_crossentropy</td>\n",
       "    </tr>\n",
       "    <tr>\n",
       "      <th>1</th>\n",
       "      <td>1</td>\n",
       "      <td>2</td>\n",
       "      <td>0.779141</td>\n",
       "      <td>{'Basal': {'precision': 0.9629629629629629, 'r...</td>\n",
       "      <td>0.769557</td>\n",
       "      <td>100</td>\n",
       "      <td>20</td>\n",
       "      <td>200</td>\n",
       "      <td>100</td>\n",
       "      <td>0.01</td>\n",
       "      <td>0.8</td>\n",
       "      <td>0.2</td>\n",
       "      <td>True</td>\n",
       "      <td>False</td>\n",
       "      <td>False</td>\n",
       "      <td>categorical_crossentropy</td>\n",
       "      <td>binary_crossentropy</td>\n",
       "    </tr>\n",
       "    <tr>\n",
       "      <th>2</th>\n",
       "      <td>2</td>\n",
       "      <td>3</td>\n",
       "      <td>0.711656</td>\n",
       "      <td>{'Basal': {'precision': 0.8620689655172413, 'r...</td>\n",
       "      <td>0.769557</td>\n",
       "      <td>100</td>\n",
       "      <td>20</td>\n",
       "      <td>200</td>\n",
       "      <td>100</td>\n",
       "      <td>0.01</td>\n",
       "      <td>0.8</td>\n",
       "      <td>0.2</td>\n",
       "      <td>True</td>\n",
       "      <td>False</td>\n",
       "      <td>False</td>\n",
       "      <td>categorical_crossentropy</td>\n",
       "      <td>binary_crossentropy</td>\n",
       "    </tr>\n",
       "    <tr>\n",
       "      <th>3</th>\n",
       "      <td>3</td>\n",
       "      <td>4</td>\n",
       "      <td>0.779141</td>\n",
       "      <td>{'Basal': {'precision': 0.96, 'recall': 0.8888...</td>\n",
       "      <td>0.769557</td>\n",
       "      <td>100</td>\n",
       "      <td>20</td>\n",
       "      <td>200</td>\n",
       "      <td>100</td>\n",
       "      <td>0.01</td>\n",
       "      <td>0.8</td>\n",
       "      <td>0.2</td>\n",
       "      <td>True</td>\n",
       "      <td>False</td>\n",
       "      <td>False</td>\n",
       "      <td>categorical_crossentropy</td>\n",
       "      <td>binary_crossentropy</td>\n",
       "    </tr>\n",
       "    <tr>\n",
       "      <th>4</th>\n",
       "      <td>4</td>\n",
       "      <td>5</td>\n",
       "      <td>0.766871</td>\n",
       "      <td>{'Basal': {'precision': 0.7878787878787878, 'r...</td>\n",
       "      <td>0.769557</td>\n",
       "      <td>100</td>\n",
       "      <td>20</td>\n",
       "      <td>200</td>\n",
       "      <td>100</td>\n",
       "      <td>0.01</td>\n",
       "      <td>0.8</td>\n",
       "      <td>0.2</td>\n",
       "      <td>True</td>\n",
       "      <td>False</td>\n",
       "      <td>False</td>\n",
       "      <td>categorical_crossentropy</td>\n",
       "      <td>binary_crossentropy</td>\n",
       "    </tr>\n",
       "  </tbody>\n",
       "</table>\n",
       "</div>"
      ],
      "text/plain": [
       "   Unnamed: 0  Fold  accuracy  \\\n",
       "0           0     1  0.810976   \n",
       "1           1     2  0.779141   \n",
       "2           2     3  0.711656   \n",
       "3           3     4  0.779141   \n",
       "4           4     5  0.766871   \n",
       "\n",
       "                                       other_metrics  mean_accuracy  \\\n",
       "0  {'Basal': {'precision': 0.896551724137931, 're...       0.769557   \n",
       "1  {'Basal': {'precision': 0.9629629629629629, 'r...       0.769557   \n",
       "2  {'Basal': {'precision': 0.8620689655172413, 'r...       0.769557   \n",
       "3  {'Basal': {'precision': 0.96, 'recall': 0.8888...       0.769557   \n",
       "4  {'Basal': {'precision': 0.7878787878787878, 'r...       0.769557   \n",
       "\n",
       "   intermediate_dim  latent_dim  batch_size  epochs_cvae  learning_rate  \\\n",
       "0               100          20         200          100           0.01   \n",
       "1               100          20         200          100           0.01   \n",
       "2               100          20         200          100           0.01   \n",
       "3               100          20         200          100           0.01   \n",
       "4               100          20         200          100           0.01   \n",
       "\n",
       "   dropout_input  dropout_hidden  dropout_decoder  freeze_weights  \\\n",
       "0            0.8             0.2             True           False   \n",
       "1            0.8             0.2             True           False   \n",
       "2            0.8             0.2             True           False   \n",
       "3            0.8             0.2             True           False   \n",
       "4            0.8             0.2             True           False   \n",
       "\n",
       "   classifier_use_z           classifier_loss  reconstruction_loss  \n",
       "0             False  categorical_crossentropy  binary_crossentropy  \n",
       "1             False  categorical_crossentropy  binary_crossentropy  \n",
       "2             False  categorical_crossentropy  binary_crossentropy  \n",
       "3             False  categorical_crossentropy  binary_crossentropy  \n",
       "4             False  categorical_crossentropy  binary_crossentropy  "
      ]
     },
     "execution_count": 127,
     "metadata": {},
     "output_type": "execute_result"
    }
   ],
   "source": [
    "res_test"
   ]
  },
  {
   "cell_type": "code",
   "execution_count": 128,
   "metadata": {},
   "outputs": [
    {
     "name": "stdout",
     "output_type": "stream",
     "text": [
      "Accuracy [0.81097561 0.77914113 0.71165645 0.77914113 0.76687115]\n",
      "Precision 0.7956924118972507\n",
      "Recall 0.8109756097560976\n"
     ]
    }
   ],
   "source": [
    "subtypes = [\"Basal\", \"Her2\", \"LumA\", \"LumB\", \"Normal\"]\n",
    "weights_test=[36,15,128,26,14]\n",
    "mean_precisions = []\n",
    "mean_recalls = []\n",
    "\n",
    "dict_aux = ast.literal_eval(res_test['other_metrics'][0])\n",
    "\n",
    "print(\"Accuracy {}\".format(res_test[\"accuracy\"].values))\n",
    "print(\"Precision {}\".format(dict_aux['weighted avg']['precision']))\n",
    "print(\"Recall {}\".format(dict_aux['weighted avg']['recall']))"
   ]
  },
  {
   "cell_type": "code",
   "execution_count": 129,
   "metadata": {},
   "outputs": [
    {
     "name": "stdout",
     "output_type": "stream",
     "text": [
      "Average accuracy: 0.7695570945739746\n"
     ]
    }
   ],
   "source": [
    "print(\"Average accuracy: {}\".format(np.mean(res_test[\"accuracy\"].values)))"
   ]
  },
  {
   "cell_type": "code",
   "execution_count": null,
   "metadata": {},
   "outputs": [],
   "source": []
  }
 ],
 "metadata": {
  "kernelspec": {
   "display_name": "thesis",
   "language": "python",
   "name": "thesis"
  },
  "language_info": {
   "codemirror_mode": {
    "name": "ipython",
    "version": 3
   },
   "file_extension": ".py",
   "mimetype": "text/x-python",
   "name": "python",
   "nbconvert_exporter": "python",
   "pygments_lexer": "ipython3",
   "version": "3.7.4"
  }
 },
 "nbformat": 4,
 "nbformat_minor": 2
}
