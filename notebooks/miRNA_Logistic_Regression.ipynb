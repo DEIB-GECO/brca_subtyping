{
 "cells": [
  {
   "cell_type": "markdown",
   "metadata": {},
   "source": [
    "# Logistic Regression on miRNA data\n",
    "#### Using Logistic Regression for breast cancer subtype classification using miRNA data"
   ]
  },
  {
   "cell_type": "code",
   "execution_count": 2,
   "metadata": {
    "collapsed": true
   },
   "outputs": [],
   "source": [
    "import pandas as pd\n",
    "import numpy as np\n",
    "\n",
    "from sklearn.preprocessing import MinMaxScaler, StandardScaler\n",
    "from sklearn.model_selection import train_test_split, StratifiedKFold\n",
    "from sklearn.linear_model import LogisticRegression\n",
    "from sklearn.feature_selection import VarianceThreshold, SelectKBest, chi2, mutual_info_classif\n",
    "from sklearn.model_selection import cross_val_score\n",
    "from sklearn.metrics import confusion_matrix, classification_report\n",
    "\n",
    "import seaborn as sn\n",
    "import matplotlib.pyplot as plt"
   ]
  },
  {
   "cell_type": "markdown",
   "metadata": {},
   "source": [
    "## Load and split the dataset"
   ]
  },
  {
   "cell_type": "code",
   "execution_count": 3,
   "metadata": {},
   "outputs": [],
   "source": [
    "# Training set\n",
    "\n",
    "X_train = pd.read_csv(\"../data/miRNA_filtered_norm_scaled_train.csv\")\n",
    "X_test = pd.read_csv(\"../data/miRNA_filtered_norm_scaled_test.csv\")"
   ]
  },
  {
   "cell_type": "code",
   "execution_count": 4,
   "metadata": {},
   "outputs": [
    {
     "name": "stdout",
     "output_type": "stream",
     "text": [
      "Training data shape is (816, 1772)\n",
      "Test data shape is (219, 1772)\n"
     ]
    }
   ],
   "source": [
    "print(\"Training data shape is {}\".format(X_train.shape))\n",
    "print(\"Test data shape is {}\".format(X_test.shape))"
   ]
  },
  {
   "cell_type": "code",
   "execution_count": 5,
   "metadata": {},
   "outputs": [
    {
     "data": {
      "text/html": [
       "<div>\n",
       "<style scoped>\n",
       "    .dataframe tbody tr th:only-of-type {\n",
       "        vertical-align: middle;\n",
       "    }\n",
       "\n",
       "    .dataframe tbody tr th {\n",
       "        vertical-align: top;\n",
       "    }\n",
       "\n",
       "    .dataframe thead th {\n",
       "        text-align: right;\n",
       "    }\n",
       "</style>\n",
       "<table border=\"1\" class=\"dataframe\">\n",
       "  <thead>\n",
       "    <tr style=\"text-align: right;\">\n",
       "      <th></th>\n",
       "      <th>Ciriello_subtype</th>\n",
       "      <th>hsa-let-7a-1</th>\n",
       "      <th>hsa-let-7a-2</th>\n",
       "      <th>hsa-let-7a-3</th>\n",
       "      <th>hsa-let-7b</th>\n",
       "      <th>hsa-let-7c</th>\n",
       "      <th>hsa-let-7d</th>\n",
       "      <th>hsa-let-7e</th>\n",
       "      <th>hsa-let-7f-1</th>\n",
       "      <th>hsa-let-7f-2</th>\n",
       "      <th>...</th>\n",
       "      <th>hsa-mir-941-1</th>\n",
       "      <th>hsa-mir-942</th>\n",
       "      <th>hsa-mir-943</th>\n",
       "      <th>hsa-mir-944</th>\n",
       "      <th>hsa-mir-95</th>\n",
       "      <th>hsa-mir-9500</th>\n",
       "      <th>hsa-mir-96</th>\n",
       "      <th>hsa-mir-98</th>\n",
       "      <th>hsa-mir-99a</th>\n",
       "      <th>hsa-mir-99b</th>\n",
       "    </tr>\n",
       "  </thead>\n",
       "  <tbody>\n",
       "    <tr>\n",
       "      <th>0</th>\n",
       "      <td>Normal</td>\n",
       "      <td>14.030370</td>\n",
       "      <td>14.033059</td>\n",
       "      <td>14.044442</td>\n",
       "      <td>16.502933</td>\n",
       "      <td>13.396463</td>\n",
       "      <td>10.454968</td>\n",
       "      <td>9.264031</td>\n",
       "      <td>11.437857</td>\n",
       "      <td>11.490396</td>\n",
       "      <td>...</td>\n",
       "      <td>0.0</td>\n",
       "      <td>3.291905</td>\n",
       "      <td>0.525771</td>\n",
       "      <td>4.282995</td>\n",
       "      <td>1.677401</td>\n",
       "      <td>0.0</td>\n",
       "      <td>5.599551</td>\n",
       "      <td>6.007131</td>\n",
       "      <td>12.010321</td>\n",
       "      <td>15.851634</td>\n",
       "    </tr>\n",
       "    <tr>\n",
       "      <th>1</th>\n",
       "      <td>LumA</td>\n",
       "      <td>14.030390</td>\n",
       "      <td>14.018248</td>\n",
       "      <td>14.024003</td>\n",
       "      <td>15.632852</td>\n",
       "      <td>11.397605</td>\n",
       "      <td>9.059588</td>\n",
       "      <td>10.521528</td>\n",
       "      <td>12.229467</td>\n",
       "      <td>12.236976</td>\n",
       "      <td>...</td>\n",
       "      <td>0.0</td>\n",
       "      <td>2.013493</td>\n",
       "      <td>0.325539</td>\n",
       "      <td>1.470888</td>\n",
       "      <td>1.712899</td>\n",
       "      <td>0.0</td>\n",
       "      <td>4.392142</td>\n",
       "      <td>5.675821</td>\n",
       "      <td>10.137212</td>\n",
       "      <td>15.615404</td>\n",
       "    </tr>\n",
       "    <tr>\n",
       "      <th>2</th>\n",
       "      <td>LumA</td>\n",
       "      <td>13.034042</td>\n",
       "      <td>13.017645</td>\n",
       "      <td>13.036697</td>\n",
       "      <td>15.423974</td>\n",
       "      <td>12.028745</td>\n",
       "      <td>8.700684</td>\n",
       "      <td>9.504480</td>\n",
       "      <td>10.946024</td>\n",
       "      <td>10.907025</td>\n",
       "      <td>...</td>\n",
       "      <td>0.0</td>\n",
       "      <td>1.809602</td>\n",
       "      <td>0.000000</td>\n",
       "      <td>2.684479</td>\n",
       "      <td>2.371771</td>\n",
       "      <td>0.0</td>\n",
       "      <td>5.051083</td>\n",
       "      <td>5.389651</td>\n",
       "      <td>10.460951</td>\n",
       "      <td>15.032799</td>\n",
       "    </tr>\n",
       "    <tr>\n",
       "      <th>3</th>\n",
       "      <td>LumA</td>\n",
       "      <td>12.784891</td>\n",
       "      <td>12.786417</td>\n",
       "      <td>12.795264</td>\n",
       "      <td>14.333694</td>\n",
       "      <td>11.943461</td>\n",
       "      <td>8.215924</td>\n",
       "      <td>9.273612</td>\n",
       "      <td>11.028055</td>\n",
       "      <td>11.057679</td>\n",
       "      <td>...</td>\n",
       "      <td>0.0</td>\n",
       "      <td>2.685329</td>\n",
       "      <td>0.000000</td>\n",
       "      <td>1.152029</td>\n",
       "      <td>1.536697</td>\n",
       "      <td>0.0</td>\n",
       "      <td>5.596833</td>\n",
       "      <td>5.415917</td>\n",
       "      <td>10.983075</td>\n",
       "      <td>15.247564</td>\n",
       "    </tr>\n",
       "    <tr>\n",
       "      <th>4</th>\n",
       "      <td>LumA</td>\n",
       "      <td>12.962609</td>\n",
       "      <td>12.971607</td>\n",
       "      <td>12.983236</td>\n",
       "      <td>15.481879</td>\n",
       "      <td>12.813933</td>\n",
       "      <td>9.307462</td>\n",
       "      <td>9.775111</td>\n",
       "      <td>10.530101</td>\n",
       "      <td>10.512984</td>\n",
       "      <td>...</td>\n",
       "      <td>0.0</td>\n",
       "      <td>1.370444</td>\n",
       "      <td>0.000000</td>\n",
       "      <td>2.060394</td>\n",
       "      <td>0.000000</td>\n",
       "      <td>0.0</td>\n",
       "      <td>3.688321</td>\n",
       "      <td>5.399958</td>\n",
       "      <td>10.740593</td>\n",
       "      <td>15.423429</td>\n",
       "    </tr>\n",
       "  </tbody>\n",
       "</table>\n",
       "<p>5 rows × 1772 columns</p>\n",
       "</div>"
      ],
      "text/plain": [
       "  Ciriello_subtype  hsa-let-7a-1  hsa-let-7a-2  hsa-let-7a-3  hsa-let-7b  \\\n",
       "0           Normal     14.030370     14.033059     14.044442   16.502933   \n",
       "1             LumA     14.030390     14.018248     14.024003   15.632852   \n",
       "2             LumA     13.034042     13.017645     13.036697   15.423974   \n",
       "3             LumA     12.784891     12.786417     12.795264   14.333694   \n",
       "4             LumA     12.962609     12.971607     12.983236   15.481879   \n",
       "\n",
       "   hsa-let-7c  hsa-let-7d  hsa-let-7e  hsa-let-7f-1  hsa-let-7f-2  ...  \\\n",
       "0   13.396463   10.454968    9.264031     11.437857     11.490396  ...   \n",
       "1   11.397605    9.059588   10.521528     12.229467     12.236976  ...   \n",
       "2   12.028745    8.700684    9.504480     10.946024     10.907025  ...   \n",
       "3   11.943461    8.215924    9.273612     11.028055     11.057679  ...   \n",
       "4   12.813933    9.307462    9.775111     10.530101     10.512984  ...   \n",
       "\n",
       "   hsa-mir-941-1  hsa-mir-942  hsa-mir-943  hsa-mir-944  hsa-mir-95  \\\n",
       "0            0.0     3.291905     0.525771     4.282995    1.677401   \n",
       "1            0.0     2.013493     0.325539     1.470888    1.712899   \n",
       "2            0.0     1.809602     0.000000     2.684479    2.371771   \n",
       "3            0.0     2.685329     0.000000     1.152029    1.536697   \n",
       "4            0.0     1.370444     0.000000     2.060394    0.000000   \n",
       "\n",
       "   hsa-mir-9500  hsa-mir-96  hsa-mir-98  hsa-mir-99a  hsa-mir-99b  \n",
       "0           0.0    5.599551    6.007131    12.010321    15.851634  \n",
       "1           0.0    4.392142    5.675821    10.137212    15.615404  \n",
       "2           0.0    5.051083    5.389651    10.460951    15.032799  \n",
       "3           0.0    5.596833    5.415917    10.983075    15.247564  \n",
       "4           0.0    3.688321    5.399958    10.740593    15.423429  \n",
       "\n",
       "[5 rows x 1772 columns]"
      ]
     },
     "execution_count": 5,
     "metadata": {},
     "output_type": "execute_result"
    }
   ],
   "source": [
    "X_train.head(5)"
   ]
  },
  {
   "cell_type": "code",
   "execution_count": 6,
   "metadata": {},
   "outputs": [
    {
     "data": {
      "text/plain": [
       "LumA      415\n",
       "LumB      176\n",
       "Basal     135\n",
       "Her2       65\n",
       "Normal     25\n",
       "Name: Ciriello_subtype, dtype: int64"
      ]
     },
     "execution_count": 6,
     "metadata": {},
     "output_type": "execute_result"
    }
   ],
   "source": [
    "X_train['Ciriello_subtype'].value_counts()"
   ]
  },
  {
   "cell_type": "code",
   "execution_count": 5,
   "metadata": {},
   "outputs": [
    {
     "data": {
      "text/html": [
       "<div>\n",
       "<style scoped>\n",
       "    .dataframe tbody tr th:only-of-type {\n",
       "        vertical-align: middle;\n",
       "    }\n",
       "\n",
       "    .dataframe tbody tr th {\n",
       "        vertical-align: top;\n",
       "    }\n",
       "\n",
       "    .dataframe thead th {\n",
       "        text-align: right;\n",
       "    }\n",
       "</style>\n",
       "<table border=\"1\" class=\"dataframe\">\n",
       "  <thead>\n",
       "    <tr style=\"text-align: right;\">\n",
       "      <th></th>\n",
       "      <th>expert_PAM50_subtypes</th>\n",
       "      <th>hsa-let-7a-1</th>\n",
       "      <th>hsa-let-7a-2</th>\n",
       "      <th>hsa-let-7a-3</th>\n",
       "      <th>hsa-let-7b</th>\n",
       "      <th>hsa-let-7c</th>\n",
       "      <th>hsa-let-7d</th>\n",
       "      <th>hsa-let-7e</th>\n",
       "      <th>hsa-let-7f-1</th>\n",
       "      <th>hsa-let-7f-2</th>\n",
       "      <th>...</th>\n",
       "      <th>hsa-mir-941-1</th>\n",
       "      <th>hsa-mir-942</th>\n",
       "      <th>hsa-mir-943</th>\n",
       "      <th>hsa-mir-944</th>\n",
       "      <th>hsa-mir-95</th>\n",
       "      <th>hsa-mir-9500</th>\n",
       "      <th>hsa-mir-96</th>\n",
       "      <th>hsa-mir-98</th>\n",
       "      <th>hsa-mir-99a</th>\n",
       "      <th>hsa-mir-99b</th>\n",
       "    </tr>\n",
       "  </thead>\n",
       "  <tbody>\n",
       "    <tr>\n",
       "      <th>0</th>\n",
       "      <td>LumA</td>\n",
       "      <td>13.514627</td>\n",
       "      <td>13.504685</td>\n",
       "      <td>13.530334</td>\n",
       "      <td>14.562495</td>\n",
       "      <td>7.978139</td>\n",
       "      <td>8.680035</td>\n",
       "      <td>10.444366</td>\n",
       "      <td>10.798507</td>\n",
       "      <td>10.811095</td>\n",
       "      <td>...</td>\n",
       "      <td>0.0</td>\n",
       "      <td>2.694435</td>\n",
       "      <td>0.266281</td>\n",
       "      <td>1.548775</td>\n",
       "      <td>2.366092</td>\n",
       "      <td>0.0</td>\n",
       "      <td>6.932103</td>\n",
       "      <td>5.724983</td>\n",
       "      <td>6.932103</td>\n",
       "      <td>15.496556</td>\n",
       "    </tr>\n",
       "    <tr>\n",
       "      <th>1</th>\n",
       "      <td>Her2</td>\n",
       "      <td>13.328474</td>\n",
       "      <td>13.330931</td>\n",
       "      <td>13.339006</td>\n",
       "      <td>14.510022</td>\n",
       "      <td>9.554742</td>\n",
       "      <td>9.018468</td>\n",
       "      <td>9.092649</td>\n",
       "      <td>11.673093</td>\n",
       "      <td>11.696572</td>\n",
       "      <td>...</td>\n",
       "      <td>0.0</td>\n",
       "      <td>3.200443</td>\n",
       "      <td>0.000000</td>\n",
       "      <td>0.727173</td>\n",
       "      <td>1.102280</td>\n",
       "      <td>0.0</td>\n",
       "      <td>5.933862</td>\n",
       "      <td>6.429633</td>\n",
       "      <td>7.887388</td>\n",
       "      <td>13.627101</td>\n",
       "    </tr>\n",
       "    <tr>\n",
       "      <th>2</th>\n",
       "      <td>LumB</td>\n",
       "      <td>13.432159</td>\n",
       "      <td>13.418758</td>\n",
       "      <td>13.441694</td>\n",
       "      <td>13.415155</td>\n",
       "      <td>9.243957</td>\n",
       "      <td>9.297123</td>\n",
       "      <td>11.387266</td>\n",
       "      <td>12.511639</td>\n",
       "      <td>12.559778</td>\n",
       "      <td>...</td>\n",
       "      <td>0.0</td>\n",
       "      <td>2.214673</td>\n",
       "      <td>0.000000</td>\n",
       "      <td>0.845298</td>\n",
       "      <td>1.310029</td>\n",
       "      <td>0.0</td>\n",
       "      <td>6.635774</td>\n",
       "      <td>6.876964</td>\n",
       "      <td>7.574399</td>\n",
       "      <td>15.012233</td>\n",
       "    </tr>\n",
       "    <tr>\n",
       "      <th>3</th>\n",
       "      <td>LumA</td>\n",
       "      <td>13.550832</td>\n",
       "      <td>13.560693</td>\n",
       "      <td>13.567933</td>\n",
       "      <td>14.662512</td>\n",
       "      <td>11.497175</td>\n",
       "      <td>8.396544</td>\n",
       "      <td>10.350582</td>\n",
       "      <td>11.639559</td>\n",
       "      <td>11.670866</td>\n",
       "      <td>...</td>\n",
       "      <td>0.0</td>\n",
       "      <td>2.153877</td>\n",
       "      <td>0.000000</td>\n",
       "      <td>2.153877</td>\n",
       "      <td>1.402156</td>\n",
       "      <td>0.0</td>\n",
       "      <td>6.230695</td>\n",
       "      <td>5.417220</td>\n",
       "      <td>10.015070</td>\n",
       "      <td>14.552775</td>\n",
       "    </tr>\n",
       "    <tr>\n",
       "      <th>4</th>\n",
       "      <td>LumA</td>\n",
       "      <td>13.831441</td>\n",
       "      <td>13.830614</td>\n",
       "      <td>13.839637</td>\n",
       "      <td>14.433812</td>\n",
       "      <td>11.662663</td>\n",
       "      <td>8.475744</td>\n",
       "      <td>10.706670</td>\n",
       "      <td>12.007394</td>\n",
       "      <td>12.032254</td>\n",
       "      <td>...</td>\n",
       "      <td>0.0</td>\n",
       "      <td>1.543579</td>\n",
       "      <td>0.000000</td>\n",
       "      <td>1.149743</td>\n",
       "      <td>0.903448</td>\n",
       "      <td>0.0</td>\n",
       "      <td>4.405742</td>\n",
       "      <td>5.134419</td>\n",
       "      <td>10.045460</td>\n",
       "      <td>14.637130</td>\n",
       "    </tr>\n",
       "  </tbody>\n",
       "</table>\n",
       "<p>5 rows × 1772 columns</p>\n",
       "</div>"
      ],
      "text/plain": [
       "  expert_PAM50_subtypes  hsa-let-7a-1  hsa-let-7a-2  hsa-let-7a-3  hsa-let-7b  \\\n",
       "0                  LumA     13.514627     13.504685     13.530334   14.562495   \n",
       "1                  Her2     13.328474     13.330931     13.339006   14.510022   \n",
       "2                  LumB     13.432159     13.418758     13.441694   13.415155   \n",
       "3                  LumA     13.550832     13.560693     13.567933   14.662512   \n",
       "4                  LumA     13.831441     13.830614     13.839637   14.433812   \n",
       "\n",
       "   hsa-let-7c  hsa-let-7d  hsa-let-7e  hsa-let-7f-1  hsa-let-7f-2  ...  \\\n",
       "0    7.978139    8.680035   10.444366     10.798507     10.811095  ...   \n",
       "1    9.554742    9.018468    9.092649     11.673093     11.696572  ...   \n",
       "2    9.243957    9.297123   11.387266     12.511639     12.559778  ...   \n",
       "3   11.497175    8.396544   10.350582     11.639559     11.670866  ...   \n",
       "4   11.662663    8.475744   10.706670     12.007394     12.032254  ...   \n",
       "\n",
       "   hsa-mir-941-1  hsa-mir-942  hsa-mir-943  hsa-mir-944  hsa-mir-95  \\\n",
       "0            0.0     2.694435     0.266281     1.548775    2.366092   \n",
       "1            0.0     3.200443     0.000000     0.727173    1.102280   \n",
       "2            0.0     2.214673     0.000000     0.845298    1.310029   \n",
       "3            0.0     2.153877     0.000000     2.153877    1.402156   \n",
       "4            0.0     1.543579     0.000000     1.149743    0.903448   \n",
       "\n",
       "   hsa-mir-9500  hsa-mir-96  hsa-mir-98  hsa-mir-99a  hsa-mir-99b  \n",
       "0           0.0    6.932103    5.724983     6.932103    15.496556  \n",
       "1           0.0    5.933862    6.429633     7.887388    13.627101  \n",
       "2           0.0    6.635774    6.876964     7.574399    15.012233  \n",
       "3           0.0    6.230695    5.417220    10.015070    14.552775  \n",
       "4           0.0    4.405742    5.134419    10.045460    14.637130  \n",
       "\n",
       "[5 rows x 1772 columns]"
      ]
     },
     "execution_count": 5,
     "metadata": {},
     "output_type": "execute_result"
    }
   ],
   "source": [
    "X_test.head(5)"
   ]
  },
  {
   "cell_type": "code",
   "execution_count": 6,
   "metadata": {},
   "outputs": [
    {
     "data": {
      "text/plain": [
       "LumA      128\n",
       "Basal      36\n",
       "LumB       26\n",
       "Her2       15\n",
       "Normal     14\n",
       "Name: expert_PAM50_subtypes, dtype: int64"
      ]
     },
     "execution_count": 6,
     "metadata": {},
     "output_type": "execute_result"
    }
   ],
   "source": [
    "X_test['expert_PAM50_subtypes'].value_counts()"
   ]
  },
  {
   "cell_type": "code",
   "execution_count": 7,
   "metadata": {},
   "outputs": [],
   "source": [
    "y_train = X_train[\"Ciriello_subtype\"]\n",
    "y_test = X_test[\"expert_PAM50_subtypes\"]"
   ]
  },
  {
   "cell_type": "code",
   "execution_count": 8,
   "metadata": {},
   "outputs": [],
   "source": [
    "X_train.drop(['Ciriello_subtype'], axis=\"columns\", inplace=True)\n",
    "X_test.drop(['expert_PAM50_subtypes'], axis=\"columns\", inplace=True)"
   ]
  },
  {
   "cell_type": "code",
   "execution_count": 9,
   "metadata": {},
   "outputs": [],
   "source": [
    "scaler = MinMaxScaler()\n",
    "scaler.fit(X_train)\n",
    "X_train = pd.DataFrame(scaler.transform(X_train), columns=X_train.columns)\n",
    "X_test = pd.DataFrame(scaler.transform(X_test), columns=X_test.columns)"
   ]
  },
  {
   "cell_type": "markdown",
   "metadata": {},
   "source": [
    "## Now we can train the model (check many parameters for c)"
   ]
  },
  {
   "cell_type": "code",
   "execution_count": 25,
   "metadata": {},
   "outputs": [
    {
     "name": "stdout",
     "output_type": "stream",
     "text": [
      "Fold 1 of 5\n",
      "LumA      83\n",
      "LumB      36\n",
      "Basal     27\n",
      "Her2      13\n",
      "Normal     5\n",
      "Name: Ciriello_subtype, dtype: int64\n"
     ]
    },
    {
     "name": "stderr",
     "output_type": "stream",
     "text": [
      "/home/cristovao/anaconda3/envs/thesis/lib/python3.7/site-packages/sklearn/metrics/classification.py:1143: UndefinedMetricWarning: Precision and F-score are ill-defined and being set to 0.0 in labels with no predicted samples.\n",
      "  'precision', 'predicted', average, warn_for)\n",
      "/home/cristovao/anaconda3/envs/thesis/lib/python3.7/site-packages/sklearn/metrics/classification.py:1143: UndefinedMetricWarning: Precision and F-score are ill-defined and being set to 0.0 in labels with no predicted samples.\n",
      "  'precision', 'predicted', average, warn_for)\n"
     ]
    },
    {
     "name": "stdout",
     "output_type": "stream",
     "text": [
      "Fold 2 of 5\n",
      "LumA      83\n",
      "LumB      35\n",
      "Basal     27\n",
      "Her2      13\n",
      "Normal     5\n",
      "Name: Ciriello_subtype, dtype: int64\n",
      "Fold 3 of 5\n",
      "LumA      83\n",
      "LumB      35\n",
      "Basal     27\n",
      "Her2      13\n",
      "Normal     5\n",
      "Name: Ciriello_subtype, dtype: int64\n"
     ]
    },
    {
     "name": "stderr",
     "output_type": "stream",
     "text": [
      "/home/cristovao/anaconda3/envs/thesis/lib/python3.7/site-packages/sklearn/metrics/classification.py:1143: UndefinedMetricWarning: Precision and F-score are ill-defined and being set to 0.0 in labels with no predicted samples.\n",
      "  'precision', 'predicted', average, warn_for)\n",
      "/home/cristovao/anaconda3/envs/thesis/lib/python3.7/site-packages/sklearn/metrics/classification.py:1143: UndefinedMetricWarning: Precision and F-score are ill-defined and being set to 0.0 in labels with no predicted samples.\n",
      "  'precision', 'predicted', average, warn_for)\n",
      "/home/cristovao/anaconda3/envs/thesis/lib/python3.7/site-packages/sklearn/metrics/classification.py:1143: UndefinedMetricWarning: Precision and F-score are ill-defined and being set to 0.0 in labels with no predicted samples.\n",
      "  'precision', 'predicted', average, warn_for)\n"
     ]
    },
    {
     "name": "stdout",
     "output_type": "stream",
     "text": [
      "Fold 4 of 5\n",
      "LumA      83\n",
      "LumB      35\n",
      "Basal     27\n",
      "Her2      13\n",
      "Normal     5\n",
      "Name: Ciriello_subtype, dtype: int64\n",
      "Fold 5 of 5\n",
      "LumA      83\n",
      "LumB      35\n",
      "Basal     27\n",
      "Her2      13\n",
      "Normal     5\n",
      "Name: Ciriello_subtype, dtype: int64\n",
      "Results: [0.16463414634146342, 0.1656441717791411, 0.1656441717791411, 0.1656441717791411, 0.1656441717791411]\n",
      "C: 0.001, Accuracy: 0.16544216669160555\n",
      "[{'Basal': {'precision': 0.16463414634146342, 'recall': 1.0, 'f1-score': 0.28272251308900526, 'support': 27}, 'Her2': {'precision': 0.0, 'recall': 0.0, 'f1-score': 0.0, 'support': 13}, 'LumA': {'precision': 0.0, 'recall': 0.0, 'f1-score': 0.0, 'support': 83}, 'LumB': {'precision': 0.0, 'recall': 0.0, 'f1-score': 0.0, 'support': 36}, 'Normal': {'precision': 0.0, 'recall': 0.0, 'f1-score': 0.0, 'support': 5}, 'micro avg': {'precision': 0.16463414634146342, 'recall': 0.16463414634146342, 'f1-score': 0.16463414634146342, 'support': 164}, 'macro avg': {'precision': 0.032926829268292684, 'recall': 0.2, 'f1-score': 0.05654450261780105, 'support': 164}, 'weighted avg': {'precision': 0.02710440214158239, 'recall': 0.16463414634146342, 'f1-score': 0.046545779593921595, 'support': 164}}, {'Basal': {'precision': 0.1656441717791411, 'recall': 1.0, 'f1-score': 0.28421052631578947, 'support': 27}, 'Her2': {'precision': 0.0, 'recall': 0.0, 'f1-score': 0.0, 'support': 13}, 'LumA': {'precision': 0.0, 'recall': 0.0, 'f1-score': 0.0, 'support': 83}, 'LumB': {'precision': 0.0, 'recall': 0.0, 'f1-score': 0.0, 'support': 35}, 'Normal': {'precision': 0.0, 'recall': 0.0, 'f1-score': 0.0, 'support': 5}, 'micro avg': {'precision': 0.1656441717791411, 'recall': 0.1656441717791411, 'f1-score': 0.1656441717791411, 'support': 163}, 'macro avg': {'precision': 0.03312883435582822, 'recall': 0.2, 'f1-score': 0.056842105263157895, 'support': 163}, 'weighted avg': {'precision': 0.027437991644397603, 'recall': 0.1656441717791411, 'f1-score': 0.047077817242492735, 'support': 163}}, {'Basal': {'precision': 0.1656441717791411, 'recall': 1.0, 'f1-score': 0.28421052631578947, 'support': 27}, 'Her2': {'precision': 0.0, 'recall': 0.0, 'f1-score': 0.0, 'support': 13}, 'LumA': {'precision': 0.0, 'recall': 0.0, 'f1-score': 0.0, 'support': 83}, 'LumB': {'precision': 0.0, 'recall': 0.0, 'f1-score': 0.0, 'support': 35}, 'Normal': {'precision': 0.0, 'recall': 0.0, 'f1-score': 0.0, 'support': 5}, 'micro avg': {'precision': 0.1656441717791411, 'recall': 0.1656441717791411, 'f1-score': 0.1656441717791411, 'support': 163}, 'macro avg': {'precision': 0.03312883435582822, 'recall': 0.2, 'f1-score': 0.056842105263157895, 'support': 163}, 'weighted avg': {'precision': 0.027437991644397603, 'recall': 0.1656441717791411, 'f1-score': 0.047077817242492735, 'support': 163}}, {'Basal': {'precision': 0.1656441717791411, 'recall': 1.0, 'f1-score': 0.28421052631578947, 'support': 27}, 'Her2': {'precision': 0.0, 'recall': 0.0, 'f1-score': 0.0, 'support': 13}, 'LumA': {'precision': 0.0, 'recall': 0.0, 'f1-score': 0.0, 'support': 83}, 'LumB': {'precision': 0.0, 'recall': 0.0, 'f1-score': 0.0, 'support': 35}, 'Normal': {'precision': 0.0, 'recall': 0.0, 'f1-score': 0.0, 'support': 5}, 'micro avg': {'precision': 0.1656441717791411, 'recall': 0.1656441717791411, 'f1-score': 0.1656441717791411, 'support': 163}, 'macro avg': {'precision': 0.03312883435582822, 'recall': 0.2, 'f1-score': 0.056842105263157895, 'support': 163}, 'weighted avg': {'precision': 0.027437991644397603, 'recall': 0.1656441717791411, 'f1-score': 0.047077817242492735, 'support': 163}}, {'Basal': {'precision': 0.1656441717791411, 'recall': 1.0, 'f1-score': 0.28421052631578947, 'support': 27}, 'Her2': {'precision': 0.0, 'recall': 0.0, 'f1-score': 0.0, 'support': 13}, 'LumA': {'precision': 0.0, 'recall': 0.0, 'f1-score': 0.0, 'support': 83}, 'LumB': {'precision': 0.0, 'recall': 0.0, 'f1-score': 0.0, 'support': 35}, 'Normal': {'precision': 0.0, 'recall': 0.0, 'f1-score': 0.0, 'support': 5}, 'micro avg': {'precision': 0.1656441717791411, 'recall': 0.1656441717791411, 'f1-score': 0.1656441717791411, 'support': 163}, 'macro avg': {'precision': 0.03312883435582822, 'recall': 0.2, 'f1-score': 0.056842105263157895, 'support': 163}, 'weighted avg': {'precision': 0.027437991644397603, 'recall': 0.1656441717791411, 'f1-score': 0.047077817242492735, 'support': 163}}]\n",
      "Fold 1 of 5\n",
      "LumA      83\n",
      "LumB      36\n",
      "Basal     27\n",
      "Her2      13\n",
      "Normal     5\n",
      "Name: Ciriello_subtype, dtype: int64\n",
      "Fold 2 of 5\n",
      "LumA      83\n",
      "LumB      35\n",
      "Basal     27\n",
      "Her2      13\n",
      "Normal     5\n",
      "Name: Ciriello_subtype, dtype: int64\n"
     ]
    },
    {
     "name": "stderr",
     "output_type": "stream",
     "text": [
      "/home/cristovao/anaconda3/envs/thesis/lib/python3.7/site-packages/sklearn/metrics/classification.py:1143: UndefinedMetricWarning: Precision and F-score are ill-defined and being set to 0.0 in labels with no predicted samples.\n",
      "  'precision', 'predicted', average, warn_for)\n",
      "/home/cristovao/anaconda3/envs/thesis/lib/python3.7/site-packages/sklearn/metrics/classification.py:1143: UndefinedMetricWarning: Precision and F-score are ill-defined and being set to 0.0 in labels with no predicted samples.\n",
      "  'precision', 'predicted', average, warn_for)\n"
     ]
    },
    {
     "name": "stdout",
     "output_type": "stream",
     "text": [
      "Fold 3 of 5\n",
      "LumA      83\n",
      "LumB      35\n",
      "Basal     27\n",
      "Her2      13\n",
      "Normal     5\n",
      "Name: Ciriello_subtype, dtype: int64\n",
      "Fold 4 of 5\n",
      "LumA      83\n",
      "LumB      35\n",
      "Basal     27\n",
      "Her2      13\n",
      "Normal     5\n",
      "Name: Ciriello_subtype, dtype: int64\n"
     ]
    },
    {
     "name": "stderr",
     "output_type": "stream",
     "text": [
      "/home/cristovao/anaconda3/envs/thesis/lib/python3.7/site-packages/sklearn/metrics/classification.py:1143: UndefinedMetricWarning: Precision and F-score are ill-defined and being set to 0.0 in labels with no predicted samples.\n",
      "  'precision', 'predicted', average, warn_for)\n",
      "/home/cristovao/anaconda3/envs/thesis/lib/python3.7/site-packages/sklearn/metrics/classification.py:1143: UndefinedMetricWarning: Precision and F-score are ill-defined and being set to 0.0 in labels with no predicted samples.\n",
      "  'precision', 'predicted', average, warn_for)\n"
     ]
    },
    {
     "name": "stdout",
     "output_type": "stream",
     "text": [
      "Fold 5 of 5\n",
      "LumA      83\n",
      "LumB      35\n",
      "Basal     27\n",
      "Her2      13\n",
      "Normal     5\n",
      "Name: Ciriello_subtype, dtype: int64\n",
      "Results: [0.5060975609756098, 0.50920245398773, 0.50920245398773, 0.50920245398773, 0.50920245398773]\n",
      "C: 0.01, Accuracy: 0.508581475385306\n",
      "[{'Basal': {'precision': 0.0, 'recall': 0.0, 'f1-score': 0.0, 'support': 27}, 'Her2': {'precision': 0.0, 'recall': 0.0, 'f1-score': 0.0, 'support': 13}, 'LumA': {'precision': 0.5060975609756098, 'recall': 1.0, 'f1-score': 0.6720647773279352, 'support': 83}, 'LumB': {'precision': 0.0, 'recall': 0.0, 'f1-score': 0.0, 'support': 36}, 'Normal': {'precision': 0.0, 'recall': 0.0, 'f1-score': 0.0, 'support': 5}, 'micro avg': {'precision': 0.5060975609756098, 'recall': 0.5060975609756098, 'f1-score': 0.5060975609756098, 'support': 164}, 'macro avg': {'precision': 0.10121951219512196, 'recall': 0.2, 'f1-score': 0.13441295546558704, 'support': 164}, 'weighted avg': {'precision': 0.25613474122546104, 'recall': 0.5060975609756098, 'f1-score': 0.3401303446232843, 'support': 164}}, {'Basal': {'precision': 0.0, 'recall': 0.0, 'f1-score': 0.0, 'support': 27}, 'Her2': {'precision': 0.0, 'recall': 0.0, 'f1-score': 0.0, 'support': 13}, 'LumA': {'precision': 0.50920245398773, 'recall': 1.0, 'f1-score': 0.6747967479674797, 'support': 83}, 'LumB': {'precision': 0.0, 'recall': 0.0, 'f1-score': 0.0, 'support': 35}, 'Normal': {'precision': 0.0, 'recall': 0.0, 'f1-score': 0.0, 'support': 5}, 'micro avg': {'precision': 0.50920245398773, 'recall': 0.50920245398773, 'f1-score': 0.50920245398773, 'support': 163}, 'macro avg': {'precision': 0.10184049079754601, 'recall': 0.2, 'f1-score': 0.13495934959349593, 'support': 163}, 'weighted avg': {'precision': 0.2592871391471263, 'recall': 0.50920245398773, 'f1-score': 0.34360816000798045, 'support': 163}}, {'Basal': {'precision': 0.0, 'recall': 0.0, 'f1-score': 0.0, 'support': 27}, 'Her2': {'precision': 0.0, 'recall': 0.0, 'f1-score': 0.0, 'support': 13}, 'LumA': {'precision': 0.50920245398773, 'recall': 1.0, 'f1-score': 0.6747967479674797, 'support': 83}, 'LumB': {'precision': 0.0, 'recall': 0.0, 'f1-score': 0.0, 'support': 35}, 'Normal': {'precision': 0.0, 'recall': 0.0, 'f1-score': 0.0, 'support': 5}, 'micro avg': {'precision': 0.50920245398773, 'recall': 0.50920245398773, 'f1-score': 0.50920245398773, 'support': 163}, 'macro avg': {'precision': 0.10184049079754601, 'recall': 0.2, 'f1-score': 0.13495934959349593, 'support': 163}, 'weighted avg': {'precision': 0.2592871391471263, 'recall': 0.50920245398773, 'f1-score': 0.34360816000798045, 'support': 163}}, {'Basal': {'precision': 0.0, 'recall': 0.0, 'f1-score': 0.0, 'support': 27}, 'Her2': {'precision': 0.0, 'recall': 0.0, 'f1-score': 0.0, 'support': 13}, 'LumA': {'precision': 0.50920245398773, 'recall': 1.0, 'f1-score': 0.6747967479674797, 'support': 83}, 'LumB': {'precision': 0.0, 'recall': 0.0, 'f1-score': 0.0, 'support': 35}, 'Normal': {'precision': 0.0, 'recall': 0.0, 'f1-score': 0.0, 'support': 5}, 'micro avg': {'precision': 0.50920245398773, 'recall': 0.50920245398773, 'f1-score': 0.50920245398773, 'support': 163}, 'macro avg': {'precision': 0.10184049079754601, 'recall': 0.2, 'f1-score': 0.13495934959349593, 'support': 163}, 'weighted avg': {'precision': 0.2592871391471263, 'recall': 0.50920245398773, 'f1-score': 0.34360816000798045, 'support': 163}}, {'Basal': {'precision': 0.0, 'recall': 0.0, 'f1-score': 0.0, 'support': 27}, 'Her2': {'precision': 0.0, 'recall': 0.0, 'f1-score': 0.0, 'support': 13}, 'LumA': {'precision': 0.50920245398773, 'recall': 1.0, 'f1-score': 0.6747967479674797, 'support': 83}, 'LumB': {'precision': 0.0, 'recall': 0.0, 'f1-score': 0.0, 'support': 35}, 'Normal': {'precision': 0.0, 'recall': 0.0, 'f1-score': 0.0, 'support': 5}, 'micro avg': {'precision': 0.50920245398773, 'recall': 0.50920245398773, 'f1-score': 0.50920245398773, 'support': 163}, 'macro avg': {'precision': 0.10184049079754601, 'recall': 0.2, 'f1-score': 0.13495934959349593, 'support': 163}, 'weighted avg': {'precision': 0.2592871391471263, 'recall': 0.50920245398773, 'f1-score': 0.34360816000798045, 'support': 163}}]\n",
      "Fold 1 of 5\n",
      "LumA      83\n",
      "LumB      36\n",
      "Basal     27\n",
      "Her2      13\n",
      "Normal     5\n",
      "Name: Ciriello_subtype, dtype: int64\n"
     ]
    },
    {
     "name": "stderr",
     "output_type": "stream",
     "text": [
      "/home/cristovao/anaconda3/envs/thesis/lib/python3.7/site-packages/sklearn/metrics/classification.py:1143: UndefinedMetricWarning: Precision and F-score are ill-defined and being set to 0.0 in labels with no predicted samples.\n",
      "  'precision', 'predicted', average, warn_for)\n",
      "/home/cristovao/anaconda3/envs/thesis/lib/python3.7/site-packages/sklearn/metrics/classification.py:1143: UndefinedMetricWarning: Precision and F-score are ill-defined and being set to 0.0 in labels with no predicted samples.\n",
      "  'precision', 'predicted', average, warn_for)\n"
     ]
    },
    {
     "name": "stdout",
     "output_type": "stream",
     "text": [
      "Fold 2 of 5\n",
      "LumA      83\n",
      "LumB      35\n",
      "Basal     27\n",
      "Her2      13\n",
      "Normal     5\n",
      "Name: Ciriello_subtype, dtype: int64\n",
      "Fold 3 of 5\n",
      "LumA      83\n",
      "LumB      35\n",
      "Basal     27\n",
      "Her2      13\n",
      "Normal     5\n",
      "Name: Ciriello_subtype, dtype: int64\n"
     ]
    },
    {
     "name": "stderr",
     "output_type": "stream",
     "text": [
      "/home/cristovao/anaconda3/envs/thesis/lib/python3.7/site-packages/sklearn/metrics/classification.py:1143: UndefinedMetricWarning: Precision and F-score are ill-defined and being set to 0.0 in labels with no predicted samples.\n",
      "  'precision', 'predicted', average, warn_for)\n",
      "/home/cristovao/anaconda3/envs/thesis/lib/python3.7/site-packages/sklearn/metrics/classification.py:1143: UndefinedMetricWarning: Precision and F-score are ill-defined and being set to 0.0 in labels with no predicted samples.\n",
      "  'precision', 'predicted', average, warn_for)\n"
     ]
    },
    {
     "name": "stdout",
     "output_type": "stream",
     "text": [
      "Fold 4 of 5\n",
      "LumA      83\n",
      "LumB      35\n",
      "Basal     27\n",
      "Her2      13\n",
      "Normal     5\n",
      "Name: Ciriello_subtype, dtype: int64\n",
      "Fold 5 of 5\n",
      "LumA      83\n",
      "LumB      35\n",
      "Basal     27\n",
      "Her2      13\n",
      "Normal     5\n",
      "Name: Ciriello_subtype, dtype: int64\n"
     ]
    },
    {
     "name": "stderr",
     "output_type": "stream",
     "text": [
      "/home/cristovao/anaconda3/envs/thesis/lib/python3.7/site-packages/sklearn/metrics/classification.py:1143: UndefinedMetricWarning: Precision and F-score are ill-defined and being set to 0.0 in labels with no predicted samples.\n",
      "  'precision', 'predicted', average, warn_for)\n",
      "/home/cristovao/anaconda3/envs/thesis/lib/python3.7/site-packages/sklearn/metrics/classification.py:1143: UndefinedMetricWarning: Precision and F-score are ill-defined and being set to 0.0 in labels with no predicted samples.\n",
      "  'precision', 'predicted', average, warn_for)\n"
     ]
    },
    {
     "name": "stdout",
     "output_type": "stream",
     "text": [
      "Results: [0.7073170731707317, 0.7116564417177914, 0.7116564417177914, 0.6993865030674846, 0.7177914110429447]\n",
      "C: 0.1, Accuracy: 0.7095615741433487\n",
      "[{'Basal': {'precision': 0.9310344827586207, 'recall': 1.0, 'f1-score': 0.9642857142857143, 'support': 27}, 'Her2': {'precision': 0.0, 'recall': 0.0, 'f1-score': 0.0, 'support': 13}, 'LumA': {'precision': 0.6587301587301587, 'recall': 1.0, 'f1-score': 0.7942583732057417, 'support': 83}, 'LumB': {'precision': 0.6666666666666666, 'recall': 0.16666666666666666, 'f1-score': 0.26666666666666666, 'support': 36}, 'Normal': {'precision': 0.0, 'recall': 0.0, 'f1-score': 0.0, 'support': 5}, 'micro avg': {'precision': 0.7073170731707317, 'recall': 0.7073170731707317, 'f1-score': 0.7073170731707317, 'support': 164}, 'macro avg': {'precision': 0.4512862616310892, 'recall': 0.4333333333333333, 'f1-score': 0.40504215083162454, 'support': 164}, 'weighted avg': {'precision': 0.6330032573724752, 'recall': 0.7073170731707317, 'f1-score': 0.6192631662304319, 'support': 164}}, {'Basal': {'precision': 0.9230769230769231, 'recall': 0.8888888888888888, 'f1-score': 0.9056603773584906, 'support': 27}, 'Her2': {'precision': 0.6666666666666666, 'recall': 0.15384615384615385, 'f1-score': 0.25, 'support': 13}, 'LumA': {'precision': 0.656, 'recall': 0.9879518072289156, 'f1-score': 0.7884615384615384, 'support': 83}, 'LumB': {'precision': 0.8888888888888888, 'recall': 0.22857142857142856, 'f1-score': 0.3636363636363636, 'support': 35}, 'Normal': {'precision': 0.0, 'recall': 0.0, 'f1-score': 0.0, 'support': 5}, 'micro avg': {'precision': 0.7116564417177914, 'recall': 0.7116564417177914, 'f1-score': 0.7116564417177914, 'support': 163}, 'macro avg': {'precision': 0.6269264957264957, 'recall': 0.45185165570707736, 'f1-score': 0.46155165589127856, 'support': 163}, 'weighted avg': {'precision': 0.7309745687169, 'recall': 0.7116564417177914, 'f1-score': 0.6495239914617157, 'support': 163}}, {'Basal': {'precision': 0.9, 'recall': 1.0, 'f1-score': 0.9473684210526316, 'support': 27}, 'Her2': {'precision': 1.0, 'recall': 0.07692307692307693, 'f1-score': 0.14285714285714288, 'support': 13}, 'LumA': {'precision': 0.6585365853658537, 'recall': 0.9759036144578314, 'f1-score': 0.7864077669902912, 'support': 83}, 'LumB': {'precision': 0.7777777777777778, 'recall': 0.2, 'f1-score': 0.3181818181818182, 'support': 35}, 'Normal': {'precision': 0.0, 'recall': 0.0, 'f1-score': 0.0, 'support': 5}, 'micro avg': {'precision': 0.7116564417177914, 'recall': 0.7116564417177914, 'f1-score': 0.7116564417177914, 'support': 163}, 'macro avg': {'precision': 0.6672628726287263, 'recall': 0.45056533827618167, 'f1-score': 0.4389630298163768, 'support': 163}, 'weighted avg': {'precision': 0.7311702994330558, 'recall': 0.7116564417177914, 'f1-score': 0.6370815860252868, 'support': 163}}, {'Basal': {'precision': 0.7741935483870968, 'recall': 0.8888888888888888, 'f1-score': 0.8275862068965517, 'support': 27}, 'Her2': {'precision': 0.4, 'recall': 0.15384615384615385, 'f1-score': 0.2222222222222222, 'support': 13}, 'LumA': {'precision': 0.6982758620689655, 'recall': 0.9759036144578314, 'f1-score': 0.814070351758794, 'support': 83}, 'LumB': {'precision': 0.6363636363636364, 'recall': 0.2, 'f1-score': 0.30434782608695654, 'support': 35}, 'Normal': {'precision': 0.0, 'recall': 0.0, 'f1-score': 0.0, 'support': 5}, 'micro avg': {'precision': 0.6993865030674846, 'recall': 0.6993865030674846, 'f1-score': 0.6993865030674846, 'support': 163}, 'macro avg': {'precision': 0.5017666093639398, 'recall': 0.44372773143857486, 'f1-score': 0.4336453213929049, 'support': 163}, 'weighted avg': {'precision': 0.6523487707417363, 'recall': 0.6993865030674846, 'f1-score': 0.6346854575712833, 'support': 163}}, {'Basal': {'precision': 0.7878787878787878, 'recall': 0.9629629629629629, 'f1-score': 0.8666666666666665, 'support': 27}, 'Her2': {'precision': 1.0, 'recall': 0.07692307692307693, 'f1-score': 0.14285714285714288, 'support': 13}, 'LumA': {'precision': 0.6974789915966386, 'recall': 1.0, 'f1-score': 0.8217821782178217, 'support': 83}, 'LumB': {'precision': 0.7, 'recall': 0.2, 'f1-score': 0.3111111111111111, 'support': 35}, 'Normal': {'precision': 0.0, 'recall': 0.0, 'f1-score': 0.0, 'support': 5}, 'micro avg': {'precision': 0.7177914110429447, 'recall': 0.7177914110429447, 'f1-score': 0.7177914110429446, 'support': 163}, 'macro avg': {'precision': 0.6370715558950852, 'recall': 0.447977207977208, 'f1-score': 0.4284834197705484, 'support': 163}, 'weighted avg': {'precision': 0.7157268930996827, 'recall': 0.7177914110429447, 'f1-score': 0.6402082977798218, 'support': 163}}]\n",
      "Fold 1 of 5\n",
      "LumA      83\n",
      "LumB      36\n",
      "Basal     27\n",
      "Her2      13\n",
      "Normal     5\n",
      "Name: Ciriello_subtype, dtype: int64\n"
     ]
    },
    {
     "name": "stderr",
     "output_type": "stream",
     "text": [
      "/home/cristovao/anaconda3/envs/thesis/lib/python3.7/site-packages/sklearn/metrics/classification.py:1143: UndefinedMetricWarning: Precision and F-score are ill-defined and being set to 0.0 in labels with no predicted samples.\n",
      "  'precision', 'predicted', average, warn_for)\n"
     ]
    },
    {
     "name": "stdout",
     "output_type": "stream",
     "text": [
      "Fold 2 of 5\n",
      "LumA      83\n",
      "LumB      35\n",
      "Basal     27\n",
      "Her2      13\n",
      "Normal     5\n",
      "Name: Ciriello_subtype, dtype: int64\n"
     ]
    },
    {
     "name": "stderr",
     "output_type": "stream",
     "text": [
      "/home/cristovao/anaconda3/envs/thesis/lib/python3.7/site-packages/sklearn/metrics/classification.py:1143: UndefinedMetricWarning: Precision and F-score are ill-defined and being set to 0.0 in labels with no predicted samples.\n",
      "  'precision', 'predicted', average, warn_for)\n"
     ]
    },
    {
     "name": "stdout",
     "output_type": "stream",
     "text": [
      "Fold 3 of 5\n",
      "LumA      83\n",
      "LumB      35\n",
      "Basal     27\n",
      "Her2      13\n",
      "Normal     5\n",
      "Name: Ciriello_subtype, dtype: int64\n",
      "Fold 4 of 5\n",
      "LumA      83\n",
      "LumB      35\n",
      "Basal     27\n",
      "Her2      13\n",
      "Normal     5\n",
      "Name: Ciriello_subtype, dtype: int64\n"
     ]
    },
    {
     "name": "stderr",
     "output_type": "stream",
     "text": [
      "/home/cristovao/anaconda3/envs/thesis/lib/python3.7/site-packages/sklearn/metrics/classification.py:1143: UndefinedMetricWarning: Precision and F-score are ill-defined and being set to 0.0 in labels with no predicted samples.\n",
      "  'precision', 'predicted', average, warn_for)\n"
     ]
    },
    {
     "name": "stdout",
     "output_type": "stream",
     "text": [
      "Fold 5 of 5\n",
      "LumA      83\n",
      "LumB      35\n",
      "Basal     27\n",
      "Her2      13\n",
      "Normal     5\n",
      "Name: Ciriello_subtype, dtype: int64\n"
     ]
    },
    {
     "name": "stderr",
     "output_type": "stream",
     "text": [
      "/home/cristovao/anaconda3/envs/thesis/lib/python3.7/site-packages/sklearn/metrics/classification.py:1143: UndefinedMetricWarning: Precision and F-score are ill-defined and being set to 0.0 in labels with no predicted samples.\n",
      "  'precision', 'predicted', average, warn_for)\n"
     ]
    },
    {
     "name": "stdout",
     "output_type": "stream",
     "text": [
      "Results: [0.8170731707317073, 0.7730061349693251, 0.7914110429447853, 0.7914110429447853, 0.7914110429447853]\n",
      "C: 1, Accuracy: 0.7928624869070775\n",
      "[{'Basal': {'precision': 0.9642857142857143, 'recall': 1.0, 'f1-score': 0.9818181818181818, 'support': 27}, 'Her2': {'precision': 0.7, 'recall': 0.5384615384615384, 'f1-score': 0.608695652173913, 'support': 13}, 'LumA': {'precision': 0.8080808080808081, 'recall': 0.963855421686747, 'f1-score': 0.8791208791208791, 'support': 83}, 'LumB': {'precision': 0.7407407407407407, 'recall': 0.5555555555555556, 'f1-score': 0.634920634920635, 'support': 36}, 'Normal': {'precision': 0.0, 'recall': 0.0, 'f1-score': 0.0, 'support': 5}, 'micro avg': {'precision': 0.8170731707317073, 'recall': 0.8170731707317073, 'f1-score': 0.8170731707317073, 'support': 164}, 'macro avg': {'precision': 0.6426214526214526, 'recall': 0.6115745031407682, 'f1-score': 0.6209110696067218, 'support': 164}, 'weighted avg': {'precision': 0.7858115123359026, 'recall': 0.8170731707317073, 'f1-score': 0.7941848183629732, 'support': 164}}, {'Basal': {'precision': 0.9615384615384616, 'recall': 0.9259259259259259, 'f1-score': 0.9433962264150944, 'support': 27}, 'Her2': {'precision': 0.7272727272727273, 'recall': 0.6153846153846154, 'f1-score': 0.6666666666666667, 'support': 13}, 'LumA': {'precision': 0.75, 'recall': 0.9036144578313253, 'f1-score': 0.8196721311475409, 'support': 83}, 'LumB': {'precision': 0.6923076923076923, 'recall': 0.5142857142857142, 'f1-score': 0.5901639344262295, 'support': 35}, 'Normal': {'precision': 0.0, 'recall': 0.0, 'f1-score': 0.0, 'support': 5}, 'micro avg': {'precision': 0.7730061349693251, 'recall': 0.7730061349693251, 'f1-score': 0.7730061349693251, 'support': 163}, 'macro avg': {'precision': 0.6262237762237761, 'recall': 0.5918421426855163, 'f1-score': 0.6039797917311063, 'support': 163}, 'weighted avg': {'precision': 0.7478334548886696, 'recall': 0.7730061349693251, 'f1-score': 0.753539198589191, 'support': 163}}, {'Basal': {'precision': 0.9, 'recall': 1.0, 'f1-score': 0.9473684210526316, 'support': 27}, 'Her2': {'precision': 0.6, 'recall': 0.46153846153846156, 'f1-score': 0.5217391304347826, 'support': 13}, 'LumA': {'precision': 0.8172043010752689, 'recall': 0.9156626506024096, 'f1-score': 0.8636363636363636, 'support': 83}, 'LumB': {'precision': 0.6666666666666666, 'recall': 0.5142857142857142, 'f1-score': 0.5806451612903226, 'support': 35}, 'Normal': {'precision': 0.6666666666666666, 'recall': 0.4, 'f1-score': 0.5, 'support': 5}, 'micro avg': {'precision': 0.7914110429447853, 'recall': 0.7914110429447853, 'f1-score': 0.7914110429447851, 'support': 163}, 'macro avg': {'precision': 0.7301075268817204, 'recall': 0.658297365285317, 'f1-score': 0.6826778152828201, 'support': 163}, 'weighted avg': {'precision': 0.7766541328583679, 'recall': 0.7914110429447853, 'f1-score': 0.7783187416629, 'support': 163}}, {'Basal': {'precision': 0.92, 'recall': 0.8518518518518519, 'f1-score': 0.8846153846153846, 'support': 27}, 'Her2': {'precision': 0.6, 'recall': 0.6923076923076923, 'f1-score': 0.6428571428571429, 'support': 13}, 'LumA': {'precision': 0.8105263157894737, 'recall': 0.927710843373494, 'f1-score': 0.8651685393258428, 'support': 83}, 'LumB': {'precision': 0.7142857142857143, 'recall': 0.5714285714285714, 'f1-score': 0.634920634920635, 'support': 35}, 'Normal': {'precision': 0.0, 'recall': 0.0, 'f1-score': 0.0, 'support': 5}, 'micro avg': {'precision': 0.7914110429447853, 'recall': 0.7914110429447853, 'f1-score': 0.7914110429447851, 'support': 163}, 'macro avg': {'precision': 0.6089624060150376, 'recall': 0.608659791792322, 'f1-score': 0.605512340343801, 'support': 163}, 'weighted avg': {'precision': 0.7663416209234744, 'recall': 0.7914110429447853, 'f1-score': 0.7746807928099719, 'support': 163}}, {'Basal': {'precision': 0.9285714285714286, 'recall': 0.9629629629629629, 'f1-score': 0.9454545454545454, 'support': 27}, 'Her2': {'precision': 1.0, 'recall': 0.7692307692307693, 'f1-score': 0.8695652173913044, 'support': 13}, 'LumA': {'precision': 0.7872340425531915, 'recall': 0.891566265060241, 'f1-score': 0.8361581920903955, 'support': 83}, 'LumB': {'precision': 0.6129032258064516, 'recall': 0.5428571428571428, 'f1-score': 0.5757575757575757, 'support': 35}, 'Normal': {'precision': 0.0, 'recall': 0.0, 'f1-score': 0.0, 'support': 5}, 'micro avg': {'precision': 0.7914110429447853, 'recall': 0.7914110429447853, 'f1-score': 0.7914110429447851, 'support': 163}, 'macro avg': {'precision': 0.6657417393862144, 'recall': 0.6333234280222232, 'f1-score': 0.6453871061387642, 'support': 163}, 'weighted avg': {'precision': 0.7660335399176028, 'recall': 0.7914110429447853, 'f1-score': 0.7753635929348323, 'support': 163}}]\n",
      "Fold 1 of 5\n",
      "LumA      83\n",
      "LumB      36\n",
      "Basal     27\n",
      "Her2      13\n",
      "Normal     5\n",
      "Name: Ciriello_subtype, dtype: int64\n",
      "Fold 2 of 5\n",
      "LumA      83\n",
      "LumB      35\n",
      "Basal     27\n",
      "Her2      13\n",
      "Normal     5\n",
      "Name: Ciriello_subtype, dtype: int64\n",
      "Fold 3 of 5\n",
      "LumA      83\n",
      "LumB      35\n",
      "Basal     27\n",
      "Her2      13\n",
      "Normal     5\n",
      "Name: Ciriello_subtype, dtype: int64\n",
      "Fold 4 of 5\n",
      "LumA      83\n",
      "LumB      35\n",
      "Basal     27\n",
      "Her2      13\n",
      "Normal     5\n",
      "Name: Ciriello_subtype, dtype: int64\n",
      "Fold 5 of 5\n",
      "LumA      83\n",
      "LumB      35\n",
      "Basal     27\n",
      "Her2      13\n",
      "Normal     5\n",
      "Name: Ciriello_subtype, dtype: int64\n",
      "Results: [0.7804878048780488, 0.7791411042944786, 0.754601226993865, 0.7484662576687117, 0.7484662576687117]\n",
      "C: 10, Accuracy: 0.7622325303007632\n",
      "[{'Basal': {'precision': 0.8928571428571429, 'recall': 0.9259259259259259, 'f1-score': 0.9090909090909091, 'support': 27}, 'Her2': {'precision': 0.6, 'recall': 0.46153846153846156, 'f1-score': 0.5217391304347826, 'support': 13}, 'LumA': {'precision': 0.8426966292134831, 'recall': 0.9036144578313253, 'f1-score': 0.8720930232558138, 'support': 83}, 'LumB': {'precision': 0.6111111111111112, 'recall': 0.6111111111111112, 'f1-score': 0.6111111111111112, 'support': 36}, 'Normal': {'precision': 0.0, 'recall': 0.0, 'f1-score': 0.0, 'support': 5}, 'micro avg': {'precision': 0.7804878048780488, 'recall': 0.7804878048780488, 'f1-score': 0.7804878048780488, 'support': 164}, 'macro avg': {'precision': 0.5893329766363474, 'recall': 0.5804379912813648, 'f1-score': 0.5828068347785234, 'support': 164}, 'weighted avg': {'precision': 0.755188799279646, 'recall': 0.7804878048780488, 'f1-score': 0.7665352693374345, 'support': 164}}, {'Basal': {'precision': 1.0, 'recall': 0.9259259259259259, 'f1-score': 0.9615384615384615, 'support': 27}, 'Her2': {'precision': 0.9, 'recall': 0.6923076923076923, 'f1-score': 0.7826086956521738, 'support': 13}, 'LumA': {'precision': 0.7578947368421053, 'recall': 0.8674698795180723, 'f1-score': 0.8089887640449439, 'support': 83}, 'LumB': {'precision': 0.6451612903225806, 'recall': 0.5714285714285714, 'f1-score': 0.606060606060606, 'support': 35}, 'Normal': {'precision': 0.5, 'recall': 0.2, 'f1-score': 0.28571428571428575, 'support': 5}, 'micro avg': {'precision': 0.7791411042944786, 'recall': 0.7791411042944786, 'f1-score': 0.7791411042944786, 'support': 163}, 'macro avg': {'precision': 0.7606112054329371, 'recall': 0.6514264138360524, 'f1-score': 0.6889821626020941, 'support': 163}, 'weighted avg': {'precision': 0.777214161467393, 'recall': 0.7791411042944786, 'f1-score': 0.7725289052849061, 'support': 163}}, {'Basal': {'precision': 0.896551724137931, 'recall': 0.9629629629629629, 'f1-score': 0.9285714285714286, 'support': 27}, 'Her2': {'precision': 0.5, 'recall': 0.38461538461538464, 'f1-score': 0.4347826086956522, 'support': 13}, 'LumA': {'precision': 0.8068181818181818, 'recall': 0.8554216867469879, 'f1-score': 0.8304093567251462, 'support': 83}, 'LumB': {'precision': 0.5625, 'recall': 0.5142857142857142, 'f1-score': 0.5373134328358209, 'support': 35}, 'Normal': {'precision': 0.75, 'recall': 0.6, 'f1-score': 0.6666666666666665, 'support': 5}, 'micro avg': {'precision': 0.754601226993865, 'recall': 0.754601226993865, 'f1-score': 0.754601226993865, 'support': 163}, 'macro avg': {'precision': 0.7031739811912225, 'recall': 0.66345714972221, 'f1-score': 0.6795486986989429, 'support': 163}, 'weighted avg': {'precision': 0.7430080100775045, 'recall': 0.754601226993865, 'f1-score': 0.7471587888051917, 'support': 163}}, {'Basal': {'precision': 0.92, 'recall': 0.8518518518518519, 'f1-score': 0.8846153846153846, 'support': 27}, 'Her2': {'precision': 0.6, 'recall': 0.6923076923076923, 'f1-score': 0.6428571428571429, 'support': 13}, 'LumA': {'precision': 0.7741935483870968, 'recall': 0.8674698795180723, 'f1-score': 0.8181818181818182, 'support': 83}, 'LumB': {'precision': 0.6206896551724138, 'recall': 0.5142857142857142, 'f1-score': 0.5625, 'support': 35}, 'Normal': {'precision': 0.0, 'recall': 0.0, 'f1-score': 0.0, 'support': 5}, 'micro avg': {'precision': 0.7484662576687117, 'recall': 0.7484662576687117, 'f1-score': 0.7484662576687117, 'support': 163}, 'macro avg': {'precision': 0.582976640711902, 'recall': 0.5851830275926662, 'f1-score': 0.5816308691308691, 'support': 163}, 'weighted avg': {'precision': 0.7277435732954817, 'recall': 0.7484662576687117, 'f1-score': 0.7352045960174795, 'support': 163}}, {'Basal': {'precision': 0.9285714285714286, 'recall': 0.9629629629629629, 'f1-score': 0.9454545454545454, 'support': 27}, 'Her2': {'precision': 0.8, 'recall': 0.6153846153846154, 'f1-score': 0.6956521739130435, 'support': 13}, 'LumA': {'precision': 0.7525773195876289, 'recall': 0.8795180722891566, 'f1-score': 0.8111111111111111, 'support': 83}, 'LumB': {'precision': 0.5555555555555556, 'recall': 0.42857142857142855, 'f1-score': 0.48387096774193544, 'support': 35}, 'Normal': {'precision': 0.0, 'recall': 0.0, 'f1-score': 0.0, 'support': 5}, 'micro avg': {'precision': 0.7484662576687117, 'recall': 0.7484662576687117, 'f1-score': 0.7484662576687117, 'support': 163}, 'macro avg': {'precision': 0.6073408607429226, 'recall': 0.5772874158416326, 'f1-score': 0.5872177596441271, 'support': 163}, 'weighted avg': {'precision': 0.7201214143659277, 'recall': 0.7484662576687117, 'f1-score': 0.7290089391492777, 'support': 163}}]\n",
      "Fold 1 of 5\n",
      "LumA      83\n",
      "LumB      36\n",
      "Basal     27\n",
      "Her2      13\n",
      "Normal     5\n",
      "Name: Ciriello_subtype, dtype: int64\n",
      "Fold 2 of 5\n",
      "LumA      83\n",
      "LumB      35\n",
      "Basal     27\n",
      "Her2      13\n",
      "Normal     5\n",
      "Name: Ciriello_subtype, dtype: int64\n",
      "Fold 3 of 5\n",
      "LumA      83\n",
      "LumB      35\n",
      "Basal     27\n",
      "Her2      13\n",
      "Normal     5\n",
      "Name: Ciriello_subtype, dtype: int64\n",
      "Fold 4 of 5\n",
      "LumA      83\n",
      "LumB      35\n",
      "Basal     27\n",
      "Her2      13\n",
      "Normal     5\n",
      "Name: Ciriello_subtype, dtype: int64\n",
      "Fold 5 of 5\n",
      "LumA      83\n",
      "LumB      35\n",
      "Basal     27\n",
      "Her2      13\n",
      "Normal     5\n",
      "Name: Ciriello_subtype, dtype: int64\n",
      "Results: [0.774390243902439, 0.7852760736196319, 0.7484662576687117, 0.754601226993865, 0.7423312883435583]\n",
      "C: 100, Accuracy: 0.7610130181056413\n",
      "[{'Basal': {'precision': 0.9615384615384616, 'recall': 0.9259259259259259, 'f1-score': 0.9433962264150944, 'support': 27}, 'Her2': {'precision': 0.6666666666666666, 'recall': 0.46153846153846156, 'f1-score': 0.5454545454545455, 'support': 13}, 'LumA': {'precision': 0.8111111111111111, 'recall': 0.8795180722891566, 'f1-score': 0.8439306358381503, 'support': 83}, 'LumB': {'precision': 0.6052631578947368, 'recall': 0.6388888888888888, 'f1-score': 0.6216216216216216, 'support': 36}, 'Normal': {'precision': 0.0, 'recall': 0.0, 'f1-score': 0.0, 'support': 5}, 'micro avg': {'precision': 0.774390243902439, 'recall': 0.774390243902439, 'f1-score': 0.7743902439024389, 'support': 164}, 'macro avg': {'precision': 0.6089158794421953, 'recall': 0.5811742697284866, 'f1-score': 0.5908806058658824, 'support': 164}, 'weighted avg': {'precision': 0.7545115916746212, 'recall': 0.774390243902439, 'f1-score': 0.7621172460796433, 'support': 164}}, {'Basal': {'precision': 0.9615384615384616, 'recall': 0.9259259259259259, 'f1-score': 0.9433962264150944, 'support': 27}, 'Her2': {'precision': 0.8888888888888888, 'recall': 0.6153846153846154, 'f1-score': 0.7272727272727274, 'support': 13}, 'LumA': {'precision': 0.7628865979381443, 'recall': 0.891566265060241, 'f1-score': 0.8222222222222222, 'support': 83}, 'LumB': {'precision': 0.6896551724137931, 'recall': 0.5714285714285714, 'f1-score': 0.625, 'support': 35}, 'Normal': {'precision': 0.5, 'recall': 0.2, 'f1-score': 0.28571428571428575, 'support': 5}, 'micro avg': {'precision': 0.7852760736196319, 'recall': 0.7852760736196319, 'f1-score': 0.785276073619632, 'support': 163}, 'macro avg': {'precision': 0.7605938241558576, 'recall': 0.6408610755598708, 'f1-score': 0.6807210923248659, 'support': 163}, 'weighted avg': {'precision': 0.7820528385303237, 'recall': 0.7852760736196319, 'f1-score': 0.7759157020906066, 'support': 163}}, {'Basal': {'precision': 0.8666666666666667, 'recall': 0.9629629629629629, 'f1-score': 0.912280701754386, 'support': 27}, 'Her2': {'precision': 0.6, 'recall': 0.46153846153846156, 'f1-score': 0.5217391304347826, 'support': 13}, 'LumA': {'precision': 0.8214285714285714, 'recall': 0.8313253012048193, 'f1-score': 0.8263473053892216, 'support': 83}, 'LumB': {'precision': 0.5428571428571428, 'recall': 0.5428571428571428, 'f1-score': 0.5428571428571428, 'support': 35}, 'Normal': {'precision': 0.5, 'recall': 0.4, 'f1-score': 0.4444444444444445, 'support': 5}, 'micro avg': {'precision': 0.7484662576687117, 'recall': 0.7484662576687117, 'f1-score': 0.7484662576687117, 'support': 163}, 'macro avg': {'precision': 0.6661904761904761, 'recall': 0.6397367737126773, 'f1-score': 0.6495337449759955, 'support': 163}, 'weighted avg': {'precision': 0.7415863277826469, 'recall': 0.7484662576687117, 'f1-score': 0.743700835659805, 'support': 163}}, {'Basal': {'precision': 0.8846153846153846, 'recall': 0.8518518518518519, 'f1-score': 0.8679245283018868, 'support': 27}, 'Her2': {'precision': 0.6428571428571429, 'recall': 0.6923076923076923, 'f1-score': 0.6666666666666666, 'support': 13}, 'LumA': {'precision': 0.797752808988764, 'recall': 0.8554216867469879, 'f1-score': 0.8255813953488371, 'support': 83}, 'LumB': {'precision': 0.6060606060606061, 'recall': 0.5714285714285714, 'f1-score': 0.588235294117647, 'support': 35}, 'Normal': {'precision': 0.0, 'recall': 0.0, 'f1-score': 0.0, 'support': 5}, 'micro avg': {'precision': 0.754601226993865, 'recall': 0.754601226993865, 'f1-score': 0.754601226993865, 'support': 163}, 'macro avg': {'precision': 0.5862571885043795, 'recall': 0.5942019604670208, 'f1-score': 0.5896815768870075, 'support': 163}, 'weighted avg': {'precision': 0.7341555987726802, 'recall': 0.754601226993865, 'f1-score': 0.7436326382753911, 'support': 163}}, {'Basal': {'precision': 0.9285714285714286, 'recall': 0.9629629629629629, 'f1-score': 0.9454545454545454, 'support': 27}, 'Her2': {'precision': 0.7692307692307693, 'recall': 0.7692307692307693, 'f1-score': 0.7692307692307693, 'support': 13}, 'LumA': {'precision': 0.7553191489361702, 'recall': 0.8554216867469879, 'f1-score': 0.8022598870056499, 'support': 83}, 'LumB': {'precision': 0.5185185185185185, 'recall': 0.4, 'f1-score': 0.45161290322580644, 'support': 35}, 'Normal': {'precision': 0.0, 'recall': 0.0, 'f1-score': 0.0, 'support': 5}, 'micro avg': {'precision': 0.7423312883435583, 'recall': 0.7423312883435583, 'f1-score': 0.7423312883435583, 'support': 163}, 'macro avg': {'precision': 0.5943279730513773, 'recall': 0.597523083788144, 'f1-score': 0.5937116209833542, 'support': 163}, 'weighted avg': {'precision': 0.7111108348544715, 'recall': 0.7423312883435583, 'f1-score': 0.7234435273720546, 'support': 163}}]\n",
      "Fold 1 of 5\n",
      "LumA      83\n",
      "LumB      36\n",
      "Basal     27\n",
      "Her2      13\n",
      "Normal     5\n",
      "Name: Ciriello_subtype, dtype: int64\n",
      "Fold 2 of 5\n",
      "LumA      83\n",
      "LumB      35\n",
      "Basal     27\n",
      "Her2      13\n",
      "Normal     5\n",
      "Name: Ciriello_subtype, dtype: int64\n",
      "Fold 3 of 5\n",
      "LumA      83\n",
      "LumB      35\n",
      "Basal     27\n",
      "Her2      13\n",
      "Normal     5\n",
      "Name: Ciriello_subtype, dtype: int64\n",
      "Fold 4 of 5\n",
      "LumA      83\n",
      "LumB      35\n",
      "Basal     27\n",
      "Her2      13\n",
      "Normal     5\n",
      "Name: Ciriello_subtype, dtype: int64\n",
      "Fold 5 of 5\n",
      "LumA      83\n",
      "LumB      35\n",
      "Basal     27\n",
      "Her2      13\n",
      "Normal     5\n",
      "Name: Ciriello_subtype, dtype: int64\n"
     ]
    },
    {
     "name": "stderr",
     "output_type": "stream",
     "text": [
      "/home/cristovao/anaconda3/envs/thesis/lib/python3.7/site-packages/sklearn/metrics/classification.py:1143: UndefinedMetricWarning: Precision and F-score are ill-defined and being set to 0.0 in labels with no predicted samples.\n",
      "  'precision', 'predicted', average, warn_for)\n"
     ]
    },
    {
     "name": "stdout",
     "output_type": "stream",
     "text": [
      "Results: [0.7439024390243902, 0.7730061349693251, 0.7484662576687117, 0.7423312883435583, 0.7668711656441718]\n",
      "C: 1000, Accuracy: 0.7549154571300314\n",
      "[{'Basal': {'precision': 0.9615384615384616, 'recall': 0.9259259259259259, 'f1-score': 0.9433962264150944, 'support': 27}, 'Her2': {'precision': 0.5, 'recall': 0.3076923076923077, 'f1-score': 0.380952380952381, 'support': 13}, 'LumA': {'precision': 0.7956989247311828, 'recall': 0.891566265060241, 'f1-score': 0.8409090909090909, 'support': 83}, 'LumB': {'precision': 0.5277777777777778, 'recall': 0.5277777777777778, 'f1-score': 0.5277777777777778, 'support': 36}, 'Normal': {'precision': 0.0, 'recall': 0.0, 'f1-score': 0.0, 'support': 5}, 'micro avg': {'precision': 0.7439024390243902, 'recall': 0.7439024390243902, 'f1-score': 0.7439024390243903, 'support': 164}, 'macro avg': {'precision': 0.5570030328094845, 'recall': 0.5305924552912504, 'f1-score': 0.5386070952108688, 'support': 164}, 'weighted avg': {'precision': 0.7164911537452844, 'recall': 0.7439024390243902, 'f1-score': 0.7269483756770918, 'support': 164}}, {'Basal': {'precision': 1.0, 'recall': 0.8888888888888888, 'f1-score': 0.9411764705882353, 'support': 27}, 'Her2': {'precision': 0.8181818181818182, 'recall': 0.6923076923076923, 'f1-score': 0.7500000000000001, 'support': 13}, 'LumA': {'precision': 0.7659574468085106, 'recall': 0.8674698795180723, 'f1-score': 0.8135593220338984, 'support': 83}, 'LumB': {'precision': 0.625, 'recall': 0.5714285714285714, 'f1-score': 0.5970149253731343, 'support': 35}, 'Normal': {'precision': 0.5, 'recall': 0.2, 'f1-score': 0.28571428571428575, 'support': 5}, 'micro avg': {'precision': 0.7730061349693251, 'recall': 0.7730061349693251, 'f1-score': 0.7730061349693251, 'support': 163}, 'macro avg': {'precision': 0.7418278529980658, 'recall': 0.644019006428645, 'f1-score': 0.6774930007419108, 'support': 163}, 'weighted avg': {'precision': 0.7704652252850921, 'recall': 0.7730061349693251, 'f1-score': 0.7669403819099819, 'support': 163}}, {'Basal': {'precision': 0.896551724137931, 'recall': 0.9629629629629629, 'f1-score': 0.9285714285714286, 'support': 27}, 'Her2': {'precision': 0.625, 'recall': 0.38461538461538464, 'f1-score': 0.4761904761904762, 'support': 13}, 'LumA': {'precision': 0.7777777777777778, 'recall': 0.8433734939759037, 'f1-score': 0.8092485549132947, 'support': 83}, 'LumB': {'precision': 0.5806451612903226, 'recall': 0.5142857142857142, 'f1-score': 0.5454545454545455, 'support': 35}, 'Normal': {'precision': 0.6, 'recall': 0.6, 'f1-score': 0.6, 'support': 5}, 'micro avg': {'precision': 0.7484662576687117, 'recall': 0.7484662576687117, 'f1-score': 0.7484662576687117, 'support': 163}, 'macro avg': {'precision': 0.6959949326412063, 'recall': 0.6610475111679931, 'f1-score': 0.6718930010259491, 'support': 163}, 'weighted avg': {'precision': 0.7374848635119079, 'recall': 0.7484662576687117, 'f1-score': 0.739389226445505, 'support': 163}}, {'Basal': {'precision': 0.9166666666666666, 'recall': 0.8148148148148148, 'f1-score': 0.8627450980392156, 'support': 27}, 'Her2': {'precision': 0.625, 'recall': 0.7692307692307693, 'f1-score': 0.6896551724137931, 'support': 13}, 'LumA': {'precision': 0.7954545454545454, 'recall': 0.8433734939759037, 'f1-score': 0.8187134502923977, 'support': 83}, 'LumB': {'precision': 0.5588235294117647, 'recall': 0.5428571428571428, 'f1-score': 0.5507246376811593, 'support': 35}, 'Normal': {'precision': 0.0, 'recall': 0.0, 'f1-score': 0.0, 'support': 5}, 'micro avg': {'precision': 0.7423312883435583, 'recall': 0.7423312883435583, 'f1-score': 0.7423312883435583, 'support': 163}, 'macro avg': {'precision': 0.5791889483065953, 'recall': 0.5940552441757261, 'f1-score': 0.5843676716853132, 'support': 163}, 'weighted avg': {'precision': 0.7267273055345953, 'recall': 0.7423312883435583, 'f1-score': 0.73305652504017, 'support': 163}}, {'Basal': {'precision': 0.8666666666666667, 'recall': 0.9629629629629629, 'f1-score': 0.912280701754386, 'support': 27}, 'Her2': {'precision': 0.8888888888888888, 'recall': 0.6153846153846154, 'f1-score': 0.7272727272727274, 'support': 13}, 'LumA': {'precision': 0.7653061224489796, 'recall': 0.9036144578313253, 'f1-score': 0.8287292817679558, 'support': 83}, 'LumB': {'precision': 0.6153846153846154, 'recall': 0.45714285714285713, 'f1-score': 0.5245901639344263, 'support': 35}, 'Normal': {'precision': 0.0, 'recall': 0.0, 'f1-score': 0.0, 'support': 5}, 'micro avg': {'precision': 0.7668711656441718, 'recall': 0.7668711656441718, 'f1-score': 0.7668711656441717, 'support': 163}, 'macro avg': {'precision': 0.6272492586778301, 'recall': 0.5878209786643522, 'f1-score': 0.5985745749458992, 'support': 163}, 'weighted avg': {'precision': 0.7362848175293398, 'recall': 0.7668711656441718, 'f1-score': 0.7437503713273566, 'support': 163}}]\n",
      "Fold 1 of 5\n",
      "LumA      83\n",
      "LumB      36\n",
      "Basal     27\n",
      "Her2      13\n",
      "Normal     5\n",
      "Name: Ciriello_subtype, dtype: int64\n",
      "Fold 2 of 5\n",
      "LumA      83\n",
      "LumB      35\n",
      "Basal     27\n",
      "Her2      13\n",
      "Normal     5\n",
      "Name: Ciriello_subtype, dtype: int64\n",
      "Fold 3 of 5\n",
      "LumA      83\n",
      "LumB      35\n",
      "Basal     27\n",
      "Her2      13\n",
      "Normal     5\n",
      "Name: Ciriello_subtype, dtype: int64\n",
      "Fold 4 of 5\n",
      "LumA      83\n",
      "LumB      35\n",
      "Basal     27\n",
      "Her2      13\n",
      "Normal     5\n",
      "Name: Ciriello_subtype, dtype: int64\n",
      "Fold 5 of 5\n",
      "LumA      83\n",
      "LumB      35\n",
      "Basal     27\n",
      "Her2      13\n",
      "Normal     5\n",
      "Name: Ciriello_subtype, dtype: int64\n",
      "Results: [0.7439024390243902, 0.7423312883435583, 0.7177914110429447, 0.7361963190184049, 0.754601226993865]\n",
      "C: 10000, Accuracy: 0.7389645368846327\n",
      "[{'Basal': {'precision': 1.0, 'recall': 0.8518518518518519, 'f1-score': 0.92, 'support': 27}, 'Her2': {'precision': 0.7, 'recall': 0.5384615384615384, 'f1-score': 0.608695652173913, 'support': 13}, 'LumA': {'precision': 0.782608695652174, 'recall': 0.8674698795180723, 'f1-score': 0.822857142857143, 'support': 83}, 'LumB': {'precision': 0.5405405405405406, 'recall': 0.5555555555555556, 'f1-score': 0.547945205479452, 'support': 36}, 'Normal': {'precision': 0.0, 'recall': 0.0, 'f1-score': 0.0, 'support': 5}, 'micro avg': {'precision': 0.7439024390243902, 'recall': 0.7439024390243902, 'f1-score': 0.7439024390243903, 'support': 164}, 'macro avg': {'precision': 0.6046298472385429, 'recall': 0.5626677650774037, 'f1-score': 0.5798996001021016, 'support': 164}, 'weighted avg': {'precision': 0.7348535438938407, 'recall': 0.7439024390243902, 'f1-score': 0.7364403276381952, 'support': 164}}, {'Basal': {'precision': 0.9583333333333334, 'recall': 0.8518518518518519, 'f1-score': 0.9019607843137256, 'support': 27}, 'Her2': {'precision': 0.8571428571428571, 'recall': 0.46153846153846156, 'f1-score': 0.6, 'support': 13}, 'LumA': {'precision': 0.7448979591836735, 'recall': 0.8795180722891566, 'f1-score': 0.8066298342541436, 'support': 83}, 'LumB': {'precision': 0.5757575757575758, 'recall': 0.5428571428571428, 'f1-score': 0.5588235294117646, 'support': 35}, 'Normal': {'precision': 0.0, 'recall': 0.0, 'f1-score': 0.0, 'support': 5}, 'micro avg': {'precision': 0.7423312883435583, 'recall': 0.7423312883435583, 'f1-score': 0.7423312883435583, 'support': 163}, 'macro avg': {'precision': 0.627226345083488, 'recall': 0.5471531057073225, 'f1-score': 0.5734828295959267, 'support': 163}, 'weighted avg': {'precision': 0.7300362141510258, 'recall': 0.7423312883435583, 'f1-score': 0.7279879812820631, 'support': 163}}, {'Basal': {'precision': 0.8461538461538461, 'recall': 0.8148148148148148, 'f1-score': 0.830188679245283, 'support': 27}, 'Her2': {'precision': 0.7142857142857143, 'recall': 0.38461538461538464, 'f1-score': 0.5, 'support': 13}, 'LumA': {'precision': 0.7446808510638298, 'recall': 0.8433734939759037, 'f1-score': 0.7909604519774013, 'support': 83}, 'LumB': {'precision': 0.5454545454545454, 'recall': 0.5142857142857142, 'f1-score': 0.5294117647058822, 'support': 35}, 'Normal': {'precision': 0.6666666666666666, 'recall': 0.4, 'f1-score': 0.5, 'support': 5}, 'micro avg': {'precision': 0.7177914110429447, 'recall': 0.7177914110429447, 'f1-score': 0.7177914110429446, 'support': 163}, 'macro avg': {'precision': 0.7034483247249204, 'recall': 0.5914178815383635, 'f1-score': 0.6301121791857133, 'support': 163}, 'weighted avg': {'precision': 0.7138933815607879, 'recall': 0.7177914110429447, 'f1-score': 0.7091670160641277, 'support': 163}}, {'Basal': {'precision': 0.9166666666666666, 'recall': 0.8148148148148148, 'f1-score': 0.8627450980392156, 'support': 27}, 'Her2': {'precision': 0.6470588235294118, 'recall': 0.8461538461538461, 'f1-score': 0.7333333333333334, 'support': 13}, 'LumA': {'precision': 0.7666666666666667, 'recall': 0.8313253012048193, 'f1-score': 0.7976878612716763, 'support': 83}, 'LumB': {'precision': 0.5806451612903226, 'recall': 0.5142857142857142, 'f1-score': 0.5454545454545455, 'support': 35}, 'Normal': {'precision': 0.0, 'recall': 0.0, 'f1-score': 0.0, 'support': 5}, 'micro avg': {'precision': 0.7361963190184049, 'recall': 0.7361963190184049, 'f1-score': 0.7361963190184049, 'support': 163}, 'macro avg': {'precision': 0.5822074636306136, 'recall': 0.6013159352918389, 'f1-score': 0.5878441676197542, 'support': 163}, 'weighted avg': {'precision': 0.718513366161822, 'recall': 0.7361963190184049, 'f1-score': 0.7247021629254624, 'support': 163}}, {'Basal': {'precision': 0.8620689655172413, 'recall': 0.9259259259259259, 'f1-score': 0.8928571428571429, 'support': 27}, 'Her2': {'precision': 1.0, 'recall': 0.6153846153846154, 'f1-score': 0.761904761904762, 'support': 13}, 'LumA': {'precision': 0.75, 'recall': 0.9036144578313253, 'f1-score': 0.8196721311475409, 'support': 83}, 'LumB': {'precision': 0.625, 'recall': 0.42857142857142855, 'f1-score': 0.5084745762711864, 'support': 35}, 'Normal': {'precision': 0.0, 'recall': 0.0, 'f1-score': 0.0, 'support': 5}, 'micro avg': {'precision': 0.754601226993865, 'recall': 0.754601226993865, 'f1-score': 0.754601226993865, 'support': 163}, 'macro avg': {'precision': 0.6474137931034483, 'recall': 0.574699285542659, 'f1-score': 0.5965817224361264, 'support': 163}, 'weighted avg': {'precision': 0.7386555955151259, 'recall': 0.754601226993865, 'f1-score': 0.7352227105315472, 'support': 163}}]\n"
     ]
    },
    {
     "data": {
      "text/plain": [
       "[0.16544216669160555,\n",
       " 0.508581475385306,\n",
       " 0.7095615741433487,\n",
       " 0.7928624869070775,\n",
       " 0.7622325303007632,\n",
       " 0.7610130181056413,\n",
       " 0.7549154571300314,\n",
       " 0.7389645368846327]"
      ]
     },
     "execution_count": 25,
     "metadata": {},
     "output_type": "execute_result"
    }
   ],
   "source": [
    "values=[0.001, 0.01, 0.1, 1, 10, 100, 1000, 10000]\n",
    "i=1\n",
    "results = pd.DataFrame(columns=[\"Index\", \"C\", \"Accuracy\"])\n",
    "mean_scores = []\n",
    "subtypes = [\"Basal\", \"Her2\", \"LumA\", \"LumB\", \"Normal\"]\n",
    "\n",
    "\n",
    "skf = StratifiedKFold(n_splits=5)\n",
    "for c in values:\n",
    "    scores = []\n",
    "    full_report = []\n",
    "\n",
    "    for train_index, test_index in skf.split(X_train, y_train):\n",
    "        print(\"Fold {} of 5\".format(i))\n",
    "        X_cv_train, X_cv_val = X_train.iloc[train_index], X_train.iloc[test_index]\n",
    "        y_cv_train, y_cv_val = y_train.iloc[train_index], y_train.iloc[test_index]\n",
    "        \n",
    "        print(y_cv_val.value_counts())\n",
    "\n",
    "        clf = LogisticRegression(random_state=0, solver='liblinear', penalty=\"l1\", C=c, multi_class=\"auto\").fit(X_cv_train, y_cv_train)\n",
    "\n",
    "        score = clf.score(X_cv_val, y_cv_val)\n",
    "        results = results.append({'Fold': i, 'C' : c , 'Score' : score}, ignore_index=True)\n",
    "        scores.append(score)\n",
    "        full_report.append(classification_report(y_cv_val, clf.predict(X_cv_val), target_names=subtypes, output_dict=True))\n",
    "        i+=1\n",
    "\n",
    "    i=1\n",
    "    mean_scores.append(np.mean(scores))\n",
    "    print('Results: {}'.format(scores))\n",
    "    print('C: {}, Accuracy: {}'.format(c, np.mean(scores)))\n",
    "    print(full_report)\n",
    "\n",
    "mean_scores"
   ]
  },
  {
   "cell_type": "code",
   "execution_count": null,
   "metadata": {},
   "outputs": [],
   "source": [
    "clf = LogisticRegression(random_state=0, solver='liblinear', penalty=\"l1\", C=1, multi_class=\"auto\").fit(X_train, y_train)"
   ]
  },
  {
   "cell_type": "code",
   "execution_count": 12,
   "metadata": {},
   "outputs": [
    {
     "name": "stdout",
     "output_type": "stream",
     "text": [
      "Confusion matrix\n",
      " [[ 35   0   0   1   0]\n",
      " [  1  11   2   1   0]\n",
      " [  0   2 117   9   0]\n",
      " [  0   1   7  18   0]\n",
      " [  2   2   7   1   2]]\n",
      "Accuracy 0.8356164383561644\n"
     ]
    }
   ],
   "source": [
    "final_score = clf.score(X_test, y_test)\n",
    "print('Confusion matrix\\n', confusion_matrix(y_test, clf.predict(X_test)))\n",
    "print('Accuracy', final_score)\n",
    "report = classification_report(y_test, clf.predict(X_test), target_names=subtypes, output_dict=True)"
   ]
  },
  {
   "cell_type": "code",
   "execution_count": 14,
   "metadata": {},
   "outputs": [
    {
     "data": {
      "text/plain": [
       "{'Basal': {'precision': 0.9210526315789473,\n",
       "  'recall': 0.9722222222222222,\n",
       "  'f1-score': 0.9459459459459458,\n",
       "  'support': 36},\n",
       " 'Her2': {'precision': 0.6875,\n",
       "  'recall': 0.7333333333333333,\n",
       "  'f1-score': 0.7096774193548386,\n",
       "  'support': 15},\n",
       " 'LumA': {'precision': 0.8796992481203008,\n",
       "  'recall': 0.9140625,\n",
       "  'f1-score': 0.896551724137931,\n",
       "  'support': 128},\n",
       " 'LumB': {'precision': 0.6,\n",
       "  'recall': 0.6923076923076923,\n",
       "  'f1-score': 0.6428571428571429,\n",
       "  'support': 26},\n",
       " 'Normal': {'precision': 1.0,\n",
       "  'recall': 0.14285714285714285,\n",
       "  'f1-score': 0.25,\n",
       "  'support': 14},\n",
       " 'micro avg': {'precision': 0.8356164383561644,\n",
       "  'recall': 0.8356164383561644,\n",
       "  'f1-score': 0.8356164383561644,\n",
       "  'support': 219},\n",
       " 'macro avg': {'precision': 0.8176503759398497,\n",
       "  'recall': 0.6909565781440782,\n",
       "  'f1-score': 0.6890064464591716,\n",
       "  'support': 219},\n",
       " 'weighted avg': {'precision': 0.8478168881106877,\n",
       "  'recall': 0.8356164383561644,\n",
       "  'f1-score': 0.8204206472525915,\n",
       "  'support': 219}}"
      ]
     },
     "execution_count": 14,
     "metadata": {},
     "output_type": "execute_result"
    }
   ],
   "source": [
    "report"
   ]
  },
  {
   "cell_type": "code",
   "execution_count": 64,
   "metadata": {},
   "outputs": [
    {
     "data": {
      "text/plain": [
       "{'Basal': {'precision': 0.9583333333333334,\n",
       "  'recall': 0.8518518518518519,\n",
       "  'f1-score': 0.9019607843137256,\n",
       "  'support': 27},\n",
       " 'Her2': {'precision': 0.8571428571428571,\n",
       "  'recall': 0.46153846153846156,\n",
       "  'f1-score': 0.6,\n",
       "  'support': 13},\n",
       " 'LumA': {'precision': 0.7448979591836735,\n",
       "  'recall': 0.8795180722891566,\n",
       "  'f1-score': 0.8066298342541436,\n",
       "  'support': 83},\n",
       " 'LumB': {'precision': 0.5757575757575758,\n",
       "  'recall': 0.5428571428571428,\n",
       "  'f1-score': 0.5588235294117646,\n",
       "  'support': 35},\n",
       " 'Normal': {'precision': 0.0, 'recall': 0.0, 'f1-score': 0.0, 'support': 5},\n",
       " 'micro avg': {'precision': 0.7423312883435583,\n",
       "  'recall': 0.7423312883435583,\n",
       "  'f1-score': 0.7423312883435583,\n",
       "  'support': 163},\n",
       " 'macro avg': {'precision': 0.627226345083488,\n",
       "  'recall': 0.5471531057073225,\n",
       "  'f1-score': 0.5734828295959267,\n",
       "  'support': 163},\n",
       " 'weighted avg': {'precision': 0.7300362141510258,\n",
       "  'recall': 0.7423312883435583,\n",
       "  'f1-score': 0.7279879812820631,\n",
       "  'support': 163}}"
      ]
     },
     "execution_count": 64,
     "metadata": {},
     "output_type": "execute_result"
    }
   ],
   "source": [
    "full_report[1]"
   ]
  },
  {
   "cell_type": "code",
   "execution_count": 27,
   "metadata": {},
   "outputs": [
    {
     "name": "stdout",
     "output_type": "stream",
     "text": [
      "PRECISION\n",
      "[0.7339176579795996, 0.7199715917915527, 0.7306398384801184, 0.712036483469511, 0.7227601952448434]\n",
      "0.7238651533931251+-0.008706999958446178\n",
      "----------------\n",
      "RECALL\n",
      "[0.7498820948235043, 0.7501476829088645, 0.7398438351730975, 0.7388434162159199, 0.7733772160245175]\n",
      "0.7504188490291807+-0.013903864697498275\n"
     ]
    }
   ],
   "source": [
    "mean_precisions = []\n",
    "mean_recalls =[]\n",
    "weights_avg=[36,15,128,26,14]\n",
    "\n",
    "for i in range(0,5):\n",
    "    dict_aux = full_report[i]\n",
    "    arr_pre = []\n",
    "    arr_rec = []\n",
    "    for sub in subtypes:\n",
    "        arr_pre.append(dict_aux[sub]['precision'])\n",
    "        arr_rec.append(dict_aux[sub]['recall'])\n",
    "    mean_precisions.append(np.average(arr_pre, weights=weights_avg))\n",
    "    mean_recalls.append(np.average(arr_rec, weights=weights_avg))\n",
    "\n",
    "print(\"PRECISION\")\n",
    "print(mean_precisions)\n",
    "print('{}+-{}'.format(np.mean(mean_precisions), stdev(mean_precisions)))\n",
    "print(\"----------------\")\n",
    "print('RECALL')\n",
    "print(mean_recalls)\n",
    "print('{}+-{}'.format(np.mean(mean_recalls), stdev(mean_recalls)))"
   ]
  },
  {
   "cell_type": "markdown",
   "metadata": {},
   "source": [
    "## Do the same with Ridge"
   ]
  },
  {
   "cell_type": "code",
   "execution_count": 14,
   "metadata": {},
   "outputs": [
    {
     "name": "stdout",
     "output_type": "stream",
     "text": [
      "Fold 1 of 5\n",
      "Fold 2 of 5\n",
      "Fold 3 of 5\n",
      "Fold 4 of 5\n",
      "Fold 5 of 5\n",
      "Results: [0.5060975609756098, 0.50920245398773, 0.50920245398773, 0.5153374233128835, 0.50920245398773]\n",
      "C: 0.001, Accuracy: 0.5098084692503366\n",
      "Fold 1 of 5\n",
      "Fold 2 of 5\n",
      "Fold 3 of 5\n",
      "Fold 4 of 5\n",
      "Fold 5 of 5\n",
      "Results: [0.7317073170731707, 0.7055214723926381, 0.6809815950920245, 0.7300613496932515, 0.7300613496932515]\n",
      "C: 0.01, Accuracy: 0.7156666167888673\n",
      "Fold 1 of 5\n",
      "Fold 2 of 5\n",
      "Fold 3 of 5\n",
      "Fold 4 of 5\n",
      "Fold 5 of 5\n",
      "Results: [0.8170731707317073, 0.7791411042944786, 0.8159509202453987, 0.8282208588957055, 0.7668711656441718]\n",
      "C: 0.1, Accuracy: 0.8014514439622925\n",
      "Fold 1 of 5\n",
      "Fold 2 of 5\n",
      "Fold 3 of 5\n",
      "Fold 4 of 5\n",
      "Fold 5 of 5\n",
      "Results: [0.8292682926829268, 0.7730061349693251, 0.7791411042944786, 0.7975460122699386, 0.7791411042944786]\n",
      "C: 1, Accuracy: 0.7916205297022294\n",
      "Fold 1 of 5\n",
      "Fold 2 of 5\n",
      "Fold 3 of 5\n",
      "Fold 4 of 5\n",
      "Fold 5 of 5\n",
      "Results: [0.7987804878048781, 0.7791411042944786, 0.7730061349693251, 0.803680981595092, 0.7668711656441718]\n",
      "C: 10, Accuracy: 0.7842959748615891\n",
      "Fold 1 of 5\n",
      "Fold 2 of 5\n",
      "Fold 3 of 5\n",
      "Fold 4 of 5\n",
      "Fold 5 of 5\n",
      "Results: [0.8048780487804879, 0.7791411042944786, 0.7730061349693251, 0.7975460122699386, 0.7730061349693251]\n",
      "C: 100, Accuracy: 0.785515487056711\n",
      "Fold 1 of 5\n",
      "Fold 2 of 5\n",
      "Fold 3 of 5\n",
      "Fold 4 of 5\n",
      "Fold 5 of 5\n",
      "Results: [0.8048780487804879, 0.7791411042944786, 0.7791411042944786, 0.803680981595092, 0.7668711656441718]\n",
      "C: 1000, Accuracy: 0.7867424809217417\n",
      "Fold 1 of 5\n",
      "Fold 2 of 5\n",
      "Fold 3 of 5\n",
      "Fold 4 of 5\n",
      "Fold 5 of 5\n",
      "Results: [0.8048780487804879, 0.7791411042944786, 0.7730061349693251, 0.7852760736196319, 0.7668711656441718]\n",
      "C: 10000, Accuracy: 0.781834505461619\n"
     ]
    },
    {
     "data": {
      "text/plain": [
       "[0.5098084692503366,\n",
       " 0.7156666167888673,\n",
       " 0.8014514439622925,\n",
       " 0.7916205297022294,\n",
       " 0.7842959748615891,\n",
       " 0.785515487056711,\n",
       " 0.7867424809217417,\n",
       " 0.781834505461619]"
      ]
     },
     "execution_count": 14,
     "metadata": {},
     "output_type": "execute_result"
    }
   ],
   "source": [
    "values=[0.001, 0.01, 0.1, 1, 10, 100, 1000, 10000]\n",
    "i=1\n",
    "results = pd.DataFrame(columns=[\"Index\", \"C\", \"Accuracy\"])\n",
    "mean_scores = []\n",
    "\n",
    "\n",
    "skf = StratifiedKFold(n_splits=5)\n",
    "for c in values:\n",
    "    scores = []\n",
    "\n",
    "    for train_index, test_index in skf.split(X_train, y_train):\n",
    "        print(\"Fold {} of 5\".format(i))\n",
    "        X_cv_train, X_cv_val = X_train.iloc[train_index], X_train.iloc[test_index]\n",
    "        y_cv_train, y_cv_val = y_train.iloc[train_index], y_train.iloc[test_index]\n",
    "\n",
    "        clf_ridge = LogisticRegression(random_state=0, solver='liblinear', penalty=\"l2\", C=c, multi_class=\"auto\").fit(X_cv_train, y_cv_train)\n",
    "\n",
    "        score = clf_ridge.score(X_cv_val, y_cv_val)\n",
    "        results = results.append({'Fold': i, 'C' : c , 'Score' : score}, ignore_index=True)\n",
    "        scores.append(score)\n",
    "        i+=1\n",
    "\n",
    "    i=1\n",
    "    mean_scores.append(np.mean(scores))\n",
    "    print('Results: {}'.format(scores))\n",
    "    print('C: {}, Accuracy: {}'.format(c, np.mean(scores)))\n",
    "\n",
    "mean_scores"
   ]
  },
  {
   "cell_type": "code",
   "execution_count": 15,
   "metadata": {},
   "outputs": [],
   "source": [
    "clf_ridge = LogisticRegression(random_state=0, solver='liblinear', penalty=\"l2\", C=0.1, multi_class=\"auto\").fit(X_train, y_train)"
   ]
  },
  {
   "cell_type": "code",
   "execution_count": 16,
   "metadata": {},
   "outputs": [
    {
     "name": "stdout",
     "output_type": "stream",
     "text": [
      "Confusion matrix\n",
      " [[ 36   0   0   0   0]\n",
      " [  0  12   2   1   0]\n",
      " [  0   0 124   4   0]\n",
      " [  0   1   9  16   0]\n",
      " [  1   0  12   1   0]]\n",
      "Accuracy 0.8584474885844748\n"
     ]
    }
   ],
   "source": [
    "final_score = clf_ridge.score(X_test, y_test)\n",
    "print('Confusion matrix\\n', confusion_matrix(y_test, clf_ridge.predict(X_test)))\n",
    "print('Accuracy', final_score)"
   ]
  },
  {
   "cell_type": "markdown",
   "metadata": {},
   "source": [
    "# Do the same with z-scaled data"
   ]
  },
  {
   "cell_type": "code",
   "execution_count": 9,
   "metadata": {},
   "outputs": [],
   "source": [
    "# Training set\n",
    "\n",
    "X_train = pd.read_csv(\"../data/miRNA_filtered_norm_z_scaled_train.csv\")\n",
    "X_test = pd.read_csv(\"../data/miRNA_filtered_norm_z_scaled_test.csv\")"
   ]
  },
  {
   "cell_type": "code",
   "execution_count": 10,
   "metadata": {},
   "outputs": [
    {
     "name": "stdout",
     "output_type": "stream",
     "text": [
      "Training data shape is (816, 1453)\n",
      "Test data shape is (219, 1453)\n"
     ]
    }
   ],
   "source": [
    "print(\"Training data shape is {}\".format(X_train.shape))\n",
    "print(\"Test data shape is {}\".format(X_test.shape))"
   ]
  },
  {
   "cell_type": "code",
   "execution_count": 11,
   "metadata": {},
   "outputs": [],
   "source": [
    "y_train = X_train[\"Ciriello_subtype\"]\n",
    "y_test = X_test[\"expert_PAM50_subtypes\"]"
   ]
  },
  {
   "cell_type": "code",
   "execution_count": 12,
   "metadata": {},
   "outputs": [],
   "source": [
    "X_train.drop(['Ciriello_subtype'], axis=\"columns\", inplace=True)\n",
    "X_test.drop(['expert_PAM50_subtypes'], axis=\"columns\", inplace=True)"
   ]
  },
  {
   "cell_type": "markdown",
   "metadata": {},
   "source": [
    "### Train model with 5-fold CV"
   ]
  },
  {
   "cell_type": "code",
   "execution_count": 13,
   "metadata": {},
   "outputs": [
    {
     "name": "stdout",
     "output_type": "stream",
     "text": [
      "Fold 1 of 5\n",
      "Fold 2 of 5\n",
      "Fold 3 of 5\n",
      "Fold 4 of 5\n",
      "Fold 5 of 5\n",
      "Results: [0.16463414634146342, 0.1656441717791411, 0.1656441717791411, 0.1656441717791411, 0.1656441717791411]\n",
      "C: 0.001, Accuracy: 0.16544216669160555\n",
      "Fold 1 of 5\n",
      "Fold 2 of 5\n",
      "Fold 3 of 5\n",
      "Fold 4 of 5\n",
      "Fold 5 of 5\n",
      "Results: [0.6829268292682927, 0.6748466257668712, 0.6932515337423313, 0.6993865030674846, 0.6809815950920245]\n",
      "C: 0.01, Accuracy: 0.6862786173874009\n",
      "Fold 1 of 5\n",
      "Fold 2 of 5\n",
      "Fold 3 of 5\n",
      "Fold 4 of 5\n",
      "Fold 5 of 5\n",
      "Results: [0.8048780487804879, 0.7852760736196319, 0.7975460122699386, 0.7852760736196319, 0.7852760736196319]\n",
      "C: 0.1, Accuracy: 0.7916504563818644\n",
      "Fold 1 of 5\n",
      "Fold 2 of 5\n",
      "Fold 3 of 5\n",
      "Fold 4 of 5\n",
      "Fold 5 of 5\n",
      "Results: [0.774390243902439, 0.7423312883435583, 0.7668711656441718, 0.7607361963190185, 0.754601226993865]\n",
      "C: 1, Accuracy: 0.7597860242406106\n",
      "Fold 1 of 5\n",
      "Fold 2 of 5\n",
      "Fold 3 of 5\n",
      "Fold 4 of 5\n",
      "Fold 5 of 5\n",
      "Results: [0.7865853658536586, 0.7300613496932515, 0.7668711656441718, 0.7730061349693251, 0.754601226993865]\n",
      "C: 10, Accuracy: 0.7622250486308544\n",
      "Fold 1 of 5\n",
      "Fold 2 of 5\n",
      "Fold 3 of 5\n",
      "Fold 4 of 5\n",
      "Fold 5 of 5\n",
      "Results: [0.7439024390243902, 0.7055214723926381, 0.7423312883435583, 0.7607361963190185, 0.7239263803680982]\n",
      "C: 100, Accuracy: 0.7352835552895407\n",
      "Fold 1 of 5\n",
      "Fold 2 of 5\n",
      "Fold 3 of 5\n",
      "Fold 4 of 5\n",
      "Fold 5 of 5\n",
      "Results: [0.7439024390243902, 0.6932515337423313, 0.7484662576687117, 0.7484662576687117, 0.6748466257668712]\n",
      "C: 1000, Accuracy: 0.7217866227742032\n",
      "Fold 1 of 5\n",
      "Fold 2 of 5\n",
      "Fold 3 of 5\n",
      "Fold 4 of 5\n"
     ]
    },
    {
     "name": "stderr",
     "output_type": "stream",
     "text": [
      "/home/cristovao/anaconda3/envs/thesis/lib/python3.7/site-packages/sklearn/svm/base.py:931: ConvergenceWarning: Liblinear failed to converge, increase the number of iterations.\n",
      "  \"the number of iterations.\", ConvergenceWarning)\n"
     ]
    },
    {
     "name": "stdout",
     "output_type": "stream",
     "text": [
      "Fold 5 of 5\n",
      "Results: [0.75, 0.6932515337423313, 0.6871165644171779, 0.7484662576687117, 0.6932515337423313]\n",
      "C: 10000, Accuracy: 0.7144171779141104\n"
     ]
    },
    {
     "data": {
      "text/plain": [
       "[0.16544216669160555,\n",
       " 0.6862786173874009,\n",
       " 0.7916504563818644,\n",
       " 0.7597860242406106,\n",
       " 0.7622250486308544,\n",
       " 0.7352835552895407,\n",
       " 0.7217866227742032,\n",
       " 0.7144171779141104]"
      ]
     },
     "execution_count": 13,
     "metadata": {},
     "output_type": "execute_result"
    }
   ],
   "source": [
    "values=[0.001, 0.01, 0.1, 1, 10, 100, 1000, 10000]\n",
    "i=1\n",
    "results = pd.DataFrame(columns=[\"Index\", \"C\", \"Accuracy\"])\n",
    "mean_scores = []\n",
    "\n",
    "\n",
    "skf = StratifiedKFold(n_splits=5)\n",
    "for c in values:\n",
    "    scores = []\n",
    "\n",
    "    for train_index, test_index in skf.split(X_train, y_train):\n",
    "        print(\"Fold {} of 5\".format(i))\n",
    "        X_cv_train, X_cv_val = X_train.iloc[train_index], X_train.iloc[test_index]\n",
    "        y_cv_train, y_cv_val = y_train.iloc[train_index], y_train.iloc[test_index]\n",
    "\n",
    "        clf = LogisticRegression(random_state=0, solver='liblinear', penalty=\"l1\", C=c, multi_class=\"auto\").fit(X_cv_train, y_cv_train)\n",
    "\n",
    "        score = clf.score(X_cv_val, y_cv_val)\n",
    "        results = results.append({'Fold': i, 'C' : c , 'Score' : score}, ignore_index=True)\n",
    "        scores.append(score)\n",
    "        i+=1\n",
    "\n",
    "    i=1\n",
    "    mean_scores.append(np.mean(scores))\n",
    "    print('Results: {}'.format(scores))\n",
    "    print('C: {}, Accuracy: {}'.format(c, np.mean(scores)))\n",
    "\n",
    "mean_scores"
   ]
  },
  {
   "cell_type": "code",
   "execution_count": null,
   "metadata": {},
   "outputs": [],
   "source": []
  }
 ],
 "metadata": {
  "kernelspec": {
   "display_name": "thesis",
   "language": "python",
   "name": "thesis"
  },
  "language_info": {
   "codemirror_mode": {
    "name": "ipython",
    "version": 3
   },
   "file_extension": ".py",
   "mimetype": "text/x-python",
   "name": "python",
   "nbconvert_exporter": "python",
   "pygments_lexer": "ipython3",
   "version": "3.7.4"
  }
 },
 "nbformat": 4,
 "nbformat_minor": 2
}
