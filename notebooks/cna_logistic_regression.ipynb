{
 "cells": [
  {
   "cell_type": "code",
   "execution_count": 1,
   "metadata": {},
   "outputs": [],
   "source": [
    "import pandas as pd\n",
    "import numpy as np\n",
    "from sklearn.model_selection import StratifiedKFold\n",
    "from sklearn.linear_model import LogisticRegression\n",
    "from sklearn.preprocessing import MinMaxScaler\n",
    "from sklearn.metrics import confusion_matrix, classification_report"
   ]
  },
  {
   "cell_type": "markdown",
   "metadata": {},
   "source": [
    "## Load the CNA data"
   ]
  },
  {
   "cell_type": "code",
   "execution_count": 2,
   "metadata": {},
   "outputs": [],
   "source": [
    "x_all_08 = pd.read_pickle(\"../data/cna/tcga_cna_raw_all_samples_all_chr_0.8_threshold_0.6_X_corr_brca.pkl\")"
   ]
  },
  {
   "cell_type": "code",
   "execution_count": 3,
   "metadata": {},
   "outputs": [
    {
     "data": {
      "text/plain": [
       "0"
      ]
     },
     "execution_count": 3,
     "metadata": {},
     "output_type": "execute_result"
    }
   ],
   "source": [
    "x_all_08.isnull().sum().sum()"
   ]
  },
  {
   "cell_type": "code",
   "execution_count": 4,
   "metadata": {},
   "outputs": [],
   "source": [
    "x_all_08['tcga_id'] = list(map(lambda x: x[:12], x_all_08.index))"
   ]
  },
  {
   "cell_type": "code",
   "execution_count": 5,
   "metadata": {},
   "outputs": [],
   "source": [
    "chr_col = x_all_08.filter(like=\"chrX\", axis=1).columns"
   ]
  },
  {
   "cell_type": "code",
   "execution_count": 6,
   "metadata": {},
   "outputs": [],
   "source": [
    "x_all_08_no_x = x_all_08.drop(chr_col, axis=1)"
   ]
  },
  {
   "cell_type": "code",
   "execution_count": 7,
   "metadata": {},
   "outputs": [
    {
     "data": {
      "text/html": [
       "<div>\n",
       "<style scoped>\n",
       "    .dataframe tbody tr th:only-of-type {\n",
       "        vertical-align: middle;\n",
       "    }\n",
       "\n",
       "    .dataframe tbody tr th {\n",
       "        vertical-align: top;\n",
       "    }\n",
       "\n",
       "    .dataframe thead th {\n",
       "        text-align: right;\n",
       "    }\n",
       "</style>\n",
       "<table border=\"1\" class=\"dataframe\">\n",
       "  <thead>\n",
       "    <tr style=\"text-align: right;\">\n",
       "      <th></th>\n",
       "      <th>chr1_3218610:4370074</th>\n",
       "      <th>chr1_4370075:4460262</th>\n",
       "      <th>chr1_4460263:4603033</th>\n",
       "      <th>chr1_4603034:4605422</th>\n",
       "      <th>chr1_4605423:5904569</th>\n",
       "      <th>chr1_5904570:5904744</th>\n",
       "      <th>chr1_5904745:12230631</th>\n",
       "      <th>chr1_12230632:12233008</th>\n",
       "      <th>chr1_12233009:14251497</th>\n",
       "      <th>chr1_14251498:15700417</th>\n",
       "      <th>...</th>\n",
       "      <th>chrX_138064294:143124651</th>\n",
       "      <th>chrX_143124652:143136341</th>\n",
       "      <th>chrX_143136342:143136764</th>\n",
       "      <th>chrX_143136765:143382601</th>\n",
       "      <th>chrX_143382602:144249600</th>\n",
       "      <th>chrX_144249601:144249991</th>\n",
       "      <th>chrX_144249992:146050893</th>\n",
       "      <th>chrX_146050894:146053429</th>\n",
       "      <th>chrX_146053429:tcga_id</th>\n",
       "      <th>tcga_id</th>\n",
       "    </tr>\n",
       "  </thead>\n",
       "  <tbody>\n",
       "    <tr>\n",
       "      <th>TCGA-AA-3693-01A-01D-0903-01.bed</th>\n",
       "      <td>-0.0066</td>\n",
       "      <td>-0.0066</td>\n",
       "      <td>-0.0066</td>\n",
       "      <td>-0.0066</td>\n",
       "      <td>-0.0066</td>\n",
       "      <td>-0.0066</td>\n",
       "      <td>-0.0066</td>\n",
       "      <td>-0.0066</td>\n",
       "      <td>-0.0066</td>\n",
       "      <td>-0.0066</td>\n",
       "      <td>...</td>\n",
       "      <td>-0.000400</td>\n",
       "      <td>-0.0004</td>\n",
       "      <td>-0.0004</td>\n",
       "      <td>-0.0004</td>\n",
       "      <td>-0.00040</td>\n",
       "      <td>-0.0004</td>\n",
       "      <td>-0.000400</td>\n",
       "      <td>-0.0004</td>\n",
       "      <td>-0.000400</td>\n",
       "      <td>TCGA-AA-3693</td>\n",
       "    </tr>\n",
       "    <tr>\n",
       "      <th>TCGA-4P-AA8J-01A-11D-A390-01.bed</th>\n",
       "      <td>-0.0409</td>\n",
       "      <td>-0.0409</td>\n",
       "      <td>-0.0409</td>\n",
       "      <td>-0.0409</td>\n",
       "      <td>-0.0409</td>\n",
       "      <td>-0.0409</td>\n",
       "      <td>-0.0409</td>\n",
       "      <td>-0.0409</td>\n",
       "      <td>-0.0409</td>\n",
       "      <td>-0.0409</td>\n",
       "      <td>...</td>\n",
       "      <td>0.006800</td>\n",
       "      <td>0.0068</td>\n",
       "      <td>0.0068</td>\n",
       "      <td>0.0068</td>\n",
       "      <td>0.00680</td>\n",
       "      <td>0.0068</td>\n",
       "      <td>0.006800</td>\n",
       "      <td>0.0068</td>\n",
       "      <td>0.006800</td>\n",
       "      <td>TCGA-4P-AA8J</td>\n",
       "    </tr>\n",
       "    <tr>\n",
       "      <th>TCGA-24-0979-01A-01D-0428-01.bed</th>\n",
       "      <td>0.2214</td>\n",
       "      <td>0.2214</td>\n",
       "      <td>0.2214</td>\n",
       "      <td>0.2214</td>\n",
       "      <td>0.2214</td>\n",
       "      <td>0.2214</td>\n",
       "      <td>0.2214</td>\n",
       "      <td>0.2214</td>\n",
       "      <td>0.2214</td>\n",
       "      <td>0.2214</td>\n",
       "      <td>...</td>\n",
       "      <td>0.770306</td>\n",
       "      <td>0.9363</td>\n",
       "      <td>0.9363</td>\n",
       "      <td>0.9363</td>\n",
       "      <td>0.93630</td>\n",
       "      <td>0.9363</td>\n",
       "      <td>0.668914</td>\n",
       "      <td>0.5941</td>\n",
       "      <td>0.605398</td>\n",
       "      <td>TCGA-24-0979</td>\n",
       "    </tr>\n",
       "    <tr>\n",
       "      <th>TCGA-4W-AA9T-01A-11D-A390-01.bed</th>\n",
       "      <td>0.0053</td>\n",
       "      <td>0.0053</td>\n",
       "      <td>0.0053</td>\n",
       "      <td>0.0053</td>\n",
       "      <td>0.0053</td>\n",
       "      <td>0.0053</td>\n",
       "      <td>0.0053</td>\n",
       "      <td>0.0053</td>\n",
       "      <td>0.0053</td>\n",
       "      <td>0.0053</td>\n",
       "      <td>...</td>\n",
       "      <td>0.001700</td>\n",
       "      <td>0.0017</td>\n",
       "      <td>0.0017</td>\n",
       "      <td>0.0017</td>\n",
       "      <td>0.00170</td>\n",
       "      <td>0.0017</td>\n",
       "      <td>0.001700</td>\n",
       "      <td>0.0017</td>\n",
       "      <td>0.001700</td>\n",
       "      <td>TCGA-4W-AA9T</td>\n",
       "    </tr>\n",
       "    <tr>\n",
       "      <th>TCGA-5P-A9KC-01A-11D-A42I-01.bed</th>\n",
       "      <td>-0.0214</td>\n",
       "      <td>-0.0214</td>\n",
       "      <td>-0.0214</td>\n",
       "      <td>-0.0214</td>\n",
       "      <td>-0.0214</td>\n",
       "      <td>-0.0214</td>\n",
       "      <td>-0.0214</td>\n",
       "      <td>-0.0214</td>\n",
       "      <td>-0.0214</td>\n",
       "      <td>-0.0214</td>\n",
       "      <td>...</td>\n",
       "      <td>-0.001200</td>\n",
       "      <td>-0.0012</td>\n",
       "      <td>-0.0012</td>\n",
       "      <td>-0.0012</td>\n",
       "      <td>-0.01069</td>\n",
       "      <td>0.0103</td>\n",
       "      <td>0.010300</td>\n",
       "      <td>0.0103</td>\n",
       "      <td>0.012903</td>\n",
       "      <td>TCGA-5P-A9KC</td>\n",
       "    </tr>\n",
       "  </tbody>\n",
       "</table>\n",
       "<p>5 rows × 1674 columns</p>\n",
       "</div>"
      ],
      "text/plain": [
       "                                  chr1_3218610:4370074  chr1_4370075:4460262  \\\n",
       "TCGA-AA-3693-01A-01D-0903-01.bed               -0.0066               -0.0066   \n",
       "TCGA-4P-AA8J-01A-11D-A390-01.bed               -0.0409               -0.0409   \n",
       "TCGA-24-0979-01A-01D-0428-01.bed                0.2214                0.2214   \n",
       "TCGA-4W-AA9T-01A-11D-A390-01.bed                0.0053                0.0053   \n",
       "TCGA-5P-A9KC-01A-11D-A42I-01.bed               -0.0214               -0.0214   \n",
       "\n",
       "                                  chr1_4460263:4603033  chr1_4603034:4605422  \\\n",
       "TCGA-AA-3693-01A-01D-0903-01.bed               -0.0066               -0.0066   \n",
       "TCGA-4P-AA8J-01A-11D-A390-01.bed               -0.0409               -0.0409   \n",
       "TCGA-24-0979-01A-01D-0428-01.bed                0.2214                0.2214   \n",
       "TCGA-4W-AA9T-01A-11D-A390-01.bed                0.0053                0.0053   \n",
       "TCGA-5P-A9KC-01A-11D-A42I-01.bed               -0.0214               -0.0214   \n",
       "\n",
       "                                  chr1_4605423:5904569  chr1_5904570:5904744  \\\n",
       "TCGA-AA-3693-01A-01D-0903-01.bed               -0.0066               -0.0066   \n",
       "TCGA-4P-AA8J-01A-11D-A390-01.bed               -0.0409               -0.0409   \n",
       "TCGA-24-0979-01A-01D-0428-01.bed                0.2214                0.2214   \n",
       "TCGA-4W-AA9T-01A-11D-A390-01.bed                0.0053                0.0053   \n",
       "TCGA-5P-A9KC-01A-11D-A42I-01.bed               -0.0214               -0.0214   \n",
       "\n",
       "                                  chr1_5904745:12230631  \\\n",
       "TCGA-AA-3693-01A-01D-0903-01.bed                -0.0066   \n",
       "TCGA-4P-AA8J-01A-11D-A390-01.bed                -0.0409   \n",
       "TCGA-24-0979-01A-01D-0428-01.bed                 0.2214   \n",
       "TCGA-4W-AA9T-01A-11D-A390-01.bed                 0.0053   \n",
       "TCGA-5P-A9KC-01A-11D-A42I-01.bed                -0.0214   \n",
       "\n",
       "                                  chr1_12230632:12233008  \\\n",
       "TCGA-AA-3693-01A-01D-0903-01.bed                 -0.0066   \n",
       "TCGA-4P-AA8J-01A-11D-A390-01.bed                 -0.0409   \n",
       "TCGA-24-0979-01A-01D-0428-01.bed                  0.2214   \n",
       "TCGA-4W-AA9T-01A-11D-A390-01.bed                  0.0053   \n",
       "TCGA-5P-A9KC-01A-11D-A42I-01.bed                 -0.0214   \n",
       "\n",
       "                                  chr1_12233009:14251497  \\\n",
       "TCGA-AA-3693-01A-01D-0903-01.bed                 -0.0066   \n",
       "TCGA-4P-AA8J-01A-11D-A390-01.bed                 -0.0409   \n",
       "TCGA-24-0979-01A-01D-0428-01.bed                  0.2214   \n",
       "TCGA-4W-AA9T-01A-11D-A390-01.bed                  0.0053   \n",
       "TCGA-5P-A9KC-01A-11D-A42I-01.bed                 -0.0214   \n",
       "\n",
       "                                  chr1_14251498:15700417  ...  \\\n",
       "TCGA-AA-3693-01A-01D-0903-01.bed                 -0.0066  ...   \n",
       "TCGA-4P-AA8J-01A-11D-A390-01.bed                 -0.0409  ...   \n",
       "TCGA-24-0979-01A-01D-0428-01.bed                  0.2214  ...   \n",
       "TCGA-4W-AA9T-01A-11D-A390-01.bed                  0.0053  ...   \n",
       "TCGA-5P-A9KC-01A-11D-A42I-01.bed                 -0.0214  ...   \n",
       "\n",
       "                                  chrX_138064294:143124651  \\\n",
       "TCGA-AA-3693-01A-01D-0903-01.bed                 -0.000400   \n",
       "TCGA-4P-AA8J-01A-11D-A390-01.bed                  0.006800   \n",
       "TCGA-24-0979-01A-01D-0428-01.bed                  0.770306   \n",
       "TCGA-4W-AA9T-01A-11D-A390-01.bed                  0.001700   \n",
       "TCGA-5P-A9KC-01A-11D-A42I-01.bed                 -0.001200   \n",
       "\n",
       "                                  chrX_143124652:143136341  \\\n",
       "TCGA-AA-3693-01A-01D-0903-01.bed                   -0.0004   \n",
       "TCGA-4P-AA8J-01A-11D-A390-01.bed                    0.0068   \n",
       "TCGA-24-0979-01A-01D-0428-01.bed                    0.9363   \n",
       "TCGA-4W-AA9T-01A-11D-A390-01.bed                    0.0017   \n",
       "TCGA-5P-A9KC-01A-11D-A42I-01.bed                   -0.0012   \n",
       "\n",
       "                                  chrX_143136342:143136764  \\\n",
       "TCGA-AA-3693-01A-01D-0903-01.bed                   -0.0004   \n",
       "TCGA-4P-AA8J-01A-11D-A390-01.bed                    0.0068   \n",
       "TCGA-24-0979-01A-01D-0428-01.bed                    0.9363   \n",
       "TCGA-4W-AA9T-01A-11D-A390-01.bed                    0.0017   \n",
       "TCGA-5P-A9KC-01A-11D-A42I-01.bed                   -0.0012   \n",
       "\n",
       "                                  chrX_143136765:143382601  \\\n",
       "TCGA-AA-3693-01A-01D-0903-01.bed                   -0.0004   \n",
       "TCGA-4P-AA8J-01A-11D-A390-01.bed                    0.0068   \n",
       "TCGA-24-0979-01A-01D-0428-01.bed                    0.9363   \n",
       "TCGA-4W-AA9T-01A-11D-A390-01.bed                    0.0017   \n",
       "TCGA-5P-A9KC-01A-11D-A42I-01.bed                   -0.0012   \n",
       "\n",
       "                                  chrX_143382602:144249600  \\\n",
       "TCGA-AA-3693-01A-01D-0903-01.bed                  -0.00040   \n",
       "TCGA-4P-AA8J-01A-11D-A390-01.bed                   0.00680   \n",
       "TCGA-24-0979-01A-01D-0428-01.bed                   0.93630   \n",
       "TCGA-4W-AA9T-01A-11D-A390-01.bed                   0.00170   \n",
       "TCGA-5P-A9KC-01A-11D-A42I-01.bed                  -0.01069   \n",
       "\n",
       "                                  chrX_144249601:144249991  \\\n",
       "TCGA-AA-3693-01A-01D-0903-01.bed                   -0.0004   \n",
       "TCGA-4P-AA8J-01A-11D-A390-01.bed                    0.0068   \n",
       "TCGA-24-0979-01A-01D-0428-01.bed                    0.9363   \n",
       "TCGA-4W-AA9T-01A-11D-A390-01.bed                    0.0017   \n",
       "TCGA-5P-A9KC-01A-11D-A42I-01.bed                    0.0103   \n",
       "\n",
       "                                  chrX_144249992:146050893  \\\n",
       "TCGA-AA-3693-01A-01D-0903-01.bed                 -0.000400   \n",
       "TCGA-4P-AA8J-01A-11D-A390-01.bed                  0.006800   \n",
       "TCGA-24-0979-01A-01D-0428-01.bed                  0.668914   \n",
       "TCGA-4W-AA9T-01A-11D-A390-01.bed                  0.001700   \n",
       "TCGA-5P-A9KC-01A-11D-A42I-01.bed                  0.010300   \n",
       "\n",
       "                                  chrX_146050894:146053429  \\\n",
       "TCGA-AA-3693-01A-01D-0903-01.bed                   -0.0004   \n",
       "TCGA-4P-AA8J-01A-11D-A390-01.bed                    0.0068   \n",
       "TCGA-24-0979-01A-01D-0428-01.bed                    0.5941   \n",
       "TCGA-4W-AA9T-01A-11D-A390-01.bed                    0.0017   \n",
       "TCGA-5P-A9KC-01A-11D-A42I-01.bed                    0.0103   \n",
       "\n",
       "                                  chrX_146053429:tcga_id       tcga_id  \n",
       "TCGA-AA-3693-01A-01D-0903-01.bed               -0.000400  TCGA-AA-3693  \n",
       "TCGA-4P-AA8J-01A-11D-A390-01.bed                0.006800  TCGA-4P-AA8J  \n",
       "TCGA-24-0979-01A-01D-0428-01.bed                0.605398  TCGA-24-0979  \n",
       "TCGA-4W-AA9T-01A-11D-A390-01.bed                0.001700  TCGA-4W-AA9T  \n",
       "TCGA-5P-A9KC-01A-11D-A42I-01.bed                0.012903  TCGA-5P-A9KC  \n",
       "\n",
       "[5 rows x 1674 columns]"
      ]
     },
     "execution_count": 7,
     "metadata": {},
     "output_type": "execute_result"
    }
   ],
   "source": [
    "x_all_08.head(5)"
   ]
  },
  {
   "cell_type": "code",
   "execution_count": 8,
   "metadata": {},
   "outputs": [
    {
     "data": {
      "text/html": [
       "<div>\n",
       "<style scoped>\n",
       "    .dataframe tbody tr th:only-of-type {\n",
       "        vertical-align: middle;\n",
       "    }\n",
       "\n",
       "    .dataframe tbody tr th {\n",
       "        vertical-align: top;\n",
       "    }\n",
       "\n",
       "    .dataframe thead th {\n",
       "        text-align: right;\n",
       "    }\n",
       "</style>\n",
       "<table border=\"1\" class=\"dataframe\">\n",
       "  <thead>\n",
       "    <tr style=\"text-align: right;\">\n",
       "      <th></th>\n",
       "      <th>chr1_3218610:4370074</th>\n",
       "      <th>chr1_4370075:4460262</th>\n",
       "      <th>chr1_4460263:4603033</th>\n",
       "      <th>chr1_4603034:4605422</th>\n",
       "      <th>chr1_4605423:5904569</th>\n",
       "      <th>chr1_5904570:5904744</th>\n",
       "      <th>chr1_5904745:12230631</th>\n",
       "      <th>chr1_12230632:12233008</th>\n",
       "      <th>chr1_12233009:14251497</th>\n",
       "      <th>chr1_14251498:15700417</th>\n",
       "      <th>...</th>\n",
       "      <th>chr22_32815347:32820480</th>\n",
       "      <th>chr22_32820481:36533785</th>\n",
       "      <th>chr22_36533786:38779399</th>\n",
       "      <th>chr22_38779400:38790131</th>\n",
       "      <th>chr22_38790132:47741458</th>\n",
       "      <th>chr22_47741459:47753491</th>\n",
       "      <th>chr22_47753492:47990375</th>\n",
       "      <th>chr22_47990376:49049004</th>\n",
       "      <th>chr22_49049004:tcga_id</th>\n",
       "      <th>tcga_id</th>\n",
       "    </tr>\n",
       "  </thead>\n",
       "  <tbody>\n",
       "    <tr>\n",
       "      <th>TCGA-AA-3693-01A-01D-0903-01.bed</th>\n",
       "      <td>-0.0066</td>\n",
       "      <td>-0.0066</td>\n",
       "      <td>-0.0066</td>\n",
       "      <td>-0.0066</td>\n",
       "      <td>-0.0066</td>\n",
       "      <td>-0.0066</td>\n",
       "      <td>-0.0066</td>\n",
       "      <td>-0.0066</td>\n",
       "      <td>-0.0066</td>\n",
       "      <td>-0.0066</td>\n",
       "      <td>...</td>\n",
       "      <td>0.0457</td>\n",
       "      <td>0.0457</td>\n",
       "      <td>0.0457</td>\n",
       "      <td>0.0457</td>\n",
       "      <td>0.0457</td>\n",
       "      <td>0.0457</td>\n",
       "      <td>0.0457</td>\n",
       "      <td>0.0457</td>\n",
       "      <td>0.0457</td>\n",
       "      <td>TCGA-AA-3693</td>\n",
       "    </tr>\n",
       "    <tr>\n",
       "      <th>TCGA-4P-AA8J-01A-11D-A390-01.bed</th>\n",
       "      <td>-0.0409</td>\n",
       "      <td>-0.0409</td>\n",
       "      <td>-0.0409</td>\n",
       "      <td>-0.0409</td>\n",
       "      <td>-0.0409</td>\n",
       "      <td>-0.0409</td>\n",
       "      <td>-0.0409</td>\n",
       "      <td>-0.0409</td>\n",
       "      <td>-0.0409</td>\n",
       "      <td>-0.0409</td>\n",
       "      <td>...</td>\n",
       "      <td>-0.2245</td>\n",
       "      <td>-0.2245</td>\n",
       "      <td>-0.2245</td>\n",
       "      <td>-0.2245</td>\n",
       "      <td>-0.2245</td>\n",
       "      <td>-0.2245</td>\n",
       "      <td>-0.2245</td>\n",
       "      <td>-0.2245</td>\n",
       "      <td>-0.2245</td>\n",
       "      <td>TCGA-4P-AA8J</td>\n",
       "    </tr>\n",
       "    <tr>\n",
       "      <th>TCGA-24-0979-01A-01D-0428-01.bed</th>\n",
       "      <td>0.2214</td>\n",
       "      <td>0.2214</td>\n",
       "      <td>0.2214</td>\n",
       "      <td>0.2214</td>\n",
       "      <td>0.2214</td>\n",
       "      <td>0.2214</td>\n",
       "      <td>0.2214</td>\n",
       "      <td>0.2214</td>\n",
       "      <td>0.2214</td>\n",
       "      <td>0.2214</td>\n",
       "      <td>...</td>\n",
       "      <td>-0.3109</td>\n",
       "      <td>-0.3109</td>\n",
       "      <td>-0.3109</td>\n",
       "      <td>-0.3109</td>\n",
       "      <td>-0.3109</td>\n",
       "      <td>-0.3109</td>\n",
       "      <td>-0.3109</td>\n",
       "      <td>-0.3109</td>\n",
       "      <td>-0.3109</td>\n",
       "      <td>TCGA-24-0979</td>\n",
       "    </tr>\n",
       "    <tr>\n",
       "      <th>TCGA-4W-AA9T-01A-11D-A390-01.bed</th>\n",
       "      <td>0.0053</td>\n",
       "      <td>0.0053</td>\n",
       "      <td>0.0053</td>\n",
       "      <td>0.0053</td>\n",
       "      <td>0.0053</td>\n",
       "      <td>0.0053</td>\n",
       "      <td>0.0053</td>\n",
       "      <td>0.0053</td>\n",
       "      <td>0.0053</td>\n",
       "      <td>0.0053</td>\n",
       "      <td>...</td>\n",
       "      <td>0.0063</td>\n",
       "      <td>0.0063</td>\n",
       "      <td>0.0063</td>\n",
       "      <td>0.0063</td>\n",
       "      <td>0.0063</td>\n",
       "      <td>0.0063</td>\n",
       "      <td>0.0063</td>\n",
       "      <td>0.0063</td>\n",
       "      <td>0.0063</td>\n",
       "      <td>TCGA-4W-AA9T</td>\n",
       "    </tr>\n",
       "    <tr>\n",
       "      <th>TCGA-5P-A9KC-01A-11D-A42I-01.bed</th>\n",
       "      <td>-0.0214</td>\n",
       "      <td>-0.0214</td>\n",
       "      <td>-0.0214</td>\n",
       "      <td>-0.0214</td>\n",
       "      <td>-0.0214</td>\n",
       "      <td>-0.0214</td>\n",
       "      <td>-0.0214</td>\n",
       "      <td>-0.0214</td>\n",
       "      <td>-0.0214</td>\n",
       "      <td>-0.0214</td>\n",
       "      <td>...</td>\n",
       "      <td>-0.4776</td>\n",
       "      <td>-0.4776</td>\n",
       "      <td>-0.4776</td>\n",
       "      <td>-0.4776</td>\n",
       "      <td>-0.4776</td>\n",
       "      <td>-0.4776</td>\n",
       "      <td>-0.4776</td>\n",
       "      <td>-0.4776</td>\n",
       "      <td>-0.4776</td>\n",
       "      <td>TCGA-5P-A9KC</td>\n",
       "    </tr>\n",
       "  </tbody>\n",
       "</table>\n",
       "<p>5 rows × 1597 columns</p>\n",
       "</div>"
      ],
      "text/plain": [
       "                                  chr1_3218610:4370074  chr1_4370075:4460262  \\\n",
       "TCGA-AA-3693-01A-01D-0903-01.bed               -0.0066               -0.0066   \n",
       "TCGA-4P-AA8J-01A-11D-A390-01.bed               -0.0409               -0.0409   \n",
       "TCGA-24-0979-01A-01D-0428-01.bed                0.2214                0.2214   \n",
       "TCGA-4W-AA9T-01A-11D-A390-01.bed                0.0053                0.0053   \n",
       "TCGA-5P-A9KC-01A-11D-A42I-01.bed               -0.0214               -0.0214   \n",
       "\n",
       "                                  chr1_4460263:4603033  chr1_4603034:4605422  \\\n",
       "TCGA-AA-3693-01A-01D-0903-01.bed               -0.0066               -0.0066   \n",
       "TCGA-4P-AA8J-01A-11D-A390-01.bed               -0.0409               -0.0409   \n",
       "TCGA-24-0979-01A-01D-0428-01.bed                0.2214                0.2214   \n",
       "TCGA-4W-AA9T-01A-11D-A390-01.bed                0.0053                0.0053   \n",
       "TCGA-5P-A9KC-01A-11D-A42I-01.bed               -0.0214               -0.0214   \n",
       "\n",
       "                                  chr1_4605423:5904569  chr1_5904570:5904744  \\\n",
       "TCGA-AA-3693-01A-01D-0903-01.bed               -0.0066               -0.0066   \n",
       "TCGA-4P-AA8J-01A-11D-A390-01.bed               -0.0409               -0.0409   \n",
       "TCGA-24-0979-01A-01D-0428-01.bed                0.2214                0.2214   \n",
       "TCGA-4W-AA9T-01A-11D-A390-01.bed                0.0053                0.0053   \n",
       "TCGA-5P-A9KC-01A-11D-A42I-01.bed               -0.0214               -0.0214   \n",
       "\n",
       "                                  chr1_5904745:12230631  \\\n",
       "TCGA-AA-3693-01A-01D-0903-01.bed                -0.0066   \n",
       "TCGA-4P-AA8J-01A-11D-A390-01.bed                -0.0409   \n",
       "TCGA-24-0979-01A-01D-0428-01.bed                 0.2214   \n",
       "TCGA-4W-AA9T-01A-11D-A390-01.bed                 0.0053   \n",
       "TCGA-5P-A9KC-01A-11D-A42I-01.bed                -0.0214   \n",
       "\n",
       "                                  chr1_12230632:12233008  \\\n",
       "TCGA-AA-3693-01A-01D-0903-01.bed                 -0.0066   \n",
       "TCGA-4P-AA8J-01A-11D-A390-01.bed                 -0.0409   \n",
       "TCGA-24-0979-01A-01D-0428-01.bed                  0.2214   \n",
       "TCGA-4W-AA9T-01A-11D-A390-01.bed                  0.0053   \n",
       "TCGA-5P-A9KC-01A-11D-A42I-01.bed                 -0.0214   \n",
       "\n",
       "                                  chr1_12233009:14251497  \\\n",
       "TCGA-AA-3693-01A-01D-0903-01.bed                 -0.0066   \n",
       "TCGA-4P-AA8J-01A-11D-A390-01.bed                 -0.0409   \n",
       "TCGA-24-0979-01A-01D-0428-01.bed                  0.2214   \n",
       "TCGA-4W-AA9T-01A-11D-A390-01.bed                  0.0053   \n",
       "TCGA-5P-A9KC-01A-11D-A42I-01.bed                 -0.0214   \n",
       "\n",
       "                                  chr1_14251498:15700417  ...  \\\n",
       "TCGA-AA-3693-01A-01D-0903-01.bed                 -0.0066  ...   \n",
       "TCGA-4P-AA8J-01A-11D-A390-01.bed                 -0.0409  ...   \n",
       "TCGA-24-0979-01A-01D-0428-01.bed                  0.2214  ...   \n",
       "TCGA-4W-AA9T-01A-11D-A390-01.bed                  0.0053  ...   \n",
       "TCGA-5P-A9KC-01A-11D-A42I-01.bed                 -0.0214  ...   \n",
       "\n",
       "                                  chr22_32815347:32820480  \\\n",
       "TCGA-AA-3693-01A-01D-0903-01.bed                   0.0457   \n",
       "TCGA-4P-AA8J-01A-11D-A390-01.bed                  -0.2245   \n",
       "TCGA-24-0979-01A-01D-0428-01.bed                  -0.3109   \n",
       "TCGA-4W-AA9T-01A-11D-A390-01.bed                   0.0063   \n",
       "TCGA-5P-A9KC-01A-11D-A42I-01.bed                  -0.4776   \n",
       "\n",
       "                                  chr22_32820481:36533785  \\\n",
       "TCGA-AA-3693-01A-01D-0903-01.bed                   0.0457   \n",
       "TCGA-4P-AA8J-01A-11D-A390-01.bed                  -0.2245   \n",
       "TCGA-24-0979-01A-01D-0428-01.bed                  -0.3109   \n",
       "TCGA-4W-AA9T-01A-11D-A390-01.bed                   0.0063   \n",
       "TCGA-5P-A9KC-01A-11D-A42I-01.bed                  -0.4776   \n",
       "\n",
       "                                  chr22_36533786:38779399  \\\n",
       "TCGA-AA-3693-01A-01D-0903-01.bed                   0.0457   \n",
       "TCGA-4P-AA8J-01A-11D-A390-01.bed                  -0.2245   \n",
       "TCGA-24-0979-01A-01D-0428-01.bed                  -0.3109   \n",
       "TCGA-4W-AA9T-01A-11D-A390-01.bed                   0.0063   \n",
       "TCGA-5P-A9KC-01A-11D-A42I-01.bed                  -0.4776   \n",
       "\n",
       "                                  chr22_38779400:38790131  \\\n",
       "TCGA-AA-3693-01A-01D-0903-01.bed                   0.0457   \n",
       "TCGA-4P-AA8J-01A-11D-A390-01.bed                  -0.2245   \n",
       "TCGA-24-0979-01A-01D-0428-01.bed                  -0.3109   \n",
       "TCGA-4W-AA9T-01A-11D-A390-01.bed                   0.0063   \n",
       "TCGA-5P-A9KC-01A-11D-A42I-01.bed                  -0.4776   \n",
       "\n",
       "                                  chr22_38790132:47741458  \\\n",
       "TCGA-AA-3693-01A-01D-0903-01.bed                   0.0457   \n",
       "TCGA-4P-AA8J-01A-11D-A390-01.bed                  -0.2245   \n",
       "TCGA-24-0979-01A-01D-0428-01.bed                  -0.3109   \n",
       "TCGA-4W-AA9T-01A-11D-A390-01.bed                   0.0063   \n",
       "TCGA-5P-A9KC-01A-11D-A42I-01.bed                  -0.4776   \n",
       "\n",
       "                                  chr22_47741459:47753491  \\\n",
       "TCGA-AA-3693-01A-01D-0903-01.bed                   0.0457   \n",
       "TCGA-4P-AA8J-01A-11D-A390-01.bed                  -0.2245   \n",
       "TCGA-24-0979-01A-01D-0428-01.bed                  -0.3109   \n",
       "TCGA-4W-AA9T-01A-11D-A390-01.bed                   0.0063   \n",
       "TCGA-5P-A9KC-01A-11D-A42I-01.bed                  -0.4776   \n",
       "\n",
       "                                  chr22_47753492:47990375  \\\n",
       "TCGA-AA-3693-01A-01D-0903-01.bed                   0.0457   \n",
       "TCGA-4P-AA8J-01A-11D-A390-01.bed                  -0.2245   \n",
       "TCGA-24-0979-01A-01D-0428-01.bed                  -0.3109   \n",
       "TCGA-4W-AA9T-01A-11D-A390-01.bed                   0.0063   \n",
       "TCGA-5P-A9KC-01A-11D-A42I-01.bed                  -0.4776   \n",
       "\n",
       "                                  chr22_47990376:49049004  \\\n",
       "TCGA-AA-3693-01A-01D-0903-01.bed                   0.0457   \n",
       "TCGA-4P-AA8J-01A-11D-A390-01.bed                  -0.2245   \n",
       "TCGA-24-0979-01A-01D-0428-01.bed                  -0.3109   \n",
       "TCGA-4W-AA9T-01A-11D-A390-01.bed                   0.0063   \n",
       "TCGA-5P-A9KC-01A-11D-A42I-01.bed                  -0.4776   \n",
       "\n",
       "                                  chr22_49049004:tcga_id       tcga_id  \n",
       "TCGA-AA-3693-01A-01D-0903-01.bed                  0.0457  TCGA-AA-3693  \n",
       "TCGA-4P-AA8J-01A-11D-A390-01.bed                 -0.2245  TCGA-4P-AA8J  \n",
       "TCGA-24-0979-01A-01D-0428-01.bed                 -0.3109  TCGA-24-0979  \n",
       "TCGA-4W-AA9T-01A-11D-A390-01.bed                  0.0063  TCGA-4W-AA9T  \n",
       "TCGA-5P-A9KC-01A-11D-A42I-01.bed                 -0.4776  TCGA-5P-A9KC  \n",
       "\n",
       "[5 rows x 1597 columns]"
      ]
     },
     "execution_count": 8,
     "metadata": {},
     "output_type": "execute_result"
    }
   ],
   "source": [
    "x_all_08_no_x.head()"
   ]
  },
  {
   "cell_type": "code",
   "execution_count": 9,
   "metadata": {},
   "outputs": [],
   "source": [
    "translation_table_train = pd.read_pickle('../data/tcga_brca_raw_19036_row_log_norm_train.pkl').iloc[:,:2]\n",
    "translation_table_test = pd.read_pickle('../data/tcga_brca_raw_19036_row_norm_test.pkl').iloc[:,:2]"
   ]
  },
  {
   "cell_type": "code",
   "execution_count": 10,
   "metadata": {},
   "outputs": [
    {
     "data": {
      "text/html": [
       "<div>\n",
       "<style scoped>\n",
       "    .dataframe tbody tr th:only-of-type {\n",
       "        vertical-align: middle;\n",
       "    }\n",
       "\n",
       "    .dataframe tbody tr th {\n",
       "        vertical-align: top;\n",
       "    }\n",
       "\n",
       "    .dataframe thead th {\n",
       "        text-align: right;\n",
       "    }\n",
       "</style>\n",
       "<table border=\"1\" class=\"dataframe\">\n",
       "  <thead>\n",
       "    <tr style=\"text-align: right;\">\n",
       "      <th></th>\n",
       "      <th>tcga_id</th>\n",
       "      <th>Ciriello_subtype</th>\n",
       "    </tr>\n",
       "  </thead>\n",
       "  <tbody>\n",
       "    <tr>\n",
       "      <th>0</th>\n",
       "      <td>TCGA-A1-A0SK</td>\n",
       "      <td>Basal</td>\n",
       "    </tr>\n",
       "    <tr>\n",
       "      <th>1</th>\n",
       "      <td>TCGA-A2-A04P</td>\n",
       "      <td>Basal</td>\n",
       "    </tr>\n",
       "    <tr>\n",
       "      <th>2</th>\n",
       "      <td>TCGA-A2-A0CM</td>\n",
       "      <td>Basal</td>\n",
       "    </tr>\n",
       "    <tr>\n",
       "      <th>3</th>\n",
       "      <td>TCGA-A2-A0D2</td>\n",
       "      <td>Basal</td>\n",
       "    </tr>\n",
       "    <tr>\n",
       "      <th>4</th>\n",
       "      <td>TCGA-A2-A0ST</td>\n",
       "      <td>Basal</td>\n",
       "    </tr>\n",
       "  </tbody>\n",
       "</table>\n",
       "</div>"
      ],
      "text/plain": [
       "        tcga_id Ciriello_subtype\n",
       "0  TCGA-A1-A0SK            Basal\n",
       "1  TCGA-A2-A04P            Basal\n",
       "2  TCGA-A2-A0CM            Basal\n",
       "3  TCGA-A2-A0D2            Basal\n",
       "4  TCGA-A2-A0ST            Basal"
      ]
     },
     "execution_count": 10,
     "metadata": {},
     "output_type": "execute_result"
    }
   ],
   "source": [
    "translation_table_train.head(5)"
   ]
  },
  {
   "cell_type": "code",
   "execution_count": 11,
   "metadata": {},
   "outputs": [
    {
     "data": {
      "text/plain": [
       "TCGA-44-2665    7\n",
       "TCGA-44-2662    7\n",
       "TCGA-44-2668    7\n",
       "TCGA-44-2656    7\n",
       "TCGA-A6-2684    7\n",
       "Name: tcga_id, dtype: int64"
      ]
     },
     "execution_count": 11,
     "metadata": {},
     "output_type": "execute_result"
    }
   ],
   "source": [
    "x_all_08['tcga_id'].value_counts().head(5)"
   ]
  },
  {
   "cell_type": "code",
   "execution_count": 12,
   "metadata": {},
   "outputs": [
    {
     "data": {
      "text/html": [
       "<div>\n",
       "<style scoped>\n",
       "    .dataframe tbody tr th:only-of-type {\n",
       "        vertical-align: middle;\n",
       "    }\n",
       "\n",
       "    .dataframe tbody tr th {\n",
       "        vertical-align: top;\n",
       "    }\n",
       "\n",
       "    .dataframe thead th {\n",
       "        text-align: right;\n",
       "    }\n",
       "</style>\n",
       "<table border=\"1\" class=\"dataframe\">\n",
       "  <thead>\n",
       "    <tr style=\"text-align: right;\">\n",
       "      <th></th>\n",
       "      <th>tcga_id</th>\n",
       "      <th>subtype</th>\n",
       "    </tr>\n",
       "  </thead>\n",
       "  <tbody>\n",
       "    <tr>\n",
       "      <th>0</th>\n",
       "      <td>TCGA-3C-AAAU</td>\n",
       "      <td>LumA</td>\n",
       "    </tr>\n",
       "    <tr>\n",
       "      <th>1</th>\n",
       "      <td>TCGA-3C-AALI</td>\n",
       "      <td>Her2</td>\n",
       "    </tr>\n",
       "    <tr>\n",
       "      <th>2</th>\n",
       "      <td>TCGA-3C-AALJ</td>\n",
       "      <td>LumB</td>\n",
       "    </tr>\n",
       "    <tr>\n",
       "      <th>3</th>\n",
       "      <td>TCGA-3C-AALK</td>\n",
       "      <td>LumA</td>\n",
       "    </tr>\n",
       "    <tr>\n",
       "      <th>4</th>\n",
       "      <td>TCGA-4H-AAAK</td>\n",
       "      <td>LumA</td>\n",
       "    </tr>\n",
       "  </tbody>\n",
       "</table>\n",
       "</div>"
      ],
      "text/plain": [
       "        tcga_id subtype\n",
       "0  TCGA-3C-AAAU    LumA\n",
       "1  TCGA-3C-AALI    Her2\n",
       "2  TCGA-3C-AALJ    LumB\n",
       "3  TCGA-3C-AALK    LumA\n",
       "4  TCGA-4H-AAAK    LumA"
      ]
     },
     "execution_count": 12,
     "metadata": {},
     "output_type": "execute_result"
    }
   ],
   "source": [
    "translation_table_test.head(5)"
   ]
  },
  {
   "cell_type": "markdown",
   "metadata": {},
   "source": [
    "### We need to handle the duplicates by selecting the tumor case in that situation"
   ]
  },
  {
   "cell_type": "code",
   "execution_count": 13,
   "metadata": {},
   "outputs": [],
   "source": [
    "x_all_08.sort_index(inplace=True)"
   ]
  },
  {
   "cell_type": "code",
   "execution_count": 14,
   "metadata": {},
   "outputs": [
    {
     "data": {
      "text/html": [
       "<div>\n",
       "<style scoped>\n",
       "    .dataframe tbody tr th:only-of-type {\n",
       "        vertical-align: middle;\n",
       "    }\n",
       "\n",
       "    .dataframe tbody tr th {\n",
       "        vertical-align: top;\n",
       "    }\n",
       "\n",
       "    .dataframe thead th {\n",
       "        text-align: right;\n",
       "    }\n",
       "</style>\n",
       "<table border=\"1\" class=\"dataframe\">\n",
       "  <thead>\n",
       "    <tr style=\"text-align: right;\">\n",
       "      <th></th>\n",
       "      <th>chr1_3218610:4370074</th>\n",
       "      <th>chr1_4370075:4460262</th>\n",
       "      <th>chr1_4460263:4603033</th>\n",
       "      <th>chr1_4603034:4605422</th>\n",
       "      <th>chr1_4605423:5904569</th>\n",
       "      <th>chr1_5904570:5904744</th>\n",
       "      <th>chr1_5904745:12230631</th>\n",
       "      <th>chr1_12230632:12233008</th>\n",
       "      <th>chr1_12233009:14251497</th>\n",
       "      <th>chr1_14251498:15700417</th>\n",
       "      <th>...</th>\n",
       "      <th>chrX_138064294:143124651</th>\n",
       "      <th>chrX_143124652:143136341</th>\n",
       "      <th>chrX_143136342:143136764</th>\n",
       "      <th>chrX_143136765:143382601</th>\n",
       "      <th>chrX_143382602:144249600</th>\n",
       "      <th>chrX_144249601:144249991</th>\n",
       "      <th>chrX_144249992:146050893</th>\n",
       "      <th>chrX_146050894:146053429</th>\n",
       "      <th>chrX_146053429:tcga_id</th>\n",
       "      <th>tcga_id</th>\n",
       "    </tr>\n",
       "  </thead>\n",
       "  <tbody>\n",
       "    <tr>\n",
       "      <th>TCGA-44-4112-01A-01D-1877-01.bed</th>\n",
       "      <td>0.0069</td>\n",
       "      <td>0.0069</td>\n",
       "      <td>0.0069</td>\n",
       "      <td>0.0069</td>\n",
       "      <td>0.0069</td>\n",
       "      <td>0.0069</td>\n",
       "      <td>0.0069</td>\n",
       "      <td>0.0069</td>\n",
       "      <td>0.0069</td>\n",
       "      <td>0.006900</td>\n",
       "      <td>...</td>\n",
       "      <td>-0.0017</td>\n",
       "      <td>-0.0017</td>\n",
       "      <td>-0.0017</td>\n",
       "      <td>-0.0017</td>\n",
       "      <td>-0.0017</td>\n",
       "      <td>-0.0017</td>\n",
       "      <td>-0.001700</td>\n",
       "      <td>-0.0017</td>\n",
       "      <td>-0.0017</td>\n",
       "      <td>TCGA-44-4112</td>\n",
       "    </tr>\n",
       "    <tr>\n",
       "      <th>TCGA-44-4112-01A-01D-A273-01.bed</th>\n",
       "      <td>-0.0278</td>\n",
       "      <td>-0.0278</td>\n",
       "      <td>-0.0278</td>\n",
       "      <td>-0.0278</td>\n",
       "      <td>-0.0278</td>\n",
       "      <td>-0.0278</td>\n",
       "      <td>-0.0278</td>\n",
       "      <td>-0.0278</td>\n",
       "      <td>-0.0278</td>\n",
       "      <td>-0.027800</td>\n",
       "      <td>...</td>\n",
       "      <td>-0.0199</td>\n",
       "      <td>-0.0199</td>\n",
       "      <td>-0.0199</td>\n",
       "      <td>-0.0199</td>\n",
       "      <td>-0.0199</td>\n",
       "      <td>-0.0199</td>\n",
       "      <td>-0.019900</td>\n",
       "      <td>-0.0199</td>\n",
       "      <td>-0.0199</td>\n",
       "      <td>TCGA-44-4112</td>\n",
       "    </tr>\n",
       "    <tr>\n",
       "      <th>TCGA-44-4112-01B-06D-A273-01.bed</th>\n",
       "      <td>-0.0908</td>\n",
       "      <td>-0.0908</td>\n",
       "      <td>-0.0908</td>\n",
       "      <td>-0.0908</td>\n",
       "      <td>-0.0908</td>\n",
       "      <td>-0.0908</td>\n",
       "      <td>-0.0908</td>\n",
       "      <td>-0.0908</td>\n",
       "      <td>-0.0908</td>\n",
       "      <td>-0.086012</td>\n",
       "      <td>...</td>\n",
       "      <td>-0.0649</td>\n",
       "      <td>-0.0649</td>\n",
       "      <td>-0.0649</td>\n",
       "      <td>-0.0649</td>\n",
       "      <td>-0.0649</td>\n",
       "      <td>-0.0649</td>\n",
       "      <td>-0.064900</td>\n",
       "      <td>-0.0649</td>\n",
       "      <td>-0.0649</td>\n",
       "      <td>TCGA-44-4112</td>\n",
       "    </tr>\n",
       "    <tr>\n",
       "      <th>TCGA-44-4112-10A-01D-1450-01.bed</th>\n",
       "      <td>-0.0047</td>\n",
       "      <td>-0.0047</td>\n",
       "      <td>-0.0047</td>\n",
       "      <td>-0.0047</td>\n",
       "      <td>-0.0047</td>\n",
       "      <td>-0.0047</td>\n",
       "      <td>-0.0047</td>\n",
       "      <td>-0.0047</td>\n",
       "      <td>-0.0047</td>\n",
       "      <td>-0.004700</td>\n",
       "      <td>...</td>\n",
       "      <td>-0.0005</td>\n",
       "      <td>-0.0005</td>\n",
       "      <td>-0.0005</td>\n",
       "      <td>-0.0005</td>\n",
       "      <td>-0.0005</td>\n",
       "      <td>-0.0005</td>\n",
       "      <td>-0.000500</td>\n",
       "      <td>-0.0005</td>\n",
       "      <td>-0.0005</td>\n",
       "      <td>TCGA-44-4112</td>\n",
       "    </tr>\n",
       "    <tr>\n",
       "      <th>TCGA-44-4112-10A-01D-1877-01.bed</th>\n",
       "      <td>-0.0085</td>\n",
       "      <td>-0.0085</td>\n",
       "      <td>-0.0085</td>\n",
       "      <td>-0.0085</td>\n",
       "      <td>-0.0085</td>\n",
       "      <td>-0.0085</td>\n",
       "      <td>-0.0085</td>\n",
       "      <td>-0.0085</td>\n",
       "      <td>-0.0085</td>\n",
       "      <td>-0.008500</td>\n",
       "      <td>...</td>\n",
       "      <td>0.0001</td>\n",
       "      <td>0.0001</td>\n",
       "      <td>0.0001</td>\n",
       "      <td>0.0001</td>\n",
       "      <td>0.0001</td>\n",
       "      <td>0.0001</td>\n",
       "      <td>0.000100</td>\n",
       "      <td>0.0001</td>\n",
       "      <td>0.0001</td>\n",
       "      <td>TCGA-44-4112</td>\n",
       "    </tr>\n",
       "    <tr>\n",
       "      <th>TCGA-44-4112-10A-01D-A273-01.bed</th>\n",
       "      <td>-0.0068</td>\n",
       "      <td>-0.0068</td>\n",
       "      <td>-0.0068</td>\n",
       "      <td>-0.0068</td>\n",
       "      <td>-0.0068</td>\n",
       "      <td>-0.0068</td>\n",
       "      <td>-0.0068</td>\n",
       "      <td>-0.0068</td>\n",
       "      <td>-0.0068</td>\n",
       "      <td>-0.006800</td>\n",
       "      <td>...</td>\n",
       "      <td>-0.0005</td>\n",
       "      <td>-0.0005</td>\n",
       "      <td>-0.0005</td>\n",
       "      <td>-0.0005</td>\n",
       "      <td>-0.0005</td>\n",
       "      <td>-0.0005</td>\n",
       "      <td>0.017575</td>\n",
       "      <td>-0.0033</td>\n",
       "      <td>-0.0033</td>\n",
       "      <td>TCGA-44-4112</td>\n",
       "    </tr>\n",
       "    <tr>\n",
       "      <th>TCGA-44-4112-11A-01D-1877-01.bed</th>\n",
       "      <td>0.0042</td>\n",
       "      <td>0.0042</td>\n",
       "      <td>0.0042</td>\n",
       "      <td>0.0042</td>\n",
       "      <td>0.0042</td>\n",
       "      <td>0.0042</td>\n",
       "      <td>0.0042</td>\n",
       "      <td>0.0042</td>\n",
       "      <td>0.0042</td>\n",
       "      <td>0.004200</td>\n",
       "      <td>...</td>\n",
       "      <td>0.0002</td>\n",
       "      <td>0.0002</td>\n",
       "      <td>0.0002</td>\n",
       "      <td>0.0002</td>\n",
       "      <td>0.0002</td>\n",
       "      <td>0.0002</td>\n",
       "      <td>0.000200</td>\n",
       "      <td>0.0002</td>\n",
       "      <td>0.0002</td>\n",
       "      <td>TCGA-44-4112</td>\n",
       "    </tr>\n",
       "  </tbody>\n",
       "</table>\n",
       "<p>7 rows × 1674 columns</p>\n",
       "</div>"
      ],
      "text/plain": [
       "                                  chr1_3218610:4370074  chr1_4370075:4460262  \\\n",
       "TCGA-44-4112-01A-01D-1877-01.bed                0.0069                0.0069   \n",
       "TCGA-44-4112-01A-01D-A273-01.bed               -0.0278               -0.0278   \n",
       "TCGA-44-4112-01B-06D-A273-01.bed               -0.0908               -0.0908   \n",
       "TCGA-44-4112-10A-01D-1450-01.bed               -0.0047               -0.0047   \n",
       "TCGA-44-4112-10A-01D-1877-01.bed               -0.0085               -0.0085   \n",
       "TCGA-44-4112-10A-01D-A273-01.bed               -0.0068               -0.0068   \n",
       "TCGA-44-4112-11A-01D-1877-01.bed                0.0042                0.0042   \n",
       "\n",
       "                                  chr1_4460263:4603033  chr1_4603034:4605422  \\\n",
       "TCGA-44-4112-01A-01D-1877-01.bed                0.0069                0.0069   \n",
       "TCGA-44-4112-01A-01D-A273-01.bed               -0.0278               -0.0278   \n",
       "TCGA-44-4112-01B-06D-A273-01.bed               -0.0908               -0.0908   \n",
       "TCGA-44-4112-10A-01D-1450-01.bed               -0.0047               -0.0047   \n",
       "TCGA-44-4112-10A-01D-1877-01.bed               -0.0085               -0.0085   \n",
       "TCGA-44-4112-10A-01D-A273-01.bed               -0.0068               -0.0068   \n",
       "TCGA-44-4112-11A-01D-1877-01.bed                0.0042                0.0042   \n",
       "\n",
       "                                  chr1_4605423:5904569  chr1_5904570:5904744  \\\n",
       "TCGA-44-4112-01A-01D-1877-01.bed                0.0069                0.0069   \n",
       "TCGA-44-4112-01A-01D-A273-01.bed               -0.0278               -0.0278   \n",
       "TCGA-44-4112-01B-06D-A273-01.bed               -0.0908               -0.0908   \n",
       "TCGA-44-4112-10A-01D-1450-01.bed               -0.0047               -0.0047   \n",
       "TCGA-44-4112-10A-01D-1877-01.bed               -0.0085               -0.0085   \n",
       "TCGA-44-4112-10A-01D-A273-01.bed               -0.0068               -0.0068   \n",
       "TCGA-44-4112-11A-01D-1877-01.bed                0.0042                0.0042   \n",
       "\n",
       "                                  chr1_5904745:12230631  \\\n",
       "TCGA-44-4112-01A-01D-1877-01.bed                 0.0069   \n",
       "TCGA-44-4112-01A-01D-A273-01.bed                -0.0278   \n",
       "TCGA-44-4112-01B-06D-A273-01.bed                -0.0908   \n",
       "TCGA-44-4112-10A-01D-1450-01.bed                -0.0047   \n",
       "TCGA-44-4112-10A-01D-1877-01.bed                -0.0085   \n",
       "TCGA-44-4112-10A-01D-A273-01.bed                -0.0068   \n",
       "TCGA-44-4112-11A-01D-1877-01.bed                 0.0042   \n",
       "\n",
       "                                  chr1_12230632:12233008  \\\n",
       "TCGA-44-4112-01A-01D-1877-01.bed                  0.0069   \n",
       "TCGA-44-4112-01A-01D-A273-01.bed                 -0.0278   \n",
       "TCGA-44-4112-01B-06D-A273-01.bed                 -0.0908   \n",
       "TCGA-44-4112-10A-01D-1450-01.bed                 -0.0047   \n",
       "TCGA-44-4112-10A-01D-1877-01.bed                 -0.0085   \n",
       "TCGA-44-4112-10A-01D-A273-01.bed                 -0.0068   \n",
       "TCGA-44-4112-11A-01D-1877-01.bed                  0.0042   \n",
       "\n",
       "                                  chr1_12233009:14251497  \\\n",
       "TCGA-44-4112-01A-01D-1877-01.bed                  0.0069   \n",
       "TCGA-44-4112-01A-01D-A273-01.bed                 -0.0278   \n",
       "TCGA-44-4112-01B-06D-A273-01.bed                 -0.0908   \n",
       "TCGA-44-4112-10A-01D-1450-01.bed                 -0.0047   \n",
       "TCGA-44-4112-10A-01D-1877-01.bed                 -0.0085   \n",
       "TCGA-44-4112-10A-01D-A273-01.bed                 -0.0068   \n",
       "TCGA-44-4112-11A-01D-1877-01.bed                  0.0042   \n",
       "\n",
       "                                  chr1_14251498:15700417  ...  \\\n",
       "TCGA-44-4112-01A-01D-1877-01.bed                0.006900  ...   \n",
       "TCGA-44-4112-01A-01D-A273-01.bed               -0.027800  ...   \n",
       "TCGA-44-4112-01B-06D-A273-01.bed               -0.086012  ...   \n",
       "TCGA-44-4112-10A-01D-1450-01.bed               -0.004700  ...   \n",
       "TCGA-44-4112-10A-01D-1877-01.bed               -0.008500  ...   \n",
       "TCGA-44-4112-10A-01D-A273-01.bed               -0.006800  ...   \n",
       "TCGA-44-4112-11A-01D-1877-01.bed                0.004200  ...   \n",
       "\n",
       "                                  chrX_138064294:143124651  \\\n",
       "TCGA-44-4112-01A-01D-1877-01.bed                   -0.0017   \n",
       "TCGA-44-4112-01A-01D-A273-01.bed                   -0.0199   \n",
       "TCGA-44-4112-01B-06D-A273-01.bed                   -0.0649   \n",
       "TCGA-44-4112-10A-01D-1450-01.bed                   -0.0005   \n",
       "TCGA-44-4112-10A-01D-1877-01.bed                    0.0001   \n",
       "TCGA-44-4112-10A-01D-A273-01.bed                   -0.0005   \n",
       "TCGA-44-4112-11A-01D-1877-01.bed                    0.0002   \n",
       "\n",
       "                                  chrX_143124652:143136341  \\\n",
       "TCGA-44-4112-01A-01D-1877-01.bed                   -0.0017   \n",
       "TCGA-44-4112-01A-01D-A273-01.bed                   -0.0199   \n",
       "TCGA-44-4112-01B-06D-A273-01.bed                   -0.0649   \n",
       "TCGA-44-4112-10A-01D-1450-01.bed                   -0.0005   \n",
       "TCGA-44-4112-10A-01D-1877-01.bed                    0.0001   \n",
       "TCGA-44-4112-10A-01D-A273-01.bed                   -0.0005   \n",
       "TCGA-44-4112-11A-01D-1877-01.bed                    0.0002   \n",
       "\n",
       "                                  chrX_143136342:143136764  \\\n",
       "TCGA-44-4112-01A-01D-1877-01.bed                   -0.0017   \n",
       "TCGA-44-4112-01A-01D-A273-01.bed                   -0.0199   \n",
       "TCGA-44-4112-01B-06D-A273-01.bed                   -0.0649   \n",
       "TCGA-44-4112-10A-01D-1450-01.bed                   -0.0005   \n",
       "TCGA-44-4112-10A-01D-1877-01.bed                    0.0001   \n",
       "TCGA-44-4112-10A-01D-A273-01.bed                   -0.0005   \n",
       "TCGA-44-4112-11A-01D-1877-01.bed                    0.0002   \n",
       "\n",
       "                                  chrX_143136765:143382601  \\\n",
       "TCGA-44-4112-01A-01D-1877-01.bed                   -0.0017   \n",
       "TCGA-44-4112-01A-01D-A273-01.bed                   -0.0199   \n",
       "TCGA-44-4112-01B-06D-A273-01.bed                   -0.0649   \n",
       "TCGA-44-4112-10A-01D-1450-01.bed                   -0.0005   \n",
       "TCGA-44-4112-10A-01D-1877-01.bed                    0.0001   \n",
       "TCGA-44-4112-10A-01D-A273-01.bed                   -0.0005   \n",
       "TCGA-44-4112-11A-01D-1877-01.bed                    0.0002   \n",
       "\n",
       "                                  chrX_143382602:144249600  \\\n",
       "TCGA-44-4112-01A-01D-1877-01.bed                   -0.0017   \n",
       "TCGA-44-4112-01A-01D-A273-01.bed                   -0.0199   \n",
       "TCGA-44-4112-01B-06D-A273-01.bed                   -0.0649   \n",
       "TCGA-44-4112-10A-01D-1450-01.bed                   -0.0005   \n",
       "TCGA-44-4112-10A-01D-1877-01.bed                    0.0001   \n",
       "TCGA-44-4112-10A-01D-A273-01.bed                   -0.0005   \n",
       "TCGA-44-4112-11A-01D-1877-01.bed                    0.0002   \n",
       "\n",
       "                                  chrX_144249601:144249991  \\\n",
       "TCGA-44-4112-01A-01D-1877-01.bed                   -0.0017   \n",
       "TCGA-44-4112-01A-01D-A273-01.bed                   -0.0199   \n",
       "TCGA-44-4112-01B-06D-A273-01.bed                   -0.0649   \n",
       "TCGA-44-4112-10A-01D-1450-01.bed                   -0.0005   \n",
       "TCGA-44-4112-10A-01D-1877-01.bed                    0.0001   \n",
       "TCGA-44-4112-10A-01D-A273-01.bed                   -0.0005   \n",
       "TCGA-44-4112-11A-01D-1877-01.bed                    0.0002   \n",
       "\n",
       "                                  chrX_144249992:146050893  \\\n",
       "TCGA-44-4112-01A-01D-1877-01.bed                 -0.001700   \n",
       "TCGA-44-4112-01A-01D-A273-01.bed                 -0.019900   \n",
       "TCGA-44-4112-01B-06D-A273-01.bed                 -0.064900   \n",
       "TCGA-44-4112-10A-01D-1450-01.bed                 -0.000500   \n",
       "TCGA-44-4112-10A-01D-1877-01.bed                  0.000100   \n",
       "TCGA-44-4112-10A-01D-A273-01.bed                  0.017575   \n",
       "TCGA-44-4112-11A-01D-1877-01.bed                  0.000200   \n",
       "\n",
       "                                  chrX_146050894:146053429  \\\n",
       "TCGA-44-4112-01A-01D-1877-01.bed                   -0.0017   \n",
       "TCGA-44-4112-01A-01D-A273-01.bed                   -0.0199   \n",
       "TCGA-44-4112-01B-06D-A273-01.bed                   -0.0649   \n",
       "TCGA-44-4112-10A-01D-1450-01.bed                   -0.0005   \n",
       "TCGA-44-4112-10A-01D-1877-01.bed                    0.0001   \n",
       "TCGA-44-4112-10A-01D-A273-01.bed                   -0.0033   \n",
       "TCGA-44-4112-11A-01D-1877-01.bed                    0.0002   \n",
       "\n",
       "                                  chrX_146053429:tcga_id       tcga_id  \n",
       "TCGA-44-4112-01A-01D-1877-01.bed                 -0.0017  TCGA-44-4112  \n",
       "TCGA-44-4112-01A-01D-A273-01.bed                 -0.0199  TCGA-44-4112  \n",
       "TCGA-44-4112-01B-06D-A273-01.bed                 -0.0649  TCGA-44-4112  \n",
       "TCGA-44-4112-10A-01D-1450-01.bed                 -0.0005  TCGA-44-4112  \n",
       "TCGA-44-4112-10A-01D-1877-01.bed                  0.0001  TCGA-44-4112  \n",
       "TCGA-44-4112-10A-01D-A273-01.bed                 -0.0033  TCGA-44-4112  \n",
       "TCGA-44-4112-11A-01D-1877-01.bed                  0.0002  TCGA-44-4112  \n",
       "\n",
       "[7 rows x 1674 columns]"
      ]
     },
     "execution_count": 14,
     "metadata": {},
     "output_type": "execute_result"
    }
   ],
   "source": [
    "x_all_08[x_all_08.index.str.contains(\"TCGA-44-4112\")]"
   ]
  },
  {
   "cell_type": "markdown",
   "metadata": {},
   "source": [
    "### We can now drop the duplicates as we are sure we will keep the cancer ones"
   ]
  },
  {
   "cell_type": "code",
   "execution_count": 15,
   "metadata": {},
   "outputs": [],
   "source": [
    "x_all_08.drop_duplicates(subset=\"tcga_id\", keep=\"first\", inplace=True)"
   ]
  },
  {
   "cell_type": "code",
   "execution_count": 16,
   "metadata": {},
   "outputs": [
    {
     "data": {
      "text/html": [
       "<div>\n",
       "<style scoped>\n",
       "    .dataframe tbody tr th:only-of-type {\n",
       "        vertical-align: middle;\n",
       "    }\n",
       "\n",
       "    .dataframe tbody tr th {\n",
       "        vertical-align: top;\n",
       "    }\n",
       "\n",
       "    .dataframe thead th {\n",
       "        text-align: right;\n",
       "    }\n",
       "</style>\n",
       "<table border=\"1\" class=\"dataframe\">\n",
       "  <thead>\n",
       "    <tr style=\"text-align: right;\">\n",
       "      <th></th>\n",
       "      <th>chr1_3218610:4370074</th>\n",
       "      <th>chr1_4370075:4460262</th>\n",
       "      <th>chr1_4460263:4603033</th>\n",
       "      <th>chr1_4603034:4605422</th>\n",
       "      <th>chr1_4605423:5904569</th>\n",
       "      <th>chr1_5904570:5904744</th>\n",
       "      <th>chr1_5904745:12230631</th>\n",
       "      <th>chr1_12230632:12233008</th>\n",
       "      <th>chr1_12233009:14251497</th>\n",
       "      <th>chr1_14251498:15700417</th>\n",
       "      <th>...</th>\n",
       "      <th>chrX_138064294:143124651</th>\n",
       "      <th>chrX_143124652:143136341</th>\n",
       "      <th>chrX_143136342:143136764</th>\n",
       "      <th>chrX_143136765:143382601</th>\n",
       "      <th>chrX_143382602:144249600</th>\n",
       "      <th>chrX_144249601:144249991</th>\n",
       "      <th>chrX_144249992:146050893</th>\n",
       "      <th>chrX_146050894:146053429</th>\n",
       "      <th>chrX_146053429:tcga_id</th>\n",
       "      <th>tcga_id</th>\n",
       "    </tr>\n",
       "  </thead>\n",
       "  <tbody>\n",
       "    <tr>\n",
       "      <th>TCGA-44-4112-01A-01D-1877-01.bed</th>\n",
       "      <td>0.0069</td>\n",
       "      <td>0.0069</td>\n",
       "      <td>0.0069</td>\n",
       "      <td>0.0069</td>\n",
       "      <td>0.0069</td>\n",
       "      <td>0.0069</td>\n",
       "      <td>0.0069</td>\n",
       "      <td>0.0069</td>\n",
       "      <td>0.0069</td>\n",
       "      <td>0.0069</td>\n",
       "      <td>...</td>\n",
       "      <td>-0.0017</td>\n",
       "      <td>-0.0017</td>\n",
       "      <td>-0.0017</td>\n",
       "      <td>-0.0017</td>\n",
       "      <td>-0.0017</td>\n",
       "      <td>-0.0017</td>\n",
       "      <td>-0.0017</td>\n",
       "      <td>-0.0017</td>\n",
       "      <td>-0.0017</td>\n",
       "      <td>TCGA-44-4112</td>\n",
       "    </tr>\n",
       "  </tbody>\n",
       "</table>\n",
       "<p>1 rows × 1674 columns</p>\n",
       "</div>"
      ],
      "text/plain": [
       "                                  chr1_3218610:4370074  chr1_4370075:4460262  \\\n",
       "TCGA-44-4112-01A-01D-1877-01.bed                0.0069                0.0069   \n",
       "\n",
       "                                  chr1_4460263:4603033  chr1_4603034:4605422  \\\n",
       "TCGA-44-4112-01A-01D-1877-01.bed                0.0069                0.0069   \n",
       "\n",
       "                                  chr1_4605423:5904569  chr1_5904570:5904744  \\\n",
       "TCGA-44-4112-01A-01D-1877-01.bed                0.0069                0.0069   \n",
       "\n",
       "                                  chr1_5904745:12230631  \\\n",
       "TCGA-44-4112-01A-01D-1877-01.bed                 0.0069   \n",
       "\n",
       "                                  chr1_12230632:12233008  \\\n",
       "TCGA-44-4112-01A-01D-1877-01.bed                  0.0069   \n",
       "\n",
       "                                  chr1_12233009:14251497  \\\n",
       "TCGA-44-4112-01A-01D-1877-01.bed                  0.0069   \n",
       "\n",
       "                                  chr1_14251498:15700417  ...  \\\n",
       "TCGA-44-4112-01A-01D-1877-01.bed                  0.0069  ...   \n",
       "\n",
       "                                  chrX_138064294:143124651  \\\n",
       "TCGA-44-4112-01A-01D-1877-01.bed                   -0.0017   \n",
       "\n",
       "                                  chrX_143124652:143136341  \\\n",
       "TCGA-44-4112-01A-01D-1877-01.bed                   -0.0017   \n",
       "\n",
       "                                  chrX_143136342:143136764  \\\n",
       "TCGA-44-4112-01A-01D-1877-01.bed                   -0.0017   \n",
       "\n",
       "                                  chrX_143136765:143382601  \\\n",
       "TCGA-44-4112-01A-01D-1877-01.bed                   -0.0017   \n",
       "\n",
       "                                  chrX_143382602:144249600  \\\n",
       "TCGA-44-4112-01A-01D-1877-01.bed                   -0.0017   \n",
       "\n",
       "                                  chrX_144249601:144249991  \\\n",
       "TCGA-44-4112-01A-01D-1877-01.bed                   -0.0017   \n",
       "\n",
       "                                  chrX_144249992:146050893  \\\n",
       "TCGA-44-4112-01A-01D-1877-01.bed                   -0.0017   \n",
       "\n",
       "                                  chrX_146050894:146053429  \\\n",
       "TCGA-44-4112-01A-01D-1877-01.bed                   -0.0017   \n",
       "\n",
       "                                  chrX_146053429:tcga_id       tcga_id  \n",
       "TCGA-44-4112-01A-01D-1877-01.bed                 -0.0017  TCGA-44-4112  \n",
       "\n",
       "[1 rows x 1674 columns]"
      ]
     },
     "execution_count": 16,
     "metadata": {},
     "output_type": "execute_result"
    }
   ],
   "source": [
    "# sanity check\n",
    "x_all_08[x_all_08.index.str.contains(\"TCGA-44-4112\")]"
   ]
  },
  {
   "cell_type": "code",
   "execution_count": 17,
   "metadata": {},
   "outputs": [
    {
     "data": {
      "text/plain": [
       "(11162, 1674)"
      ]
     },
     "execution_count": 17,
     "metadata": {},
     "output_type": "execute_result"
    }
   ],
   "source": [
    "x_all_08.shape"
   ]
  },
  {
   "cell_type": "code",
   "execution_count": 18,
   "metadata": {},
   "outputs": [],
   "source": [
    "x_all_08.to_pickle(\"../data/cna/tcga_cna_raw_all_samples_all_chr_0.8_threshold_0.6_X_corr_brca_no_dup.pkl\")"
   ]
  },
  {
   "cell_type": "code",
   "execution_count": 19,
   "metadata": {},
   "outputs": [],
   "source": [
    "x_cna_train_08 = pd.merge(x_all_08, translation_table_train, on='tcga_id')\n",
    "x_cna_test_08 = pd.merge(x_all_08, translation_table_test, on='tcga_id')"
   ]
  },
  {
   "cell_type": "code",
   "execution_count": 20,
   "metadata": {},
   "outputs": [
    {
     "data": {
      "text/html": [
       "<div>\n",
       "<style scoped>\n",
       "    .dataframe tbody tr th:only-of-type {\n",
       "        vertical-align: middle;\n",
       "    }\n",
       "\n",
       "    .dataframe tbody tr th {\n",
       "        vertical-align: top;\n",
       "    }\n",
       "\n",
       "    .dataframe thead th {\n",
       "        text-align: right;\n",
       "    }\n",
       "</style>\n",
       "<table border=\"1\" class=\"dataframe\">\n",
       "  <thead>\n",
       "    <tr style=\"text-align: right;\">\n",
       "      <th></th>\n",
       "      <th>chr1_3218610:4370074</th>\n",
       "      <th>chr1_4370075:4460262</th>\n",
       "      <th>chr1_4460263:4603033</th>\n",
       "      <th>chr1_4603034:4605422</th>\n",
       "      <th>chr1_4605423:5904569</th>\n",
       "      <th>chr1_5904570:5904744</th>\n",
       "      <th>chr1_5904745:12230631</th>\n",
       "      <th>chr1_12230632:12233008</th>\n",
       "      <th>chr1_12233009:14251497</th>\n",
       "      <th>chr1_14251498:15700417</th>\n",
       "      <th>...</th>\n",
       "      <th>chrX_143124652:143136341</th>\n",
       "      <th>chrX_143136342:143136764</th>\n",
       "      <th>chrX_143136765:143382601</th>\n",
       "      <th>chrX_143382602:144249600</th>\n",
       "      <th>chrX_144249601:144249991</th>\n",
       "      <th>chrX_144249992:146050893</th>\n",
       "      <th>chrX_146050894:146053429</th>\n",
       "      <th>chrX_146053429:tcga_id</th>\n",
       "      <th>tcga_id</th>\n",
       "      <th>Ciriello_subtype</th>\n",
       "    </tr>\n",
       "  </thead>\n",
       "  <tbody>\n",
       "    <tr>\n",
       "      <th>0</th>\n",
       "      <td>0.0034</td>\n",
       "      <td>0.0034</td>\n",
       "      <td>0.0034</td>\n",
       "      <td>0.0034</td>\n",
       "      <td>0.0034</td>\n",
       "      <td>0.0034</td>\n",
       "      <td>0.003400</td>\n",
       "      <td>0.0034</td>\n",
       "      <td>0.0034</td>\n",
       "      <td>0.0034</td>\n",
       "      <td>...</td>\n",
       "      <td>0.0016</td>\n",
       "      <td>0.0016</td>\n",
       "      <td>0.0016</td>\n",
       "      <td>0.0016</td>\n",
       "      <td>0.0016</td>\n",
       "      <td>0.0016</td>\n",
       "      <td>0.0016</td>\n",
       "      <td>-0.000957</td>\n",
       "      <td>TCGA-A1-A0SB</td>\n",
       "      <td>Normal</td>\n",
       "    </tr>\n",
       "    <tr>\n",
       "      <th>1</th>\n",
       "      <td>-0.3934</td>\n",
       "      <td>-0.3934</td>\n",
       "      <td>-0.3934</td>\n",
       "      <td>-0.3934</td>\n",
       "      <td>-0.3934</td>\n",
       "      <td>-0.3934</td>\n",
       "      <td>-0.393400</td>\n",
       "      <td>-0.3934</td>\n",
       "      <td>-0.3934</td>\n",
       "      <td>-0.3934</td>\n",
       "      <td>...</td>\n",
       "      <td>-0.0019</td>\n",
       "      <td>-0.0019</td>\n",
       "      <td>-0.0019</td>\n",
       "      <td>-0.0019</td>\n",
       "      <td>-0.0019</td>\n",
       "      <td>-0.0019</td>\n",
       "      <td>-0.0019</td>\n",
       "      <td>-0.001900</td>\n",
       "      <td>TCGA-A1-A0SD</td>\n",
       "      <td>LumA</td>\n",
       "    </tr>\n",
       "    <tr>\n",
       "      <th>2</th>\n",
       "      <td>-0.0313</td>\n",
       "      <td>-0.0313</td>\n",
       "      <td>-0.0313</td>\n",
       "      <td>-0.0313</td>\n",
       "      <td>-0.0313</td>\n",
       "      <td>-0.0313</td>\n",
       "      <td>-0.031300</td>\n",
       "      <td>-0.0313</td>\n",
       "      <td>-0.0313</td>\n",
       "      <td>-0.0313</td>\n",
       "      <td>...</td>\n",
       "      <td>0.0068</td>\n",
       "      <td>0.0068</td>\n",
       "      <td>0.0068</td>\n",
       "      <td>0.0068</td>\n",
       "      <td>0.0068</td>\n",
       "      <td>0.0068</td>\n",
       "      <td>0.0068</td>\n",
       "      <td>0.006800</td>\n",
       "      <td>TCGA-A1-A0SE</td>\n",
       "      <td>LumA</td>\n",
       "    </tr>\n",
       "    <tr>\n",
       "      <th>3</th>\n",
       "      <td>-0.0562</td>\n",
       "      <td>-0.0562</td>\n",
       "      <td>-0.0562</td>\n",
       "      <td>-0.0562</td>\n",
       "      <td>-0.0562</td>\n",
       "      <td>-0.0562</td>\n",
       "      <td>-0.056200</td>\n",
       "      <td>-0.0562</td>\n",
       "      <td>-0.0562</td>\n",
       "      <td>-0.0562</td>\n",
       "      <td>...</td>\n",
       "      <td>0.0012</td>\n",
       "      <td>0.0012</td>\n",
       "      <td>0.0012</td>\n",
       "      <td>0.0012</td>\n",
       "      <td>0.0012</td>\n",
       "      <td>0.0012</td>\n",
       "      <td>0.0012</td>\n",
       "      <td>0.001200</td>\n",
       "      <td>TCGA-A1-A0SF</td>\n",
       "      <td>LumA</td>\n",
       "    </tr>\n",
       "    <tr>\n",
       "      <th>4</th>\n",
       "      <td>-0.3264</td>\n",
       "      <td>-0.3264</td>\n",
       "      <td>-0.3264</td>\n",
       "      <td>-0.3264</td>\n",
       "      <td>-0.3264</td>\n",
       "      <td>-0.3264</td>\n",
       "      <td>-0.316775</td>\n",
       "      <td>-0.3398</td>\n",
       "      <td>-0.3398</td>\n",
       "      <td>-0.3398</td>\n",
       "      <td>...</td>\n",
       "      <td>0.2237</td>\n",
       "      <td>0.2237</td>\n",
       "      <td>0.2237</td>\n",
       "      <td>0.2237</td>\n",
       "      <td>0.2237</td>\n",
       "      <td>0.2237</td>\n",
       "      <td>0.2237</td>\n",
       "      <td>0.223700</td>\n",
       "      <td>TCGA-A1-A0SH</td>\n",
       "      <td>LumA</td>\n",
       "    </tr>\n",
       "  </tbody>\n",
       "</table>\n",
       "<p>5 rows × 1675 columns</p>\n",
       "</div>"
      ],
      "text/plain": [
       "   chr1_3218610:4370074  chr1_4370075:4460262  chr1_4460263:4603033  \\\n",
       "0                0.0034                0.0034                0.0034   \n",
       "1               -0.3934               -0.3934               -0.3934   \n",
       "2               -0.0313               -0.0313               -0.0313   \n",
       "3               -0.0562               -0.0562               -0.0562   \n",
       "4               -0.3264               -0.3264               -0.3264   \n",
       "\n",
       "   chr1_4603034:4605422  chr1_4605423:5904569  chr1_5904570:5904744  \\\n",
       "0                0.0034                0.0034                0.0034   \n",
       "1               -0.3934               -0.3934               -0.3934   \n",
       "2               -0.0313               -0.0313               -0.0313   \n",
       "3               -0.0562               -0.0562               -0.0562   \n",
       "4               -0.3264               -0.3264               -0.3264   \n",
       "\n",
       "   chr1_5904745:12230631  chr1_12230632:12233008  chr1_12233009:14251497  \\\n",
       "0               0.003400                  0.0034                  0.0034   \n",
       "1              -0.393400                 -0.3934                 -0.3934   \n",
       "2              -0.031300                 -0.0313                 -0.0313   \n",
       "3              -0.056200                 -0.0562                 -0.0562   \n",
       "4              -0.316775                 -0.3398                 -0.3398   \n",
       "\n",
       "   chr1_14251498:15700417  ...  chrX_143124652:143136341  \\\n",
       "0                  0.0034  ...                    0.0016   \n",
       "1                 -0.3934  ...                   -0.0019   \n",
       "2                 -0.0313  ...                    0.0068   \n",
       "3                 -0.0562  ...                    0.0012   \n",
       "4                 -0.3398  ...                    0.2237   \n",
       "\n",
       "   chrX_143136342:143136764  chrX_143136765:143382601  \\\n",
       "0                    0.0016                    0.0016   \n",
       "1                   -0.0019                   -0.0019   \n",
       "2                    0.0068                    0.0068   \n",
       "3                    0.0012                    0.0012   \n",
       "4                    0.2237                    0.2237   \n",
       "\n",
       "   chrX_143382602:144249600  chrX_144249601:144249991  \\\n",
       "0                    0.0016                    0.0016   \n",
       "1                   -0.0019                   -0.0019   \n",
       "2                    0.0068                    0.0068   \n",
       "3                    0.0012                    0.0012   \n",
       "4                    0.2237                    0.2237   \n",
       "\n",
       "   chrX_144249992:146050893  chrX_146050894:146053429  chrX_146053429:tcga_id  \\\n",
       "0                    0.0016                    0.0016               -0.000957   \n",
       "1                   -0.0019                   -0.0019               -0.001900   \n",
       "2                    0.0068                    0.0068                0.006800   \n",
       "3                    0.0012                    0.0012                0.001200   \n",
       "4                    0.2237                    0.2237                0.223700   \n",
       "\n",
       "        tcga_id  Ciriello_subtype  \n",
       "0  TCGA-A1-A0SB            Normal  \n",
       "1  TCGA-A1-A0SD              LumA  \n",
       "2  TCGA-A1-A0SE              LumA  \n",
       "3  TCGA-A1-A0SF              LumA  \n",
       "4  TCGA-A1-A0SH              LumA  \n",
       "\n",
       "[5 rows x 1675 columns]"
      ]
     },
     "execution_count": 20,
     "metadata": {},
     "output_type": "execute_result"
    }
   ],
   "source": [
    "x_cna_train_08.head()"
   ]
  },
  {
   "cell_type": "code",
   "execution_count": 21,
   "metadata": {},
   "outputs": [],
   "source": [
    "x_cna_train_08.to_pickle(\"../data/cna_brca_train_0.8_threshold_0.6_chrX_corr_brca.pkl\")\n",
    "x_cna_test_08.to_pickle(\"../data/cna_brca_test_0.8_treshold_0.6_chrX_corr_brca.pkl\")"
   ]
  },
  {
   "cell_type": "markdown",
   "metadata": {},
   "source": [
    "## Scale the data and train the model"
   ]
  },
  {
   "cell_type": "code",
   "execution_count": 22,
   "metadata": {},
   "outputs": [],
   "source": [
    "# For CNA+RNA training\n",
    "#x_cna_train_08 = pd.read_pickle(\"../data/hybrids/tcga_brca_cna_rna_meta_train.pkl\")\n",
    "#x_cna_test_08 = pd.read_pickle(\"../data/hybrids/tcga_brca_cna_rna_meta_test.pkl\")"
   ]
  },
  {
   "cell_type": "code",
   "execution_count": 23,
   "metadata": {},
   "outputs": [
    {
     "data": {
      "text/plain": [
       "tcga_id             object\n",
       "Ciriello_subtype    object\n",
       "dtype: object"
      ]
     },
     "execution_count": 23,
     "metadata": {},
     "output_type": "execute_result"
    }
   ],
   "source": [
    "x_cna_train_08.dtypes[x_cna_train_08.dtypes !='float64']"
   ]
  },
  {
   "cell_type": "code",
   "execution_count": 24,
   "metadata": {},
   "outputs": [
    {
     "data": {
      "text/plain": [
       "tcga_id    object\n",
       "subtype    object\n",
       "dtype: object"
      ]
     },
     "execution_count": 24,
     "metadata": {},
     "output_type": "execute_result"
    }
   ],
   "source": [
    "x_cna_test_08.dtypes[x_cna_test_08.dtypes !='float64']"
   ]
  },
  {
   "cell_type": "code",
   "execution_count": 25,
   "metadata": {},
   "outputs": [],
   "source": [
    "y_train = x_cna_train_08['Ciriello_subtype']\n",
    "y_test = x_cna_test_08['subtype']\n",
    "\n",
    "x_cna_train_08.drop(['tcga_id', 'Ciriello_subtype'], axis=1, inplace=True)\n",
    "x_cna_test_08.drop(['tcga_id', 'subtype'], axis=1, inplace=True)"
   ]
  },
  {
   "cell_type": "code",
   "execution_count": 26,
   "metadata": {},
   "outputs": [
    {
     "data": {
      "text/plain": [
       "LumA      415\n",
       "LumB      176\n",
       "Basal     136\n",
       "Her2       65\n",
       "Normal     25\n",
       "Name: Ciriello_subtype, dtype: int64"
      ]
     },
     "execution_count": 26,
     "metadata": {},
     "output_type": "execute_result"
    }
   ],
   "source": [
    "y_train.value_counts()"
   ]
  },
  {
   "cell_type": "code",
   "execution_count": 27,
   "metadata": {},
   "outputs": [
    {
     "data": {
      "text/plain": [
       "LumA      131\n",
       "Basal      43\n",
       "LumB       32\n",
       "Her2       16\n",
       "Normal     14\n",
       "Name: subtype, dtype: int64"
      ]
     },
     "execution_count": 27,
     "metadata": {},
     "output_type": "execute_result"
    }
   ],
   "source": [
    "y_test.value_counts()"
   ]
  },
  {
   "cell_type": "code",
   "execution_count": 28,
   "metadata": {},
   "outputs": [],
   "source": [
    "scaler = MinMaxScaler()\n",
    "X_train = pd.DataFrame(scaler.fit_transform(x_cna_train_08), columns=x_cna_train_08.columns)\n",
    "X_test = pd.DataFrame(scaler.transform(x_cna_test_08), columns=x_cna_test_08.columns)"
   ]
  },
  {
   "cell_type": "code",
   "execution_count": 29,
   "metadata": {},
   "outputs": [
    {
     "name": "stdout",
     "output_type": "stream",
     "text": [
      "Fold 1 of 5\n"
     ]
    },
    {
     "name": "stderr",
     "output_type": "stream",
     "text": [
      "/home/cristovao/anaconda3/envs/thesis/lib/python3.7/site-packages/sklearn/metrics/classification.py:1143: UndefinedMetricWarning: Precision and F-score are ill-defined and being set to 0.0 in labels with no predicted samples.\n",
      "  'precision', 'predicted', average, warn_for)\n"
     ]
    },
    {
     "name": "stdout",
     "output_type": "stream",
     "text": [
      "Fold 2 of 5\n"
     ]
    },
    {
     "name": "stderr",
     "output_type": "stream",
     "text": [
      "/home/cristovao/anaconda3/envs/thesis/lib/python3.7/site-packages/sklearn/metrics/classification.py:1143: UndefinedMetricWarning: Precision and F-score are ill-defined and being set to 0.0 in labels with no predicted samples.\n",
      "  'precision', 'predicted', average, warn_for)\n"
     ]
    },
    {
     "name": "stdout",
     "output_type": "stream",
     "text": [
      "Fold 3 of 5\n"
     ]
    },
    {
     "name": "stderr",
     "output_type": "stream",
     "text": [
      "/home/cristovao/anaconda3/envs/thesis/lib/python3.7/site-packages/sklearn/metrics/classification.py:1143: UndefinedMetricWarning: Precision and F-score are ill-defined and being set to 0.0 in labels with no predicted samples.\n",
      "  'precision', 'predicted', average, warn_for)\n"
     ]
    },
    {
     "name": "stdout",
     "output_type": "stream",
     "text": [
      "Fold 4 of 5\n"
     ]
    },
    {
     "name": "stderr",
     "output_type": "stream",
     "text": [
      "/home/cristovao/anaconda3/envs/thesis/lib/python3.7/site-packages/sklearn/metrics/classification.py:1143: UndefinedMetricWarning: Precision and F-score are ill-defined and being set to 0.0 in labels with no predicted samples.\n",
      "  'precision', 'predicted', average, warn_for)\n"
     ]
    },
    {
     "name": "stdout",
     "output_type": "stream",
     "text": [
      "Fold 5 of 5\n"
     ]
    },
    {
     "name": "stderr",
     "output_type": "stream",
     "text": [
      "/home/cristovao/anaconda3/envs/thesis/lib/python3.7/site-packages/sklearn/metrics/classification.py:1143: UndefinedMetricWarning: Precision and F-score are ill-defined and being set to 0.0 in labels with no predicted samples.\n",
      "  'precision', 'predicted', average, warn_for)\n"
     ]
    },
    {
     "name": "stdout",
     "output_type": "stream",
     "text": [
      "Results: [0.1696969696969697, 0.1656441717791411, 0.1656441717791411, 0.1656441717791411, 0.1656441717791411]\n",
      "C: 0.001, Accuracy: 0.1664547313627068\n",
      "Fold 1 of 5\n"
     ]
    },
    {
     "name": "stderr",
     "output_type": "stream",
     "text": [
      "/home/cristovao/anaconda3/envs/thesis/lib/python3.7/site-packages/sklearn/metrics/classification.py:1143: UndefinedMetricWarning: Precision and F-score are ill-defined and being set to 0.0 in labels with no predicted samples.\n",
      "  'precision', 'predicted', average, warn_for)\n"
     ]
    },
    {
     "name": "stdout",
     "output_type": "stream",
     "text": [
      "Fold 2 of 5\n"
     ]
    },
    {
     "name": "stderr",
     "output_type": "stream",
     "text": [
      "/home/cristovao/anaconda3/envs/thesis/lib/python3.7/site-packages/sklearn/metrics/classification.py:1143: UndefinedMetricWarning: Precision and F-score are ill-defined and being set to 0.0 in labels with no predicted samples.\n",
      "  'precision', 'predicted', average, warn_for)\n"
     ]
    },
    {
     "name": "stdout",
     "output_type": "stream",
     "text": [
      "Fold 3 of 5\n"
     ]
    },
    {
     "name": "stderr",
     "output_type": "stream",
     "text": [
      "/home/cristovao/anaconda3/envs/thesis/lib/python3.7/site-packages/sklearn/metrics/classification.py:1143: UndefinedMetricWarning: Precision and F-score are ill-defined and being set to 0.0 in labels with no predicted samples.\n",
      "  'precision', 'predicted', average, warn_for)\n"
     ]
    },
    {
     "name": "stdout",
     "output_type": "stream",
     "text": [
      "Fold 4 of 5\n"
     ]
    },
    {
     "name": "stderr",
     "output_type": "stream",
     "text": [
      "/home/cristovao/anaconda3/envs/thesis/lib/python3.7/site-packages/sklearn/metrics/classification.py:1143: UndefinedMetricWarning: Precision and F-score are ill-defined and being set to 0.0 in labels with no predicted samples.\n",
      "  'precision', 'predicted', average, warn_for)\n"
     ]
    },
    {
     "name": "stdout",
     "output_type": "stream",
     "text": [
      "Fold 5 of 5\n"
     ]
    },
    {
     "name": "stderr",
     "output_type": "stream",
     "text": [
      "/home/cristovao/anaconda3/envs/thesis/lib/python3.7/site-packages/sklearn/metrics/classification.py:1143: UndefinedMetricWarning: Precision and F-score are ill-defined and being set to 0.0 in labels with no predicted samples.\n",
      "  'precision', 'predicted', average, warn_for)\n"
     ]
    },
    {
     "name": "stdout",
     "output_type": "stream",
     "text": [
      "Results: [0.503030303030303, 0.50920245398773, 0.50920245398773, 0.50920245398773, 0.50920245398773]\n",
      "C: 0.01, Accuracy: 0.5079680237962446\n",
      "Fold 1 of 5\n"
     ]
    },
    {
     "name": "stderr",
     "output_type": "stream",
     "text": [
      "/home/cristovao/anaconda3/envs/thesis/lib/python3.7/site-packages/sklearn/metrics/classification.py:1143: UndefinedMetricWarning: Precision and F-score are ill-defined and being set to 0.0 in labels with no predicted samples.\n",
      "  'precision', 'predicted', average, warn_for)\n"
     ]
    },
    {
     "name": "stdout",
     "output_type": "stream",
     "text": [
      "Fold 2 of 5\n"
     ]
    },
    {
     "name": "stderr",
     "output_type": "stream",
     "text": [
      "/home/cristovao/anaconda3/envs/thesis/lib/python3.7/site-packages/sklearn/metrics/classification.py:1143: UndefinedMetricWarning: Precision and F-score are ill-defined and being set to 0.0 in labels with no predicted samples.\n",
      "  'precision', 'predicted', average, warn_for)\n"
     ]
    },
    {
     "name": "stdout",
     "output_type": "stream",
     "text": [
      "Fold 3 of 5\n"
     ]
    },
    {
     "name": "stderr",
     "output_type": "stream",
     "text": [
      "/home/cristovao/anaconda3/envs/thesis/lib/python3.7/site-packages/sklearn/metrics/classification.py:1143: UndefinedMetricWarning: Precision and F-score are ill-defined and being set to 0.0 in labels with no predicted samples.\n",
      "  'precision', 'predicted', average, warn_for)\n"
     ]
    },
    {
     "name": "stdout",
     "output_type": "stream",
     "text": [
      "Fold 4 of 5\n"
     ]
    },
    {
     "name": "stderr",
     "output_type": "stream",
     "text": [
      "/home/cristovao/anaconda3/envs/thesis/lib/python3.7/site-packages/sklearn/metrics/classification.py:1143: UndefinedMetricWarning: Precision and F-score are ill-defined and being set to 0.0 in labels with no predicted samples.\n",
      "  'precision', 'predicted', average, warn_for)\n"
     ]
    },
    {
     "name": "stdout",
     "output_type": "stream",
     "text": [
      "Fold 5 of 5\n"
     ]
    },
    {
     "name": "stderr",
     "output_type": "stream",
     "text": [
      "/home/cristovao/anaconda3/envs/thesis/lib/python3.7/site-packages/sklearn/metrics/classification.py:1143: UndefinedMetricWarning: Precision and F-score are ill-defined and being set to 0.0 in labels with no predicted samples.\n",
      "  'precision', 'predicted', average, warn_for)\n"
     ]
    },
    {
     "name": "stdout",
     "output_type": "stream",
     "text": [
      "Results: [0.5393939393939394, 0.5460122699386503, 0.5337423312883436, 0.558282208588957, 0.5521472392638037]\n",
      "C: 0.1, Accuracy: 0.5459155976947387\n",
      "Fold 1 of 5\n"
     ]
    },
    {
     "name": "stderr",
     "output_type": "stream",
     "text": [
      "/home/cristovao/anaconda3/envs/thesis/lib/python3.7/site-packages/sklearn/metrics/classification.py:1143: UndefinedMetricWarning: Precision and F-score are ill-defined and being set to 0.0 in labels with no predicted samples.\n",
      "  'precision', 'predicted', average, warn_for)\n"
     ]
    },
    {
     "name": "stdout",
     "output_type": "stream",
     "text": [
      "Fold 2 of 5\n"
     ]
    },
    {
     "name": "stderr",
     "output_type": "stream",
     "text": [
      "/home/cristovao/anaconda3/envs/thesis/lib/python3.7/site-packages/sklearn/metrics/classification.py:1143: UndefinedMetricWarning: Precision and F-score are ill-defined and being set to 0.0 in labels with no predicted samples.\n",
      "  'precision', 'predicted', average, warn_for)\n"
     ]
    },
    {
     "name": "stdout",
     "output_type": "stream",
     "text": [
      "Fold 3 of 5\n"
     ]
    },
    {
     "name": "stderr",
     "output_type": "stream",
     "text": [
      "/home/cristovao/anaconda3/envs/thesis/lib/python3.7/site-packages/sklearn/metrics/classification.py:1143: UndefinedMetricWarning: Precision and F-score are ill-defined and being set to 0.0 in labels with no predicted samples.\n",
      "  'precision', 'predicted', average, warn_for)\n"
     ]
    },
    {
     "name": "stdout",
     "output_type": "stream",
     "text": [
      "Fold 4 of 5\n"
     ]
    },
    {
     "name": "stderr",
     "output_type": "stream",
     "text": [
      "/home/cristovao/anaconda3/envs/thesis/lib/python3.7/site-packages/sklearn/metrics/classification.py:1143: UndefinedMetricWarning: Precision and F-score are ill-defined and being set to 0.0 in labels with no predicted samples.\n",
      "  'precision', 'predicted', average, warn_for)\n"
     ]
    },
    {
     "name": "stdout",
     "output_type": "stream",
     "text": [
      "Fold 5 of 5\n"
     ]
    },
    {
     "name": "stderr",
     "output_type": "stream",
     "text": [
      "/home/cristovao/anaconda3/envs/thesis/lib/python3.7/site-packages/sklearn/metrics/classification.py:1143: UndefinedMetricWarning: Precision and F-score are ill-defined and being set to 0.0 in labels with no predicted samples.\n",
      "  'precision', 'predicted', average, warn_for)\n"
     ]
    },
    {
     "name": "stdout",
     "output_type": "stream",
     "text": [
      "Results: [0.7272727272727273, 0.7361963190184049, 0.7055214723926381, 0.7300613496932515, 0.7116564417177914]\n",
      "C: 1, Accuracy: 0.7221416620189627\n",
      "Fold 1 of 5\n",
      "Fold 2 of 5\n",
      "Fold 3 of 5\n",
      "Fold 4 of 5\n",
      "Fold 5 of 5\n",
      "Results: [0.696969696969697, 0.6319018404907976, 0.6748466257668712, 0.7423312883435583, 0.6748466257668712]\n",
      "C: 10, Accuracy: 0.6841792154675591\n",
      "Fold 1 of 5\n",
      "Fold 2 of 5\n",
      "Fold 3 of 5\n",
      "Fold 4 of 5\n",
      "Fold 5 of 5\n",
      "Results: [0.6545454545454545, 0.6257668711656442, 0.6319018404907976, 0.6932515337423313, 0.6196319018404908]\n",
      "C: 100, Accuracy: 0.6450195203569437\n"
     ]
    },
    {
     "data": {
      "text/plain": [
       "[0.1664547313627068,\n",
       " 0.5079680237962446,\n",
       " 0.5459155976947387,\n",
       " 0.7221416620189627,\n",
       " 0.6841792154675591,\n",
       " 0.6450195203569437]"
      ]
     },
     "execution_count": 29,
     "metadata": {},
     "output_type": "execute_result"
    }
   ],
   "source": [
    "values=[0.001, 0.01, 0.1, 1, 10, 100]\n",
    "i=1\n",
    "results = pd.DataFrame(columns=[\"Index\", \"C\", \"Accuracy\"])\n",
    "mean_scores = []\n",
    "all_reports = []\n",
    "subtypes = [\"Basal\", \"Her2\", \"LumA\", \"LumB\", \"Normal\"]\n",
    "\n",
    "\n",
    "skf = StratifiedKFold(n_splits=5)\n",
    "for c in values:\n",
    "    scores = []\n",
    "    full_report = []\n",
    "\n",
    "    for train_index, test_index in skf.split(X_train, y_train):\n",
    "        print(\"Fold {} of 5\".format(i))\n",
    "        X_cv_train, X_cv_val = X_train.iloc[train_index], X_train.iloc[test_index]\n",
    "        y_cv_train, y_cv_val = y_train.iloc[train_index], y_train.iloc[test_index]\n",
    "\n",
    "        clf = LogisticRegression(random_state=0, solver='liblinear', penalty=\"l1\", C=c, multi_class=\"auto\").fit(X_cv_train, y_cv_train)\n",
    "        \n",
    "        score = clf.score(X_cv_val, y_cv_val)\n",
    "        results = results.append({'Fold': i, 'C' : c , 'Score' : score}, ignore_index=True)\n",
    "        scores.append(score)\n",
    "        full_report.append(classification_report(y_cv_val, clf.predict(X_cv_val), target_names=subtypes, output_dict=True))\n",
    "        i+=1\n",
    "    \n",
    "    i=1\n",
    "    mean_scores.append(np.mean(scores))\n",
    "    all_reports.append(full_report)\n",
    "    print('Results: {}'.format(scores))\n",
    "    print('C: {}, Accuracy: {}'.format(c, np.mean(scores)))\n",
    "\n",
    "mean_scores"
   ]
  },
  {
   "cell_type": "code",
   "execution_count": 29,
   "metadata": {},
   "outputs": [
    {
     "data": {
      "text/plain": [
       "0.025878397364798487"
      ]
     },
     "execution_count": 29,
     "metadata": {},
     "output_type": "execute_result"
    }
   ],
   "source": [
    "from statistics import stdev\n",
    "stdev([0.7515151515151515, 0.7300613496932515, 0.7300613496932515, 0.7239263803680982, 0.6809815950920245])"
   ]
  },
  {
   "cell_type": "code",
   "execution_count": 30,
   "metadata": {},
   "outputs": [],
   "source": [
    "clf = LogisticRegression(random_state=0, solver='liblinear', penalty=\"l1\", C=1, multi_class=\"auto\").fit(X_train, y_train)"
   ]
  },
  {
   "cell_type": "code",
   "execution_count": 31,
   "metadata": {},
   "outputs": [
    {
     "name": "stdout",
     "output_type": "stream",
     "text": [
      "Confusion matrix\n",
      " [[ 39   1   3   0   0]\n",
      " [  6   1   4   5   0]\n",
      " [  0   1 116  14   0]\n",
      " [  2   3  14  13   0]\n",
      " [  1   0  11   2   0]]\n",
      "Accuracy 0.7161016949152542\n"
     ]
    },
    {
     "name": "stderr",
     "output_type": "stream",
     "text": [
      "/home/cristovao/anaconda3/envs/thesis/lib/python3.7/site-packages/sklearn/metrics/classification.py:1143: UndefinedMetricWarning: Precision and F-score are ill-defined and being set to 0.0 in labels with no predicted samples.\n",
      "  'precision', 'predicted', average, warn_for)\n"
     ]
    }
   ],
   "source": [
    "final_score = clf.score(X_test, y_test)\n",
    "report = classification_report(y_test, clf.predict(X_test), target_names=subtypes, output_dict=True)\n",
    "print('Confusion matrix\\n', confusion_matrix(y_test, clf.predict(X_test)))\n",
    "print('Accuracy', final_score)"
   ]
  },
  {
   "cell_type": "code",
   "execution_count": 32,
   "metadata": {},
   "outputs": [
    {
     "data": {
      "text/plain": [
       "{'Basal': {'precision': 0.7959183673469388,\n",
       "  'recall': 0.9069767441860465,\n",
       "  'f1-score': 0.8478260869565216,\n",
       "  'support': 43},\n",
       " 'Her2': {'precision': 0.5,\n",
       "  'recall': 0.0625,\n",
       "  'f1-score': 0.1111111111111111,\n",
       "  'support': 16},\n",
       " 'LumA': {'precision': 0.7682119205298014,\n",
       "  'recall': 0.8854961832061069,\n",
       "  'f1-score': 0.822695035460993,\n",
       "  'support': 131},\n",
       " 'LumB': {'precision': 0.4117647058823529,\n",
       "  'recall': 0.4375,\n",
       "  'f1-score': 0.42424242424242425,\n",
       "  'support': 32},\n",
       " 'Normal': {'precision': 0.0, 'recall': 0.0, 'f1-score': 0.0, 'support': 14},\n",
       " 'micro avg': {'precision': 0.7203389830508474,\n",
       "  'recall': 0.7203389830508474,\n",
       "  'f1-score': 0.7203389830508474,\n",
       "  'support': 236},\n",
       " 'macro avg': {'precision': 0.4951789987518186,\n",
       "  'recall': 0.4584945854784307,\n",
       "  'f1-score': 0.44117493155420995,\n",
       "  'support': 236},\n",
       " 'weighted avg': {'precision': 0.6611725507354138,\n",
       "  'recall': 0.7203389830508474,\n",
       "  'f1-score': 0.6761996048222705,\n",
       "  'support': 236}}"
      ]
     },
     "execution_count": 32,
     "metadata": {},
     "output_type": "execute_result"
    }
   ],
   "source": [
    "report"
   ]
  },
  {
   "cell_type": "markdown",
   "metadata": {},
   "source": [
    "### Get the values to fill in the thesis tables"
   ]
  },
  {
   "cell_type": "markdown",
   "metadata": {},
   "source": [
    "#### Train data"
   ]
  },
  {
   "cell_type": "code",
   "execution_count": 34,
   "metadata": {},
   "outputs": [
    {
     "name": "stdout",
     "output_type": "stream",
     "text": [
      "PRECISION\n",
      "[0.749707018266184, 0.7017606628377743, 0.7056697986956932, 0.6897205020379639, 0.6770914193243018]\n",
      "0.7047898802323834+-0.027485407944563712\n",
      "----------------\n",
      "RECALL\n",
      "[0.7515882730081016, 0.7300615880787239, 0.7299812839592521, 0.7237667812943211, 0.6806965734750312]\n",
      "0.723218899963086+-0.026008757990514445\n"
     ]
    }
   ],
   "source": [
    "from statistics import stdev\n",
    "\n",
    "subtypes = [\"Basal\", \"Her2\", \"LumA\", \"LumB\", \"Normal\"]\n",
    "mean_precisions = []\n",
    "mean_recalls =[]\n",
    "weights_train=[136,65,415,176,25]\n",
    "\n",
    "for i in range(0,5):\n",
    "    dict_aux = all_reports[3][i]\n",
    "    arr_pre = []\n",
    "    arr_rec = []\n",
    "    for sub in subtypes:\n",
    "        arr_pre.append(dict_aux[sub]['precision'])\n",
    "        arr_rec.append(dict_aux[sub]['recall'])\n",
    "    mean_precisions.append(np.average(arr_pre, weights=weights_train))\n",
    "    mean_recalls.append(np.average(arr_rec, weights=weights_train))\n",
    "\n",
    "print(\"PRECISION\")\n",
    "print(mean_precisions)\n",
    "print('{}+-{}'.format(np.mean(mean_precisions), stdev(mean_precisions)))\n",
    "print(\"----------------\")\n",
    "print('RECALL')\n",
    "print(mean_recalls)\n",
    "print('{}+-{}'.format(np.mean(mean_recalls), stdev(mean_recalls)))"
   ]
  },
  {
   "cell_type": "markdown",
   "metadata": {},
   "source": [
    "### Test data"
   ]
  },
  {
   "cell_type": "code",
   "execution_count": 43,
   "metadata": {},
   "outputs": [
    {
     "name": "stdout",
     "output_type": "stream",
     "text": [
      "[0.6611725507354138]\n",
      "[0.7203389830508474]\n"
     ]
    }
   ],
   "source": [
    "weights_test=[43, 16, 131, 32, 14]\n",
    "mean_precisions = []\n",
    "mean_recalls = []\n",
    "\n",
    "\n",
    "dict_aux = report\n",
    "arr_pre = []\n",
    "arr_rec = []\n",
    "for sub in subtypes:\n",
    "    arr_pre.append(dict_aux[sub]['precision'])\n",
    "    arr_rec.append(dict_aux[sub]['recall'])\n",
    "mean_precisions.append(np.average(arr_pre, weights=weights_test))\n",
    "mean_recalls.append(np.average(arr_rec, weights=weights_test))\n",
    "    \n",
    "print(mean_precisions)\n",
    "print(mean_recalls)"
   ]
  }
 ],
 "metadata": {
  "kernelspec": {
   "display_name": "thesis",
   "language": "python",
   "name": "thesis"
  },
  "language_info": {
   "codemirror_mode": {
    "name": "ipython",
    "version": 3
   },
   "file_extension": ".py",
   "mimetype": "text/x-python",
   "name": "python",
   "nbconvert_exporter": "python",
   "pygments_lexer": "ipython3",
   "version": "3.7.4"
  }
 },
 "nbformat": 4,
 "nbformat_minor": 2
}
