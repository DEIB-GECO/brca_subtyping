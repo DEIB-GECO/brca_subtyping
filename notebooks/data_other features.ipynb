{
 "cells": [
  {
   "cell_type": "markdown",
   "metadata": {},
   "source": [
    "# Notebook to explore CNA, methylation and mutation data, see matchings"
   ]
  },
  {
   "cell_type": "markdown",
   "metadata": {},
   "source": [
    "## Methylation data"
   ]
  },
  {
   "cell_type": "code",
   "execution_count": 1,
   "metadata": {},
   "outputs": [],
   "source": [
    "import pandas as pd\n",
    "import numpy as np"
   ]
  },
  {
   "cell_type": "code",
   "execution_count": 2,
   "metadata": {},
   "outputs": [],
   "source": [
    "full_methylation = pd.read_csv(\"../data/raw/d82e2c44-89eb-43d9-b6d3-712732bf6a53.tsv\", sep=\"\\t\")"
   ]
  },
  {
   "cell_type": "code",
   "execution_count": 3,
   "metadata": {},
   "outputs": [],
   "source": [
    "full_methylation_trans = full_methylation.set_index(\"Composite Element REF\").T"
   ]
  },
  {
   "cell_type": "code",
   "execution_count": 4,
   "metadata": {},
   "outputs": [],
   "source": [
    "full_methylation_trans = full_methylation_trans.reset_index()"
   ]
  },
  {
   "cell_type": "code",
   "execution_count": 7,
   "metadata": {},
   "outputs": [
    {
     "data": {
      "text/html": [
       "<div>\n",
       "<style scoped>\n",
       "    .dataframe tbody tr th:only-of-type {\n",
       "        vertical-align: middle;\n",
       "    }\n",
       "\n",
       "    .dataframe tbody tr th {\n",
       "        vertical-align: top;\n",
       "    }\n",
       "\n",
       "    .dataframe thead th {\n",
       "        text-align: right;\n",
       "    }\n",
       "</style>\n",
       "<table border=\"1\" class=\"dataframe\">\n",
       "  <thead>\n",
       "    <tr style=\"text-align: right;\">\n",
       "      <th>Composite Element REF</th>\n",
       "      <th>index</th>\n",
       "      <th>cg00000292</th>\n",
       "      <th>cg00003994</th>\n",
       "      <th>cg00005847</th>\n",
       "      <th>cg00007981</th>\n",
       "      <th>cg00008493</th>\n",
       "      <th>cg00008713</th>\n",
       "      <th>cg00009407</th>\n",
       "      <th>cg00011459</th>\n",
       "      <th>cg00012199</th>\n",
       "      <th>...</th>\n",
       "      <th>cg27651218</th>\n",
       "      <th>cg27652350</th>\n",
       "      <th>cg27653134</th>\n",
       "      <th>cg27654142</th>\n",
       "      <th>cg27655905</th>\n",
       "      <th>cg27657283</th>\n",
       "      <th>cg27661264</th>\n",
       "      <th>cg27662379</th>\n",
       "      <th>cg27662877</th>\n",
       "      <th>cg27665659</th>\n",
       "    </tr>\n",
       "  </thead>\n",
       "  <tbody>\n",
       "    <tr>\n",
       "      <th>0</th>\n",
       "      <td>TCGA-02-0001-01C-01D-0186-05</td>\n",
       "      <td>0.846378</td>\n",
       "      <td>0.066406</td>\n",
       "      <td>0.330927</td>\n",
       "      <td>0.026121</td>\n",
       "      <td>0.925941</td>\n",
       "      <td>0.060554</td>\n",
       "      <td>0.058225</td>\n",
       "      <td>0.869235</td>\n",
       "      <td>0.048453</td>\n",
       "      <td>...</td>\n",
       "      <td>0.926899</td>\n",
       "      <td>0.354071</td>\n",
       "      <td>0.924303</td>\n",
       "      <td>0.060605</td>\n",
       "      <td>0.064736</td>\n",
       "      <td>0.029954</td>\n",
       "      <td>0.355380</td>\n",
       "      <td>0.061701</td>\n",
       "      <td>0.068880</td>\n",
       "      <td>0.044622</td>\n",
       "    </tr>\n",
       "    <tr>\n",
       "      <th>1</th>\n",
       "      <td>TCGA-02-0003-01A-01D-0186-05</td>\n",
       "      <td>0.732044</td>\n",
       "      <td>0.131451</td>\n",
       "      <td>0.839389</td>\n",
       "      <td>0.039102</td>\n",
       "      <td>0.934192</td>\n",
       "      <td>0.165144</td>\n",
       "      <td>0.081359</td>\n",
       "      <td>0.727453</td>\n",
       "      <td>0.045299</td>\n",
       "      <td>...</td>\n",
       "      <td>0.897646</td>\n",
       "      <td>0.689550</td>\n",
       "      <td>0.919943</td>\n",
       "      <td>0.042318</td>\n",
       "      <td>0.057933</td>\n",
       "      <td>0.073895</td>\n",
       "      <td>0.361591</td>\n",
       "      <td>0.051867</td>\n",
       "      <td>0.065503</td>\n",
       "      <td>0.053852</td>\n",
       "    </tr>\n",
       "    <tr>\n",
       "      <th>2</th>\n",
       "      <td>TCGA-02-0006-01B-01D-0186-05</td>\n",
       "      <td>0.678917</td>\n",
       "      <td>0.089675</td>\n",
       "      <td>0.469196</td>\n",
       "      <td>0.021105</td>\n",
       "      <td>0.924509</td>\n",
       "      <td>0.061625</td>\n",
       "      <td>0.081596</td>\n",
       "      <td>0.898071</td>\n",
       "      <td>0.048361</td>\n",
       "      <td>...</td>\n",
       "      <td>0.906227</td>\n",
       "      <td>0.037738</td>\n",
       "      <td>0.922556</td>\n",
       "      <td>0.064637</td>\n",
       "      <td>0.072039</td>\n",
       "      <td>0.051412</td>\n",
       "      <td>0.417782</td>\n",
       "      <td>0.055937</td>\n",
       "      <td>0.062774</td>\n",
       "      <td>0.097196</td>\n",
       "    </tr>\n",
       "    <tr>\n",
       "      <th>3</th>\n",
       "      <td>TCGA-02-0007-01A-01D-0186-05</td>\n",
       "      <td>0.846951</td>\n",
       "      <td>0.040882</td>\n",
       "      <td>0.355053</td>\n",
       "      <td>0.039487</td>\n",
       "      <td>0.930292</td>\n",
       "      <td>0.060462</td>\n",
       "      <td>0.103439</td>\n",
       "      <td>0.873396</td>\n",
       "      <td>0.046849</td>\n",
       "      <td>...</td>\n",
       "      <td>0.930233</td>\n",
       "      <td>0.239067</td>\n",
       "      <td>0.906665</td>\n",
       "      <td>0.058250</td>\n",
       "      <td>0.096103</td>\n",
       "      <td>0.122936</td>\n",
       "      <td>0.446803</td>\n",
       "      <td>0.058933</td>\n",
       "      <td>0.054686</td>\n",
       "      <td>0.052628</td>\n",
       "    </tr>\n",
       "    <tr>\n",
       "      <th>4</th>\n",
       "      <td>TCGA-02-0009-01A-01D-0186-05</td>\n",
       "      <td>0.855192</td>\n",
       "      <td>0.066100</td>\n",
       "      <td>0.605179</td>\n",
       "      <td>0.025252</td>\n",
       "      <td>0.926921</td>\n",
       "      <td>0.061412</td>\n",
       "      <td>0.076623</td>\n",
       "      <td>0.920929</td>\n",
       "      <td>0.047368</td>\n",
       "      <td>...</td>\n",
       "      <td>0.896734</td>\n",
       "      <td>0.098433</td>\n",
       "      <td>0.939404</td>\n",
       "      <td>0.060082</td>\n",
       "      <td>0.080667</td>\n",
       "      <td>0.029166</td>\n",
       "      <td>0.448412</td>\n",
       "      <td>0.054502</td>\n",
       "      <td>0.056168</td>\n",
       "      <td>0.048547</td>\n",
       "    </tr>\n",
       "  </tbody>\n",
       "</table>\n",
       "<p>5 rows × 22602 columns</p>\n",
       "</div>"
      ],
      "text/plain": [
       "Composite Element REF                         index  cg00000292  cg00003994  \\\n",
       "0                      TCGA-02-0001-01C-01D-0186-05    0.846378    0.066406   \n",
       "1                      TCGA-02-0003-01A-01D-0186-05    0.732044    0.131451   \n",
       "2                      TCGA-02-0006-01B-01D-0186-05    0.678917    0.089675   \n",
       "3                      TCGA-02-0007-01A-01D-0186-05    0.846951    0.040882   \n",
       "4                      TCGA-02-0009-01A-01D-0186-05    0.855192    0.066100   \n",
       "\n",
       "Composite Element REF  cg00005847  cg00007981  cg00008493  cg00008713  \\\n",
       "0                        0.330927    0.026121    0.925941    0.060554   \n",
       "1                        0.839389    0.039102    0.934192    0.165144   \n",
       "2                        0.469196    0.021105    0.924509    0.061625   \n",
       "3                        0.355053    0.039487    0.930292    0.060462   \n",
       "4                        0.605179    0.025252    0.926921    0.061412   \n",
       "\n",
       "Composite Element REF  cg00009407  cg00011459  cg00012199  ...  cg27651218  \\\n",
       "0                        0.058225    0.869235    0.048453  ...    0.926899   \n",
       "1                        0.081359    0.727453    0.045299  ...    0.897646   \n",
       "2                        0.081596    0.898071    0.048361  ...    0.906227   \n",
       "3                        0.103439    0.873396    0.046849  ...    0.930233   \n",
       "4                        0.076623    0.920929    0.047368  ...    0.896734   \n",
       "\n",
       "Composite Element REF  cg27652350  cg27653134  cg27654142  cg27655905  \\\n",
       "0                        0.354071    0.924303    0.060605    0.064736   \n",
       "1                        0.689550    0.919943    0.042318    0.057933   \n",
       "2                        0.037738    0.922556    0.064637    0.072039   \n",
       "3                        0.239067    0.906665    0.058250    0.096103   \n",
       "4                        0.098433    0.939404    0.060082    0.080667   \n",
       "\n",
       "Composite Element REF  cg27657283  cg27661264  cg27662379  cg27662877  \\\n",
       "0                        0.029954    0.355380    0.061701    0.068880   \n",
       "1                        0.073895    0.361591    0.051867    0.065503   \n",
       "2                        0.051412    0.417782    0.055937    0.062774   \n",
       "3                        0.122936    0.446803    0.058933    0.054686   \n",
       "4                        0.029166    0.448412    0.054502    0.056168   \n",
       "\n",
       "Composite Element REF  cg27665659  \n",
       "0                        0.044622  \n",
       "1                        0.053852  \n",
       "2                        0.097196  \n",
       "3                        0.052628  \n",
       "4                        0.048547  \n",
       "\n",
       "[5 rows x 22602 columns]"
      ]
     },
     "execution_count": 7,
     "metadata": {},
     "output_type": "execute_result"
    }
   ],
   "source": [
    "full_methylation_trans.head(5)"
   ]
  },
  {
   "cell_type": "code",
   "execution_count": 8,
   "metadata": {},
   "outputs": [],
   "source": [
    "full_methylation_trans.sort_values(by=\"index\", inplace=True)"
   ]
  },
  {
   "cell_type": "code",
   "execution_count": 9,
   "metadata": {},
   "outputs": [],
   "source": [
    "full_methylation_trans[\"index\"] = full_methylation_trans[\"index\"].apply(lambda x: x[:12])"
   ]
  },
  {
   "cell_type": "code",
   "execution_count": 10,
   "metadata": {},
   "outputs": [],
   "source": [
    "full_methylation_trans.drop_duplicates(subset=\"index\", keep=\"first\", inplace=True)"
   ]
  },
  {
   "cell_type": "code",
   "execution_count": 11,
   "metadata": {},
   "outputs": [
    {
     "data": {
      "text/plain": [
       "TCGA-AB-2863    1\n",
       "TCGA-HL-7533    1\n",
       "TCGA-A3-A8CQ    1\n",
       "TCGA-RC-A7S9    1\n",
       "TCGA-32-4210    1\n",
       "Name: index, dtype: int64"
      ]
     },
     "execution_count": 11,
     "metadata": {},
     "output_type": "execute_result"
    }
   ],
   "source": [
    "full_methylation_trans[\"index\"].value_counts().head(5)"
   ]
  },
  {
   "cell_type": "markdown",
   "metadata": {},
   "source": [
    "## Load BRCA data too"
   ]
  },
  {
   "cell_type": "code",
   "execution_count": 8,
   "metadata": {},
   "outputs": [],
   "source": [
    "tcga_brca_train = pd.read_pickle(\"../data/tcga_brca_raw_19036_train.pkl\")\n",
    "tcga_brca_test = pd.read_pickle(\"../data/tcga_brca_raw_19036_test.pkl\")"
   ]
  },
  {
   "cell_type": "code",
   "execution_count": 9,
   "metadata": {},
   "outputs": [],
   "source": [
    "tcga_brca_train_id = tcga_brca_train[\"tcga_id\"]\n",
    "tcga_brca_test_id = tcga_brca_test[\"tcga_id\"]\n",
    "\n",
    "tcga_brca_all_id = pd.concat([tcga_brca_train_id, tcga_brca_test_id])"
   ]
  },
  {
   "cell_type": "code",
   "execution_count": 10,
   "metadata": {},
   "outputs": [
    {
     "ename": "NameError",
     "evalue": "name 'full_methylation_trans' is not defined",
     "output_type": "error",
     "traceback": [
      "\u001b[0;31m---------------------------------------------------------------------------\u001b[0m",
      "\u001b[0;31mNameError\u001b[0m                                 Traceback (most recent call last)",
      "\u001b[0;32m<ipython-input-10-f0410ac4076d>\u001b[0m in \u001b[0;36m<module>\u001b[0;34m\u001b[0m\n\u001b[1;32m      2\u001b[0m \u001b[0mtcga_train_n_samples\u001b[0m \u001b[0;34m=\u001b[0m \u001b[0mlen\u001b[0m\u001b[0;34m(\u001b[0m\u001b[0mtcga_brca_train_id\u001b[0m\u001b[0;34m)\u001b[0m\u001b[0;34m\u001b[0m\u001b[0;34m\u001b[0m\u001b[0m\n\u001b[1;32m      3\u001b[0m \u001b[0mtcga_test_n_samples\u001b[0m \u001b[0;34m=\u001b[0m \u001b[0mlen\u001b[0m\u001b[0;34m(\u001b[0m\u001b[0mtcga_brca_test_id\u001b[0m\u001b[0;34m)\u001b[0m\u001b[0;34m\u001b[0m\u001b[0;34m\u001b[0m\u001b[0m\n\u001b[0;32m----> 4\u001b[0;31m \u001b[0mmethy_n_samples\u001b[0m \u001b[0;34m=\u001b[0m \u001b[0mlen\u001b[0m\u001b[0;34m(\u001b[0m\u001b[0mfull_methylation_trans\u001b[0m\u001b[0;34m[\u001b[0m\u001b[0;34m\"index\"\u001b[0m\u001b[0;34m]\u001b[0m\u001b[0;34m)\u001b[0m\u001b[0;34m\u001b[0m\u001b[0;34m\u001b[0m\u001b[0m\n\u001b[0m",
      "\u001b[0;31mNameError\u001b[0m: name 'full_methylation_trans' is not defined"
     ]
    }
   ],
   "source": [
    "tcga_all_n_samples = len(tcga_brca_all_id)\n",
    "tcga_train_n_samples = len(tcga_brca_train_id)\n",
    "tcga_test_n_samples = len(tcga_brca_test_id)\n",
    "methy_n_samples = len(full_methylation_trans[\"index\"])"
   ]
  },
  {
   "cell_type": "code",
   "execution_count": 15,
   "metadata": {},
   "outputs": [
    {
     "data": {
      "text/plain": [
       "1032"
      ]
     },
     "execution_count": 15,
     "metadata": {},
     "output_type": "execute_result"
    }
   ],
   "source": [
    "cond = tcga_brca_all_id.isin(full_methylation_trans['index'])\n",
    "overlapping_all = len(tcga_brca_all_id[cond])\n",
    "overlapping_all"
   ]
  },
  {
   "cell_type": "code",
   "execution_count": 16,
   "metadata": {},
   "outputs": [],
   "source": [
    "cond_train = tcga_brca_train_id.isin(full_methylation_trans['index'])\n",
    "overlapping_train = len(tcga_brca_train_id[cond_train])\n",
    "\n",
    "cond_test = tcga_brca_test_id.isin(full_methylation_trans['index'])\n",
    "overlapping_test = len(tcga_brca_test_id[cond_test])"
   ]
  },
  {
   "cell_type": "code",
   "execution_count": 17,
   "metadata": {},
   "outputs": [
    {
     "name": "stdout",
     "output_type": "stream",
     "text": [
      "We have 1032/1053 samples with methylation data.\n",
      " Out of these:\n",
      " 811/817 on the training set\n",
      " 221/236 on the test set\n"
     ]
    }
   ],
   "source": [
    "print(\"We have {}/{} samples with methylation data.\\n Out of these:\\n {}/{} on the training set\\n {}/{} on the test set\".format(overlapping_all, tcga_all_n_samples, overlapping_train, tcga_train_n_samples, overlapping_test, tcga_test_n_samples))"
   ]
  },
  {
   "cell_type": "markdown",
   "metadata": {},
   "source": [
    "### Which are the non-overlapping?"
   ]
  },
  {
   "cell_type": "markdown",
   "metadata": {},
   "source": [
    "#### On the training set - 6 samples"
   ]
  },
  {
   "cell_type": "code",
   "execution_count": 18,
   "metadata": {},
   "outputs": [
    {
     "data": {
      "text/plain": [
       "122    TCGA-BH-A0B6\n",
       "165    TCGA-A8-A084\n",
       "325    TCGA-A8-A09K\n",
       "547    TCGA-BH-A1F5\n",
       "566    TCGA-D8-A146\n",
       "726    TCGA-A8-A08S\n",
       "Name: tcga_id, dtype: object"
      ]
     },
     "execution_count": 18,
     "metadata": {},
     "output_type": "execute_result"
    }
   ],
   "source": [
    "tcga_brca_train_missing = tcga_brca_train_id[~cond_train]\n",
    "tcga_brca_train_missing"
   ]
  },
  {
   "cell_type": "markdown",
   "metadata": {},
   "source": [
    "#### On the test set - 15 samples"
   ]
  },
  {
   "cell_type": "code",
   "execution_count": 19,
   "metadata": {},
   "outputs": [
    {
     "data": {
      "text/plain": [
       "14     TCGA-A7-A56D\n",
       "120    TCGA-AR-A5QM\n",
       "138    TCGA-BH-A5IZ\n",
       "139    TCGA-BH-A5J0\n",
       "161    TCGA-E9-A5FK\n",
       "162    TCGA-E9-A5FL\n",
       "173    TCGA-HN-A2OB\n",
       "189    TCGA-OK-A5Q2\n",
       "190    TCGA-OL-A5D6\n",
       "191    TCGA-OL-A5D7\n",
       "192    TCGA-OL-A5D8\n",
       "193    TCGA-OL-A5DA\n",
       "209    TCGA-PE-A5DC\n",
       "210    TCGA-PE-A5DD\n",
       "211    TCGA-PE-A5DE\n",
       "Name: tcga_id, dtype: object"
      ]
     },
     "execution_count": 19,
     "metadata": {},
     "output_type": "execute_result"
    }
   ],
   "source": [
    "tcga_brca_test_missing = tcga_brca_test_id[~cond_test]\n",
    "tcga_brca_test_missing"
   ]
  },
  {
   "cell_type": "markdown",
   "metadata": {},
   "source": [
    "### Let's check the subtype of the non-overlapping ones"
   ]
  },
  {
   "cell_type": "markdown",
   "metadata": {},
   "source": [
    "#### On the training set"
   ]
  },
  {
   "cell_type": "code",
   "execution_count": 21,
   "metadata": {},
   "outputs": [
    {
     "data": {
      "text/plain": [
       "[122    LumA\n",
       " Name: Ciriello_subtype, dtype: object, 165    LumB\n",
       " Name: Ciriello_subtype, dtype: object, 325    LumA\n",
       " Name: Ciriello_subtype, dtype: object, 547    LumA\n",
       " Name: Ciriello_subtype, dtype: object, 566    LumA\n",
       " Name: Ciriello_subtype, dtype: object, 726    LumB\n",
       " Name: Ciriello_subtype, dtype: object]"
      ]
     },
     "execution_count": 21,
     "metadata": {},
     "output_type": "execute_result"
    }
   ],
   "source": [
    "[tcga_brca_train[tcga_brca_train[\"tcga_id\"] == x][\"Ciriello_subtype\"] for x in tcga_brca_train_missing]"
   ]
  },
  {
   "cell_type": "markdown",
   "metadata": {},
   "source": [
    "#### On the test set"
   ]
  },
  {
   "cell_type": "code",
   "execution_count": 22,
   "metadata": {},
   "outputs": [
    {
     "data": {
      "text/plain": [
       "[14    LumA\n",
       " Name: subtype, dtype: object, 120    LumA\n",
       " Name: subtype, dtype: object, 138    Basal\n",
       " Name: subtype, dtype: object, 139    LumA\n",
       " Name: subtype, dtype: object, 161    LumA\n",
       " Name: subtype, dtype: object, 162    Basal\n",
       " Name: subtype, dtype: object, 173    LumA\n",
       " Name: subtype, dtype: object, 189    LumA\n",
       " Name: subtype, dtype: object, 190    Normal\n",
       " Name: subtype, dtype: object, 191    Basal\n",
       " Name: subtype, dtype: object, 192    LumA\n",
       " Name: subtype, dtype: object, 193    LumA\n",
       " Name: subtype, dtype: object, 209    LumA\n",
       " Name: subtype, dtype: object, 210    LumA\n",
       " Name: subtype, dtype: object, 211    LumA\n",
       " Name: subtype, dtype: object]"
      ]
     },
     "execution_count": 22,
     "metadata": {},
     "output_type": "execute_result"
    }
   ],
   "source": [
    "[tcga_brca_test[tcga_brca_test[\"tcga_id\"] == x][\"subtype\"] for x in tcga_brca_test_missing]"
   ]
  },
  {
   "cell_type": "markdown",
   "metadata": {},
   "source": [
    "<br>\n",
    "\n",
    "### The overlapping samples are of reasonable amount, and the missing subtypes are mostly from the classes that have the higher amount of samples, which means that losing this number of samples should not be a big problem"
   ]
  },
  {
   "cell_type": "markdown",
   "metadata": {},
   "source": [
    "<br>\n",
    "<br>\n",
    "<br>\n",
    "\n",
    "## CNA data"
   ]
  },
  {
   "cell_type": "code",
   "execution_count": 2,
   "metadata": {},
   "outputs": [],
   "source": [
    "full_cna = pd.read_csv(\"../data/raw/data_CNA.txt\", sep=\"\\t\")"
   ]
  },
  {
   "cell_type": "code",
   "execution_count": 3,
   "metadata": {},
   "outputs": [
    {
     "data": {
      "text/html": [
       "<div>\n",
       "<style scoped>\n",
       "    .dataframe tbody tr th:only-of-type {\n",
       "        vertical-align: middle;\n",
       "    }\n",
       "\n",
       "    .dataframe tbody tr th {\n",
       "        vertical-align: top;\n",
       "    }\n",
       "\n",
       "    .dataframe thead th {\n",
       "        text-align: right;\n",
       "    }\n",
       "</style>\n",
       "<table border=\"1\" class=\"dataframe\">\n",
       "  <thead>\n",
       "    <tr style=\"text-align: right;\">\n",
       "      <th></th>\n",
       "      <th>Hugo_Symbol</th>\n",
       "      <th>Entrez_Gene_Id</th>\n",
       "      <th>TCGA-3C-AAAU-01</th>\n",
       "      <th>TCGA-3C-AALI-01</th>\n",
       "      <th>TCGA-3C-AALJ-01</th>\n",
       "      <th>TCGA-3C-AALK-01</th>\n",
       "      <th>TCGA-4H-AAAK-01</th>\n",
       "      <th>TCGA-5L-AAT0-01</th>\n",
       "      <th>TCGA-5T-A9QA-01</th>\n",
       "      <th>TCGA-A1-A0SB-01</th>\n",
       "      <th>...</th>\n",
       "      <th>TCGA-UL-AAZ6-01</th>\n",
       "      <th>TCGA-UU-A93S-01</th>\n",
       "      <th>TCGA-V7-A7HQ-01</th>\n",
       "      <th>TCGA-W8-A86G-01</th>\n",
       "      <th>TCGA-WT-AB41-01</th>\n",
       "      <th>TCGA-WT-AB44-01</th>\n",
       "      <th>TCGA-XX-A899-01</th>\n",
       "      <th>TCGA-XX-A89A-01</th>\n",
       "      <th>TCGA-Z7-A8R5-01</th>\n",
       "      <th>TCGA-Z7-A8R6-01</th>\n",
       "    </tr>\n",
       "  </thead>\n",
       "  <tbody>\n",
       "    <tr>\n",
       "      <th>0</th>\n",
       "      <td>ACAP3</td>\n",
       "      <td>116983.0</td>\n",
       "      <td>0</td>\n",
       "      <td>-1</td>\n",
       "      <td>-1</td>\n",
       "      <td>0</td>\n",
       "      <td>0</td>\n",
       "      <td>0</td>\n",
       "      <td>-1</td>\n",
       "      <td>0</td>\n",
       "      <td>...</td>\n",
       "      <td>0</td>\n",
       "      <td>-1</td>\n",
       "      <td>0</td>\n",
       "      <td>0</td>\n",
       "      <td>-1</td>\n",
       "      <td>-1</td>\n",
       "      <td>0</td>\n",
       "      <td>-1</td>\n",
       "      <td>-1</td>\n",
       "      <td>0</td>\n",
       "    </tr>\n",
       "    <tr>\n",
       "      <th>1</th>\n",
       "      <td>ACTRT2</td>\n",
       "      <td>140625.0</td>\n",
       "      <td>0</td>\n",
       "      <td>-1</td>\n",
       "      <td>-1</td>\n",
       "      <td>0</td>\n",
       "      <td>0</td>\n",
       "      <td>0</td>\n",
       "      <td>-1</td>\n",
       "      <td>0</td>\n",
       "      <td>...</td>\n",
       "      <td>0</td>\n",
       "      <td>-1</td>\n",
       "      <td>0</td>\n",
       "      <td>0</td>\n",
       "      <td>-1</td>\n",
       "      <td>-1</td>\n",
       "      <td>0</td>\n",
       "      <td>-1</td>\n",
       "      <td>-1</td>\n",
       "      <td>0</td>\n",
       "    </tr>\n",
       "    <tr>\n",
       "      <th>2</th>\n",
       "      <td>AGRN</td>\n",
       "      <td>375790.0</td>\n",
       "      <td>0</td>\n",
       "      <td>-1</td>\n",
       "      <td>-1</td>\n",
       "      <td>0</td>\n",
       "      <td>0</td>\n",
       "      <td>0</td>\n",
       "      <td>-1</td>\n",
       "      <td>0</td>\n",
       "      <td>...</td>\n",
       "      <td>0</td>\n",
       "      <td>-1</td>\n",
       "      <td>0</td>\n",
       "      <td>0</td>\n",
       "      <td>-1</td>\n",
       "      <td>-1</td>\n",
       "      <td>0</td>\n",
       "      <td>-1</td>\n",
       "      <td>-1</td>\n",
       "      <td>0</td>\n",
       "    </tr>\n",
       "    <tr>\n",
       "      <th>3</th>\n",
       "      <td>ANKRD65</td>\n",
       "      <td>441869.0</td>\n",
       "      <td>0</td>\n",
       "      <td>-1</td>\n",
       "      <td>-1</td>\n",
       "      <td>0</td>\n",
       "      <td>0</td>\n",
       "      <td>0</td>\n",
       "      <td>-1</td>\n",
       "      <td>0</td>\n",
       "      <td>...</td>\n",
       "      <td>0</td>\n",
       "      <td>-1</td>\n",
       "      <td>0</td>\n",
       "      <td>0</td>\n",
       "      <td>-1</td>\n",
       "      <td>-1</td>\n",
       "      <td>0</td>\n",
       "      <td>-1</td>\n",
       "      <td>-1</td>\n",
       "      <td>0</td>\n",
       "    </tr>\n",
       "    <tr>\n",
       "      <th>4</th>\n",
       "      <td>ATAD3A</td>\n",
       "      <td>55210.0</td>\n",
       "      <td>0</td>\n",
       "      <td>-1</td>\n",
       "      <td>-1</td>\n",
       "      <td>0</td>\n",
       "      <td>0</td>\n",
       "      <td>0</td>\n",
       "      <td>-1</td>\n",
       "      <td>0</td>\n",
       "      <td>...</td>\n",
       "      <td>0</td>\n",
       "      <td>-1</td>\n",
       "      <td>0</td>\n",
       "      <td>0</td>\n",
       "      <td>-1</td>\n",
       "      <td>-1</td>\n",
       "      <td>0</td>\n",
       "      <td>-1</td>\n",
       "      <td>-1</td>\n",
       "      <td>0</td>\n",
       "    </tr>\n",
       "  </tbody>\n",
       "</table>\n",
       "<p>5 rows × 1072 columns</p>\n",
       "</div>"
      ],
      "text/plain": [
       "  Hugo_Symbol  Entrez_Gene_Id  TCGA-3C-AAAU-01  TCGA-3C-AALI-01  \\\n",
       "0       ACAP3        116983.0                0               -1   \n",
       "1      ACTRT2        140625.0                0               -1   \n",
       "2        AGRN        375790.0                0               -1   \n",
       "3     ANKRD65        441869.0                0               -1   \n",
       "4      ATAD3A         55210.0                0               -1   \n",
       "\n",
       "   TCGA-3C-AALJ-01  TCGA-3C-AALK-01  TCGA-4H-AAAK-01  TCGA-5L-AAT0-01  \\\n",
       "0               -1                0                0                0   \n",
       "1               -1                0                0                0   \n",
       "2               -1                0                0                0   \n",
       "3               -1                0                0                0   \n",
       "4               -1                0                0                0   \n",
       "\n",
       "   TCGA-5T-A9QA-01  TCGA-A1-A0SB-01  ...  TCGA-UL-AAZ6-01  TCGA-UU-A93S-01  \\\n",
       "0               -1                0  ...                0               -1   \n",
       "1               -1                0  ...                0               -1   \n",
       "2               -1                0  ...                0               -1   \n",
       "3               -1                0  ...                0               -1   \n",
       "4               -1                0  ...                0               -1   \n",
       "\n",
       "   TCGA-V7-A7HQ-01  TCGA-W8-A86G-01  TCGA-WT-AB41-01  TCGA-WT-AB44-01  \\\n",
       "0                0                0               -1               -1   \n",
       "1                0                0               -1               -1   \n",
       "2                0                0               -1               -1   \n",
       "3                0                0               -1               -1   \n",
       "4                0                0               -1               -1   \n",
       "\n",
       "   TCGA-XX-A899-01  TCGA-XX-A89A-01  TCGA-Z7-A8R5-01  TCGA-Z7-A8R6-01  \n",
       "0                0               -1               -1                0  \n",
       "1                0               -1               -1                0  \n",
       "2                0               -1               -1                0  \n",
       "3                0               -1               -1                0  \n",
       "4                0               -1               -1                0  \n",
       "\n",
       "[5 rows x 1072 columns]"
      ]
     },
     "execution_count": 3,
     "metadata": {},
     "output_type": "execute_result"
    }
   ],
   "source": [
    "full_cna.head(5)"
   ]
  },
  {
   "cell_type": "code",
   "execution_count": 4,
   "metadata": {},
   "outputs": [],
   "source": [
    "full_cna.drop([\"Entrez_Gene_Id\"], axis=1, inplace=True)\n",
    "full_cna_t = full_cna.set_index(\"Hugo_Symbol\").T\n",
    "full_cna_t = full_cna_t.reset_index()"
   ]
  },
  {
   "cell_type": "code",
   "execution_count": 5,
   "metadata": {},
   "outputs": [
    {
     "data": {
      "text/html": [
       "<div>\n",
       "<style scoped>\n",
       "    .dataframe tbody tr th:only-of-type {\n",
       "        vertical-align: middle;\n",
       "    }\n",
       "\n",
       "    .dataframe tbody tr th {\n",
       "        vertical-align: top;\n",
       "    }\n",
       "\n",
       "    .dataframe thead th {\n",
       "        text-align: right;\n",
       "    }\n",
       "</style>\n",
       "<table border=\"1\" class=\"dataframe\">\n",
       "  <thead>\n",
       "    <tr style=\"text-align: right;\">\n",
       "      <th>Hugo_Symbol</th>\n",
       "      <th>index</th>\n",
       "      <th>ACAP3</th>\n",
       "      <th>ACTRT2</th>\n",
       "      <th>AGRN</th>\n",
       "      <th>ANKRD65</th>\n",
       "      <th>ATAD3A</th>\n",
       "      <th>ATAD3B</th>\n",
       "      <th>ATAD3C</th>\n",
       "      <th>AURKAIP1</th>\n",
       "      <th>B3GALT6</th>\n",
       "      <th>...</th>\n",
       "      <th>hsa-mir-1321</th>\n",
       "      <th>hsa-mir-361</th>\n",
       "      <th>hsa-mir-548m</th>\n",
       "      <th>hsa-mir-652</th>\n",
       "      <th>hsa-mir-220a</th>\n",
       "      <th>hsa-mir-513c</th>\n",
       "      <th>hsa-mir-513b</th>\n",
       "      <th>hsa-mir-513a-1</th>\n",
       "      <th>hsa-mir-513a-2</th>\n",
       "      <th>hsa-mir-224</th>\n",
       "    </tr>\n",
       "  </thead>\n",
       "  <tbody>\n",
       "    <tr>\n",
       "      <th>0</th>\n",
       "      <td>TCGA-3C-AAAU-01</td>\n",
       "      <td>0</td>\n",
       "      <td>0</td>\n",
       "      <td>0</td>\n",
       "      <td>0</td>\n",
       "      <td>0</td>\n",
       "      <td>0</td>\n",
       "      <td>0</td>\n",
       "      <td>0</td>\n",
       "      <td>0</td>\n",
       "      <td>...</td>\n",
       "      <td>-1</td>\n",
       "      <td>-1</td>\n",
       "      <td>-1</td>\n",
       "      <td>-1</td>\n",
       "      <td>-1</td>\n",
       "      <td>-1</td>\n",
       "      <td>-1</td>\n",
       "      <td>-1</td>\n",
       "      <td>-1</td>\n",
       "      <td>-1</td>\n",
       "    </tr>\n",
       "    <tr>\n",
       "      <th>1</th>\n",
       "      <td>TCGA-3C-AALI-01</td>\n",
       "      <td>-1</td>\n",
       "      <td>-1</td>\n",
       "      <td>-1</td>\n",
       "      <td>-1</td>\n",
       "      <td>-1</td>\n",
       "      <td>-1</td>\n",
       "      <td>-1</td>\n",
       "      <td>-1</td>\n",
       "      <td>-1</td>\n",
       "      <td>...</td>\n",
       "      <td>-1</td>\n",
       "      <td>-1</td>\n",
       "      <td>-1</td>\n",
       "      <td>-1</td>\n",
       "      <td>-1</td>\n",
       "      <td>1</td>\n",
       "      <td>1</td>\n",
       "      <td>1</td>\n",
       "      <td>1</td>\n",
       "      <td>-1</td>\n",
       "    </tr>\n",
       "    <tr>\n",
       "      <th>2</th>\n",
       "      <td>TCGA-3C-AALJ-01</td>\n",
       "      <td>-1</td>\n",
       "      <td>-1</td>\n",
       "      <td>-1</td>\n",
       "      <td>-1</td>\n",
       "      <td>-1</td>\n",
       "      <td>-1</td>\n",
       "      <td>-1</td>\n",
       "      <td>-1</td>\n",
       "      <td>-1</td>\n",
       "      <td>...</td>\n",
       "      <td>0</td>\n",
       "      <td>0</td>\n",
       "      <td>0</td>\n",
       "      <td>0</td>\n",
       "      <td>0</td>\n",
       "      <td>0</td>\n",
       "      <td>0</td>\n",
       "      <td>0</td>\n",
       "      <td>0</td>\n",
       "      <td>0</td>\n",
       "    </tr>\n",
       "    <tr>\n",
       "      <th>3</th>\n",
       "      <td>TCGA-3C-AALK-01</td>\n",
       "      <td>0</td>\n",
       "      <td>0</td>\n",
       "      <td>0</td>\n",
       "      <td>0</td>\n",
       "      <td>0</td>\n",
       "      <td>0</td>\n",
       "      <td>0</td>\n",
       "      <td>0</td>\n",
       "      <td>0</td>\n",
       "      <td>...</td>\n",
       "      <td>0</td>\n",
       "      <td>0</td>\n",
       "      <td>0</td>\n",
       "      <td>0</td>\n",
       "      <td>0</td>\n",
       "      <td>0</td>\n",
       "      <td>0</td>\n",
       "      <td>0</td>\n",
       "      <td>0</td>\n",
       "      <td>0</td>\n",
       "    </tr>\n",
       "    <tr>\n",
       "      <th>4</th>\n",
       "      <td>TCGA-4H-AAAK-01</td>\n",
       "      <td>0</td>\n",
       "      <td>0</td>\n",
       "      <td>0</td>\n",
       "      <td>0</td>\n",
       "      <td>0</td>\n",
       "      <td>0</td>\n",
       "      <td>0</td>\n",
       "      <td>0</td>\n",
       "      <td>0</td>\n",
       "      <td>...</td>\n",
       "      <td>0</td>\n",
       "      <td>0</td>\n",
       "      <td>0</td>\n",
       "      <td>0</td>\n",
       "      <td>0</td>\n",
       "      <td>0</td>\n",
       "      <td>0</td>\n",
       "      <td>0</td>\n",
       "      <td>0</td>\n",
       "      <td>0</td>\n",
       "    </tr>\n",
       "  </tbody>\n",
       "</table>\n",
       "<p>5 rows × 25129 columns</p>\n",
       "</div>"
      ],
      "text/plain": [
       "Hugo_Symbol            index  ACAP3  ACTRT2  AGRN  ANKRD65  ATAD3A  ATAD3B  \\\n",
       "0            TCGA-3C-AAAU-01      0       0     0        0       0       0   \n",
       "1            TCGA-3C-AALI-01     -1      -1    -1       -1      -1      -1   \n",
       "2            TCGA-3C-AALJ-01     -1      -1    -1       -1      -1      -1   \n",
       "3            TCGA-3C-AALK-01      0       0     0        0       0       0   \n",
       "4            TCGA-4H-AAAK-01      0       0     0        0       0       0   \n",
       "\n",
       "Hugo_Symbol  ATAD3C  AURKAIP1  B3GALT6  ...  hsa-mir-1321  hsa-mir-361  \\\n",
       "0                 0         0        0  ...            -1           -1   \n",
       "1                -1        -1       -1  ...            -1           -1   \n",
       "2                -1        -1       -1  ...             0            0   \n",
       "3                 0         0        0  ...             0            0   \n",
       "4                 0         0        0  ...             0            0   \n",
       "\n",
       "Hugo_Symbol  hsa-mir-548m  hsa-mir-652  hsa-mir-220a  hsa-mir-513c  \\\n",
       "0                      -1           -1            -1            -1   \n",
       "1                      -1           -1            -1             1   \n",
       "2                       0            0             0             0   \n",
       "3                       0            0             0             0   \n",
       "4                       0            0             0             0   \n",
       "\n",
       "Hugo_Symbol  hsa-mir-513b  hsa-mir-513a-1  hsa-mir-513a-2  hsa-mir-224  \n",
       "0                      -1              -1              -1           -1  \n",
       "1                       1               1               1           -1  \n",
       "2                       0               0               0            0  \n",
       "3                       0               0               0            0  \n",
       "4                       0               0               0            0  \n",
       "\n",
       "[5 rows x 25129 columns]"
      ]
     },
     "execution_count": 5,
     "metadata": {},
     "output_type": "execute_result"
    }
   ],
   "source": [
    "full_cna_t.head(5)"
   ]
  },
  {
   "cell_type": "code",
   "execution_count": 18,
   "metadata": {},
   "outputs": [],
   "source": [
    "full_cna_t[\"index\"] = full_cna_t[\"index\"].apply(lambda x: x[:12])"
   ]
  },
  {
   "cell_type": "code",
   "execution_count": 19,
   "metadata": {},
   "outputs": [],
   "source": [
    "cond_train_cna = tcga_brca_train_id.isin(full_cna_t[\"index\"])\n",
    "overlapping_train_cna = len(tcga_brca_train_id[cond_train_cna])\n",
    "\n",
    "cond_test_cna = tcga_brca_test_id.isin(full_cna_t[\"index\"])\n",
    "overlapping_test_cna = len(tcga_brca_test_id[cond_test_cna])"
   ]
  },
  {
   "cell_type": "code",
   "execution_count": 20,
   "metadata": {},
   "outputs": [
    {
     "name": "stdout",
     "output_type": "stream",
     "text": [
      "We have 1048/1053 samples with methylation data.\n",
      " Out of these:\n",
      " 812/817 on the training set\n",
      " 236/236 on the test set\n"
     ]
    }
   ],
   "source": [
    "print(\"We have {}/{} samples with methylation data.\\n Out of these:\\n {}/{} on the training set\\n {}/{} on the test set\".format(overlapping_train_cna+overlapping_test_cna, tcga_all_n_samples, overlapping_train_cna, tcga_train_n_samples, overlapping_test_cna, tcga_test_n_samples))"
   ]
  },
  {
   "cell_type": "markdown",
   "metadata": {},
   "source": [
    "### What are the missing samples?"
   ]
  },
  {
   "cell_type": "markdown",
   "metadata": {},
   "source": [
    "#### On the training set - 5 samples"
   ]
  },
  {
   "cell_type": "code",
   "execution_count": 23,
   "metadata": {},
   "outputs": [
    {
     "data": {
      "text/plain": [
       "122    TCGA-BH-A0B6\n",
       "165    TCGA-A8-A084\n",
       "325    TCGA-A8-A09K\n",
       "566    TCGA-D8-A146\n",
       "726    TCGA-A8-A08S\n",
       "Name: tcga_id, dtype: object"
      ]
     },
     "execution_count": 23,
     "metadata": {},
     "output_type": "execute_result"
    }
   ],
   "source": [
    "tcga_brca_train_id[~cond_train_cna]"
   ]
  },
  {
   "cell_type": "markdown",
   "metadata": {},
   "source": [
    "#### On the test set - NONE"
   ]
  },
  {
   "cell_type": "code",
   "execution_count": 24,
   "metadata": {},
   "outputs": [
    {
     "data": {
      "text/plain": [
       "Series([], Name: tcga_id, dtype: object)"
      ]
     },
     "execution_count": 24,
     "metadata": {},
     "output_type": "execute_result"
    }
   ],
   "source": [
    "tcga_brca_test_id[~cond_test_cna]"
   ]
  },
  {
   "cell_type": "code",
   "execution_count": null,
   "metadata": {},
   "outputs": [],
   "source": []
  }
 ],
 "metadata": {
  "kernelspec": {
   "display_name": "thesis",
   "language": "python",
   "name": "thesis"
  },
  "language_info": {
   "codemirror_mode": {
    "name": "ipython",
    "version": 3
   },
   "file_extension": ".py",
   "mimetype": "text/x-python",
   "name": "python",
   "nbconvert_exporter": "python",
   "pygments_lexer": "ipython3",
   "version": "3.7.3"
  }
 },
 "nbformat": 4,
 "nbformat_minor": 2
}
