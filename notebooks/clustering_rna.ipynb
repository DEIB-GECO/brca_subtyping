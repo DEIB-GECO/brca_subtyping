{
 "cells": [
  {
   "cell_type": "markdown",
   "metadata": {},
   "source": [
    "## Clustering analysis of RNA data"
   ]
  },
  {
   "cell_type": "code",
   "execution_count": 1,
   "metadata": {},
   "outputs": [],
   "source": [
    "import pandas as pd\n",
    "import numpy as np\n",
    "from scipy.cluster.hierarchy import dendrogram, linkage\n",
    "import matplotlib.pyplot as plt"
   ]
  },
  {
   "cell_type": "code",
   "execution_count": 2,
   "metadata": {},
   "outputs": [],
   "source": [
    "x_brca_train = pd.read_pickle(\"../data/tcga_brca_raw_19036_row_log_norm_train.pkl\")\n",
    "y_brca_train = x_brca_train[\"Ciriello_subtype\"]\n",
    "x_brca_train.drop(['tcga_id', 'Ciriello_subtype', 'sample_id', 'cancer_type'], axis=\"columns\", inplace=True)"
   ]
  },
  {
   "cell_type": "code",
   "execution_count": 3,
   "metadata": {},
   "outputs": [
    {
     "data": {
      "text/html": [
       "<div>\n",
       "<style scoped>\n",
       "    .dataframe tbody tr th:only-of-type {\n",
       "        vertical-align: middle;\n",
       "    }\n",
       "\n",
       "    .dataframe tbody tr th {\n",
       "        vertical-align: top;\n",
       "    }\n",
       "\n",
       "    .dataframe thead th {\n",
       "        text-align: right;\n",
       "    }\n",
       "</style>\n",
       "<table border=\"1\" class=\"dataframe\">\n",
       "  <thead>\n",
       "    <tr style=\"text-align: right;\">\n",
       "      <th></th>\n",
       "      <th>A1BG</th>\n",
       "      <th>A1CF</th>\n",
       "      <th>A2M</th>\n",
       "      <th>A2ML1</th>\n",
       "      <th>A2MP1</th>\n",
       "      <th>A3GALT2</th>\n",
       "      <th>A4GALT</th>\n",
       "      <th>A4GNT</th>\n",
       "      <th>AAAS</th>\n",
       "      <th>AACS</th>\n",
       "      <th>...</th>\n",
       "      <th>ZWILCH</th>\n",
       "      <th>ZWINT</th>\n",
       "      <th>ZXDA</th>\n",
       "      <th>ZXDB</th>\n",
       "      <th>ZXDC</th>\n",
       "      <th>ZYG11A</th>\n",
       "      <th>ZYG11B</th>\n",
       "      <th>ZYX</th>\n",
       "      <th>ZZEF1</th>\n",
       "      <th>ZZZ3</th>\n",
       "    </tr>\n",
       "  </thead>\n",
       "  <tbody>\n",
       "    <tr>\n",
       "      <th>0</th>\n",
       "      <td>2.510456</td>\n",
       "      <td>0.028140</td>\n",
       "      <td>7.715284</td>\n",
       "      <td>1.461094</td>\n",
       "      <td>0.372293</td>\n",
       "      <td>0.225355</td>\n",
       "      <td>2.403970</td>\n",
       "      <td>0.061530</td>\n",
       "      <td>5.793350</td>\n",
       "      <td>6.960115</td>\n",
       "      <td>...</td>\n",
       "      <td>5.903705</td>\n",
       "      <td>6.487882</td>\n",
       "      <td>3.120146</td>\n",
       "      <td>4.879934</td>\n",
       "      <td>5.458410</td>\n",
       "      <td>3.337981</td>\n",
       "      <td>6.150583</td>\n",
       "      <td>4.955257</td>\n",
       "      <td>6.523552</td>\n",
       "      <td>6.331000</td>\n",
       "    </tr>\n",
       "    <tr>\n",
       "      <th>1</th>\n",
       "      <td>2.657545</td>\n",
       "      <td>0.131735</td>\n",
       "      <td>8.697799</td>\n",
       "      <td>6.334411</td>\n",
       "      <td>0.714290</td>\n",
       "      <td>0.028052</td>\n",
       "      <td>2.967353</td>\n",
       "      <td>0.006451</td>\n",
       "      <td>5.377308</td>\n",
       "      <td>5.430230</td>\n",
       "      <td>...</td>\n",
       "      <td>4.201788</td>\n",
       "      <td>5.843262</td>\n",
       "      <td>1.598004</td>\n",
       "      <td>3.150624</td>\n",
       "      <td>4.589208</td>\n",
       "      <td>3.475111</td>\n",
       "      <td>5.037776</td>\n",
       "      <td>7.627667</td>\n",
       "      <td>5.085828</td>\n",
       "      <td>5.159050</td>\n",
       "    </tr>\n",
       "    <tr>\n",
       "      <th>2</th>\n",
       "      <td>2.133521</td>\n",
       "      <td>0.031171</td>\n",
       "      <td>8.740598</td>\n",
       "      <td>5.763921</td>\n",
       "      <td>0.411263</td>\n",
       "      <td>0.000000</td>\n",
       "      <td>3.154296</td>\n",
       "      <td>0.093674</td>\n",
       "      <td>5.042371</td>\n",
       "      <td>5.085870</td>\n",
       "      <td>...</td>\n",
       "      <td>5.664298</td>\n",
       "      <td>6.181542</td>\n",
       "      <td>2.797198</td>\n",
       "      <td>4.219109</td>\n",
       "      <td>5.251486</td>\n",
       "      <td>4.131694</td>\n",
       "      <td>5.156545</td>\n",
       "      <td>7.888728</td>\n",
       "      <td>5.839178</td>\n",
       "      <td>6.057595</td>\n",
       "    </tr>\n",
       "    <tr>\n",
       "      <th>3</th>\n",
       "      <td>1.217436</td>\n",
       "      <td>0.012358</td>\n",
       "      <td>10.919038</td>\n",
       "      <td>0.135197</td>\n",
       "      <td>0.928360</td>\n",
       "      <td>0.068827</td>\n",
       "      <td>2.952245</td>\n",
       "      <td>0.037003</td>\n",
       "      <td>5.388060</td>\n",
       "      <td>5.766950</td>\n",
       "      <td>...</td>\n",
       "      <td>5.634331</td>\n",
       "      <td>6.951186</td>\n",
       "      <td>2.450123</td>\n",
       "      <td>4.331003</td>\n",
       "      <td>4.865360</td>\n",
       "      <td>3.480749</td>\n",
       "      <td>5.938206</td>\n",
       "      <td>9.086016</td>\n",
       "      <td>5.295436</td>\n",
       "      <td>5.737644</td>\n",
       "    </tr>\n",
       "    <tr>\n",
       "      <th>4</th>\n",
       "      <td>2.757098</td>\n",
       "      <td>0.006323</td>\n",
       "      <td>9.567252</td>\n",
       "      <td>5.861877</td>\n",
       "      <td>1.191594</td>\n",
       "      <td>0.006037</td>\n",
       "      <td>4.926423</td>\n",
       "      <td>0.084743</td>\n",
       "      <td>4.952008</td>\n",
       "      <td>5.014914</td>\n",
       "      <td>...</td>\n",
       "      <td>4.541370</td>\n",
       "      <td>4.869590</td>\n",
       "      <td>3.484438</td>\n",
       "      <td>4.865189</td>\n",
       "      <td>4.580591</td>\n",
       "      <td>2.871138</td>\n",
       "      <td>5.308459</td>\n",
       "      <td>7.627094</td>\n",
       "      <td>6.263564</td>\n",
       "      <td>5.998159</td>\n",
       "    </tr>\n",
       "  </tbody>\n",
       "</table>\n",
       "<p>5 rows × 19036 columns</p>\n",
       "</div>"
      ],
      "text/plain": [
       "       A1BG      A1CF        A2M     A2ML1     A2MP1   A3GALT2    A4GALT  \\\n",
       "0  2.510456  0.028140   7.715284  1.461094  0.372293  0.225355  2.403970   \n",
       "1  2.657545  0.131735   8.697799  6.334411  0.714290  0.028052  2.967353   \n",
       "2  2.133521  0.031171   8.740598  5.763921  0.411263  0.000000  3.154296   \n",
       "3  1.217436  0.012358  10.919038  0.135197  0.928360  0.068827  2.952245   \n",
       "4  2.757098  0.006323   9.567252  5.861877  1.191594  0.006037  4.926423   \n",
       "\n",
       "      A4GNT      AAAS      AACS  ...    ZWILCH     ZWINT      ZXDA      ZXDB  \\\n",
       "0  0.061530  5.793350  6.960115  ...  5.903705  6.487882  3.120146  4.879934   \n",
       "1  0.006451  5.377308  5.430230  ...  4.201788  5.843262  1.598004  3.150624   \n",
       "2  0.093674  5.042371  5.085870  ...  5.664298  6.181542  2.797198  4.219109   \n",
       "3  0.037003  5.388060  5.766950  ...  5.634331  6.951186  2.450123  4.331003   \n",
       "4  0.084743  4.952008  5.014914  ...  4.541370  4.869590  3.484438  4.865189   \n",
       "\n",
       "       ZXDC    ZYG11A    ZYG11B       ZYX     ZZEF1      ZZZ3  \n",
       "0  5.458410  3.337981  6.150583  4.955257  6.523552  6.331000  \n",
       "1  4.589208  3.475111  5.037776  7.627667  5.085828  5.159050  \n",
       "2  5.251486  4.131694  5.156545  7.888728  5.839178  6.057595  \n",
       "3  4.865360  3.480749  5.938206  9.086016  5.295436  5.737644  \n",
       "4  4.580591  2.871138  5.308459  7.627094  6.263564  5.998159  \n",
       "\n",
       "[5 rows x 19036 columns]"
      ]
     },
     "execution_count": 3,
     "metadata": {},
     "output_type": "execute_result"
    }
   ],
   "source": [
    "x_brca_train.head()"
   ]
  },
  {
   "cell_type": "code",
   "execution_count": 5,
   "metadata": {},
   "outputs": [
    {
     "name": "stdout",
     "output_type": "stream",
     "text": [
      "z has 816 rows\n"
     ]
    }
   ],
   "source": [
    "z = linkage(x_brca_train, 'single', 'correlation')\n",
    "print('z has %d rows'%(z.shape[0]))"
   ]
  },
  {
   "cell_type": "code",
   "execution_count": 9,
   "metadata": {},
   "outputs": [
    {
     "data": {
      "image/png": "[encoded data removed]",
      "text/plain": [
       "<Figure size 432x288 with 1 Axes>"
      ]
     },
     "metadata": {
      "needs_background": "light"
     },
     "output_type": "display_data"
    }
   ],
   "source": [
    "plt.title('Hierarchical Clustering Dendrogram (truncated to the last 100 merged clusters)')\n",
    "font = {'family' : 'sans', 'size'   : 18}\n",
    "plt.rc('font', **font)\n",
    "plt.xlabel('sample index')\n",
    "plt.ylabel('distance')\n",
    "dendrogram(\n",
    "    z,\n",
    "    truncate_mode='lastp',  # show only the last p merged clusters\n",
    "    p=100,  # show only the last p merged clusters\n",
    "    show_leaf_counts=False,  # otherwise numbers in brackets are counts\n",
    "    leaf_rotation=90.,\n",
    "    leaf_font_size=12.,\n",
    "    show_contracted=True,  # to get a distribution impression in truncated branches\n",
    ")\n",
    "plt.show()"
   ]
  },
  {
   "cell_type": "code",
   "execution_count": null,
   "metadata": {},
   "outputs": [],
   "source": []
  }
 ],
 "metadata": {
  "kernelspec": {
   "display_name": "Python 3",
   "language": "python",
   "name": "python3"
  },
  "language_info": {
   "codemirror_mode": {
    "name": "ipython",
    "version": 3
   },
   "file_extension": ".py",
   "mimetype": "text/x-python",
   "name": "python",
   "nbconvert_exporter": "python",
   "pygments_lexer": "ipython3",
   "version": "3.7.4"
  }
 },
 "nbformat": 4,
 "nbformat_minor": 2
}
